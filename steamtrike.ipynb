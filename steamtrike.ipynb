{
  "cells": [
    {
      "cell_type": "markdown",
      "metadata": {},
      "source": [
        "# <a id='toc1_'></a>[Steam Trike Calculations](#toc0_)\n",
        "Like many design tasks, sizing the various components of the steam trike is an iterative process. We start with certain assumed parameters and goals, then develop cylinder and accumulator dimensions. These, in turn, affect piping and generator design. At various points in the design, we can compare the results against the initial assumptions and adjust.\n",
        "\n",
        "In this notebook, we start with one set of assumed parameters as a demonstration, but develop the code in a way that we can evaluate different sets of parameters easily."
      ]
    },
    {
      "cell_type": "markdown",
      "metadata": {},
      "source": [
        "**Table of contents**<a id='toc0_'></a>    \n",
        "- [Steam Trike Calculations](#toc1_)    \n",
        "  - [Initial Parameters](#toc1_1_)    \n",
        "    - [Steam Pressure](#toc1_1_1_)    \n",
        "    - [Vehicle Weight](#toc1_1_2_)    \n",
        "  - [Required Performance](#toc1_2_)    \n",
        "    - [Maximum Velocity](#toc1_2_1_)    \n",
        "    - [Acceleration](#toc1_2_2_)    \n",
        "      - [Normal Acceleration Data](#toc1_2_2_1_)    \n",
        "      - [0-60 MPH Time Data](#toc1_2_2_2_)    \n",
        "      - [Selection](#toc1_2_2_3_)    \n",
        "  - [Drivetrain Dimensions](#toc1_3_)    \n",
        "    - [Max RPM / Wheel Diameter](#toc1_3_1_)    \n",
        "    - [Required Force at Roadway](#toc1_3_2_)    \n",
        "    - [Required Cylinder Dimensions](#toc1_3_3_)    \n",
        "  - [Miscellaneous Drivetrain Parameters](#toc1_4_)    \n",
        "    - [Piston Speed](#toc1_4_1_)    \n",
        "    - [Crosshead Force](#toc1_4_2_)    \n",
        "  - [Steam System Sizing](#toc1_5_)    \n",
        "    - [Maximum Steam Rate](#toc1_5_1_)    \n",
        "    - [Steam Inlet Pipe Sizing](#toc1_5_2_)    \n",
        "    - [Steam Exhaust Port/Pipe Sizing](#toc1_5_3_)    \n",
        "    - [Accumulator Sizing](#toc1_5_4_)    \n",
        "    - [Steam Generator Sizing](#toc1_5_5_)    \n",
        "    - [TODO: Generator Coil Dimensions](#toc1_5_6_)    \n",
        "  - [Evalution of Initial Iteration](#toc1_6_)    \n",
        "- [Iterations](#toc2_)    \n",
        "\n",
        "<!-- vscode-jupyter-toc-config\n",
        "\tnumbering=false\n",
        "\tanchor=true\n",
        "\tflat=false\n",
        "\tminLevel=1\n",
        "\tmaxLevel=6\n",
        "\t/vscode-jupyter-toc-config -->\n",
        "<!-- THIS CELL WILL BE REPLACED ON TOC UPDATE. DO NOT WRITE YOUR TEXT IN THIS CELL -->"
      ]
    },
    {
      "cell_type": "code",
      "execution_count": 1,
      "metadata": {
        "colab": {
          "base_uri": "https://localhost:8080/"
        },
        "id": "25iAbNxlNq0V",
        "outputId": "a5d5cb30-1c41-4bb3-f4ab-ce4795040732"
      },
      "outputs": [
        {
          "name": "stdout",
          "output_type": "stream",
          "text": [
            "Requirement already satisfied: pint in c:\\users\\click\\anaconda3\\lib\\site-packages (0.22)\n",
            "Requirement already satisfied: typing-extensions in c:\\users\\click\\anaconda3\\lib\\site-packages (from pint) (4.7.1)\n",
            "Note: you may need to restart the kernel to use updated packages.\n",
            "Requirement already satisfied: pyXSteam in c:\\users\\click\\anaconda3\\lib\\site-packages (0.4.9)\n",
            "Note: you may need to restart the kernel to use updated packages.\n"
          ]
        }
      ],
      "source": [
        "# initial setup\n",
        "%pip install pint\n",
        "%pip install pyXSteam\n",
        "import numpy as np\n",
        "import pandas as pd\n",
        "import pint                                 # units library\n",
        "from pyntXSteam import pyntXSteam           # pint wrapper for steam library pyXSteam\n",
        "ureg = pint.UnitRegistry()                  # initialize pint units registry for this notebook\n",
        "ureg.autoconvert_offset_to_baseunit = True  # disable relative temperature units\n",
        "ureg.default_format = \"~0.2fP\"              # enable pretty unit outputs\n",
        "steam = pyntXSteam(ureg)                    # initialize steam library with pint registry\n",
        "x = {\"iteration\": \"initial\"}                # iteration parameters"
      ]
    },
    {
      "cell_type": "markdown",
      "metadata": {},
      "source": [
        "## <a id='toc1_1_'></a>[Initial Parameters](#toc0_)\n",
        "### <a id='toc1_1_1_'></a>[Steam Pressure](#toc0_)\n",
        "The steam pressure for the system directly affects the design of the entire machine. We assume a maximum allowable working pressure (MAWP) of 150 psi; components like tanks, valves, and fittings are readily available with this rating. Max steam pressure in the accumulator is further limited by the fact that ASME Section VIII safety relief valves start venting at 10% below MAWP, or 135 psi. A pressure deadband then defines the operating pressure range for the system and we can find the average pressure."
      ]
    },
    {
      "cell_type": "code",
      "execution_count": 2,
      "metadata": {
        "id": "ayy2sG3ANq0W"
      },
      "outputs": [
        {
          "data": {
            "text/html": [
              "115.0 lbf/in<sup>2</sup>"
            ],
            "text/latex": [
              "$115.0\\ \\frac{\\mathrm{lbf}}{\\mathrm{in}^{2}}$"
            ],
            "text/plain": [
              "115.0 <Unit('force_pound / inch ** 2')>"
            ]
          },
          "execution_count": 2,
          "metadata": {},
          "output_type": "execute_result"
        }
      ],
      "source": [
        "x['max_pressure'] = 135 * ureg('lbf/in**2')  \n",
        "x['pressure_deadband'] = 40 * ureg('lbf/in**2')\n",
        "def avg_pressure(y):\n",
        "    value = y['max_pressure'] - (y['pressure_deadband'] / 2)\n",
        "\n",
        "    value = value.to('lbf/in**2')\n",
        "    y['avg_pressure'] = value\n",
        "    return value\n",
        "avg_pressure(x)"
      ]
    },
    {
      "cell_type": "code",
      "execution_count": 3,
      "metadata": {},
      "outputs": [
        {
          "data": {
            "text/html": [
              "95.0 lbf/in<sup>2</sup>"
            ],
            "text/latex": [
              "$95.0\\ \\frac{\\mathrm{lbf}}{\\mathrm{in}^{2}}$"
            ],
            "text/plain": [
              "95.0 <Unit('force_pound / inch ** 2')>"
            ]
          },
          "execution_count": 3,
          "metadata": {},
          "output_type": "execute_result"
        }
      ],
      "source": [
        "def min_pressure(y):\n",
        "    value = y['max_pressure'] - y['pressure_deadband']\n",
        "\n",
        "    value = value.to('lbf/in**2')\n",
        "    y['min_pressure'] = value\n",
        "    return value\n",
        "min_pressure(x)"
      ]
    },
    {
      "cell_type": "markdown",
      "metadata": {},
      "source": [
        "### <a id='toc1_1_2_'></a>[Vehicle Weight](#toc0_)\n",
        "As is always the case for iterative design, we have to start with a huge assumption about the system that won't be confirmed or disconfrimed until the other end of the calculation and design process. Based on others' homebuilt vehicle projects, we can assume a target weight, which includes the vehicle, fuel/water, passengers, and any cargo."
      ]
    },
    {
      "cell_type": "code",
      "execution_count": 4,
      "metadata": {},
      "outputs": [],
      "source": [
        "x['trike_weight'] = 2000 * ureg('lb')"
      ]
    },
    {
      "cell_type": "markdown",
      "metadata": {},
      "source": [
        "## <a id='toc1_2_'></a>[Required Performance](#toc0_)\n",
        "### <a id='toc1_2_1_'></a>[Maximum Velocity](#toc0_)\n",
        "We select a target maximum velocity based on a reasonable use case, like highway but not freeway travel"
      ]
    },
    {
      "cell_type": "code",
      "execution_count": 5,
      "metadata": {},
      "outputs": [],
      "source": [
        "x['max_velocity'] = 55 * ureg('mi/hr')"
      ]
    },
    {
      "cell_type": "markdown",
      "metadata": {},
      "source": [
        "### <a id='toc1_2_2_'></a>[Acceleration](#toc0_)\n",
        "#### <a id='toc1_2_2_1_'></a>[Normal Acceleration Data](#toc0_)\n",
        "We want acceleration behavior compatible with traffic, so we can look at published data for conventional road vehicles. The data shown in Figures 1 and 2 are for consumer vehicles accelerating in normal traffic, not the maximum acceleration the vehicles are capable of. Thus, we want to target a value on the high end to reflect extra capacity available for \"flooring it\"."
      ]
    },
    {
      "cell_type": "markdown",
      "metadata": {
        "id": "detchGDkNq0Y"
      },
      "source": [
        "\n",
        "<div align=\"center\">\n",
        "<img src=\"fig5e.PNG\" width=\"400\"/><br />\n",
        "Fig 1. Acceleration vs speed of various gasoline vehicles. Graph, \"Scatter plots of acceleration-speed,\" from P.S.Bokare and A.K.Maurya, Acceleration-Deceleration Behaviour of Various Vehicle Types, page 10, figure 5(e).\n",
        "</div><br />\n",
        "<div align=\"center\">\n",
        "<img src=\"fig6e.PNG\" width=\"400\"/><br />\n",
        "Fig 2. Idealized acceleration vs speed of gasoline vehicles. Graph, \"Idealized plot of acceleration with speed for all vehicle types,\" from P.S.Bokare and A.K.Maurya, Acceleration-Deceleration Behaviour of Various Vehicle Types, page 11, figure 6(e).\n",
        "</div><br />"
      ]
    },
    {
      "cell_type": "markdown",
      "metadata": {},
      "source": [
        "\n",
        "The acceleration curves for these conventional vehicles include gear shifts and will not represent the curve for the steam trike. Instead, we are looking to have a comparable acceleration from a stop.\n",
        "\n",
        "Candidate `max_accel` = 2 \\[m/s^2\\] ≅ 6.5 \\[ft/s^2\\]\n",
        "\n",
        "#### <a id='toc1_2_2_2_'></a>[0-60 MPH Time Data](#toc0_)\n",
        "0-60 MPH times for vehicles represent maximum acceleration, which is what we want. However, because car acceleration varies as the car accelerates, you're looking at an average max acceleration instead of the highest instantaneous acceleration. Data from ZeroTo60Times.com.\n",
        "\n",
        "| Prototype | 0-60 MPH Time (s) | Acceleration (ft/s^2) |\n",
        "| --- | --- | --- |\n",
        "| 1998 Chevrolet Metro Hatchback | 15.9 | 5.5 |\n",
        "| 2014 Nissan Versa Note SV Hatchback | 10.2 | 8.6 |\n",
        "| 2015 Honda Fit EX | 7.8 | 11.3 |\n",
        "\n",
        "#### <a id='toc1_2_2_3_'></a>[Selection](#toc0_)\n",
        "We see that the candidate max_accel from normal vehicle acceleration is lower than the max acceleration of our candidate vehicles, except for the Geo Metro, which matches my personal experiences with the Geo Metro. Given that we are looking for a usable max acceleration target, let's use a value slightly faster than the Geo."
      ]
    },
    {
      "cell_type": "code",
      "execution_count": 6,
      "metadata": {
        "id": "v8SbmExlNq0Y"
      },
      "outputs": [],
      "source": [
        "x['max_accel'] = 7.0 * ureg('ft/s**2')"
      ]
    },
    {
      "cell_type": "markdown",
      "metadata": {},
      "source": [
        "## <a id='toc1_3_'></a>[Drivetrain Dimensions](#toc0_)\n",
        "### <a id='toc1_3_1_'></a>[Max RPM / Wheel Diameter](#toc0_)\n",
        "What's the maximum RPM we can expect to be able to achieve with the reciprocating engine? Common practice says 250-500 RPM, but we can check top RPMs of prototypical locomotives and steam cars.\n",
        "\n",
        "| Prototype | Purpose | Max Speed (mi/hr) | Driver Diameter (in) | rev/min | Piston Stroke (in) | Max Piston Speed (ft/s) |\n",
        "| --- | --- | --- | --- | --- | --- | --- |\n",
        "| UP 844 | Passenger | 120 | 80 | 504 | 32 | 11.2 |\n",
        "| UP 4014 | Freight | 80 | 68 | 395 | 32 | 8.8 |\n",
        "| Reading 2102 | Freight | 80 | 70 | 384 | 32 | 8.5 |\n",
        "| PM 1225 | Freight | 70 | 69 | 341 | 34 | 8.0 |\n",
        "| N&W 611 | Passenger | 110 | 70 | 528 | 32 | 11.7 |\n",
        "| SP 4449 | Passenger | 110 | 80 | 462 | 32 | 10.3 |\n",
        "| SF 3751 | Passenger | 100 | 80 | 420 | 30 | 8.8 |\n",
        "| NYC & HRR 999 | Passenger | 100 | 86.5 | 388 | 24 | 6.5 |\n",
        "| GTW 5629 | Passenger | 80 | 73 | 368 | 28 | 7.2 |\n",
        "| Stanley Steam Car | Automobile | 60 | (N/A) | 900 | 5 | 3.1 |\n",
        "| Doble Steam Car | Automobile | 70 | (N/A) | 900 | 4 | 2.5 |\n"
      ]
    },
    {
      "cell_type": "code",
      "execution_count": 7,
      "metadata": {
        "id": "XbdBBHjPNq0W"
      },
      "outputs": [],
      "source": [
        "x['max_rpm'] = 350 * ureg('1/min')           # Conservative bet for larger reciprocating steam engine"
      ]
    },
    {
      "cell_type": "markdown",
      "metadata": {},
      "source": [
        "With maximum RPM and maximum velocity, we can calculate the wheel diameter."
      ]
    },
    {
      "cell_type": "code",
      "execution_count": 8,
      "metadata": {
        "colab": {
          "base_uri": "https://localhost:8080/",
          "height": 34
        },
        "id": "KuqONMYHNq0W",
        "outputId": "c4cf8ae3-0d61-4128-f725-70418a8ee1e6"
      },
      "outputs": [
        {
          "data": {
            "text/html": [
              "52.821251970155906 in"
            ],
            "text/latex": [
              "$52.821251970155906\\ \\mathrm{in}$"
            ],
            "text/plain": [
              "52.821251970155906 <Unit('inch')>"
            ]
          },
          "execution_count": 8,
          "metadata": {},
          "output_type": "execute_result"
        }
      ],
      "source": [
        "def wheel_dia(y):\n",
        "    value = y['max_velocity'] / y['max_rpm'] / np.pi\n",
        "\n",
        "    value = value.to('in')\n",
        "    y['wheel_dia'] = value\n",
        "    return value\n",
        "wheel_dia(x)"
      ]
    },
    {
      "cell_type": "markdown",
      "metadata": {},
      "source": [
        "### <a id='toc1_3_2_'></a>[Required Force at Roadway](#toc0_)\n",
        "Required force on the road to accelerate `trike_weight` by `max_accel`"
      ]
    },
    {
      "cell_type": "code",
      "execution_count": 9,
      "metadata": {
        "colab": {
          "base_uri": "https://localhost:8080/",
          "height": 34
        },
        "id": "kqm67QV2Nq0Z",
        "outputId": "76f9fbcf-1c03-42b5-fd85-7e0f0893e0cd"
      },
      "outputs": [
        {
          "data": {
            "text/html": [
              "435.13330240194153 lbf"
            ],
            "text/latex": [
              "$435.13330240194153\\ \\mathrm{lbf}$"
            ],
            "text/plain": [
              "435.13330240194153 <Unit('force_pound')>"
            ]
          },
          "execution_count": 9,
          "metadata": {},
          "output_type": "execute_result"
        }
      ],
      "source": [
        "def road_force(y):\n",
        "    value = y['trike_weight'] * y['max_accel']\n",
        "\n",
        "    value = value.to('lbf')\n",
        "    y['road_force'] = value\n",
        "    return value\n",
        "road_force(x)"
      ]
    },
    {
      "cell_type": "markdown",
      "metadata": {},
      "source": [
        "### <a id='toc1_3_3_'></a>[Required Cylinder Dimensions](#toc0_)\n",
        "The mean tractive force of a two cylinder engine, at 90 percent cutoff, with the cylinders 90 degrees out of phase is given by:\n",
        "\n",
        "F = K2 * K3 * avg_pressure * cyl_volume / wheel_dia\n",
        "* K2 = 1.2 - The ratio of mean torque of two identical piston-crank assemblies 90 degrees out of phase to the peak torque of one of the piston-crank assemblies (Jeffrey Hook, Fundamentals of Steam Locomotive Tractive Force, page 7)\n",
        "* K3 = 0.9 - A fudge factor to account for pressure loss between the boiler and the cylinder (Hook)\n",
        "* cyl_volume - The swept volume of the cylinder\n",
        "\n",
        "We will solve for the swept volume of the cylinder,"
      ]
    },
    {
      "cell_type": "code",
      "execution_count": 10,
      "metadata": {
        "colab": {
          "base_uri": "https://localhost:8080/",
          "height": 37
        },
        "id": "cpTVnvIsNq0a",
        "outputId": "22859352-a336-4fca-f16d-19824e3960c4"
      },
      "outputs": [
        {
          "data": {
            "text/html": [
              "215.852423228881 in<sup>3</sup>"
            ],
            "text/latex": [
              "$215.852423228881\\ \\mathrm{in}^{3}$"
            ],
            "text/plain": [
              "215.852423228881 <Unit('inch ** 3')>"
            ]
          },
          "execution_count": 10,
          "metadata": {},
          "output_type": "execute_result"
        }
      ],
      "source": [
        "def cyl_volume(y):\n",
        "    value = road_force(y) * wheel_dia(y) * 1.2 * 0.9 / y['avg_pressure']\n",
        "\n",
        "    value = value.to('in**3')\n",
        "    y['cyl_volume'] = value\n",
        "    return value\n",
        "cyl_volume(x)"
      ]
    },
    {
      "cell_type": "markdown",
      "metadata": {},
      "source": [
        "We set cylinder bore as a parameter and calculate stroke."
      ]
    },
    {
      "cell_type": "code",
      "execution_count": 11,
      "metadata": {
        "colab": {
          "base_uri": "https://localhost:8080/",
          "height": 34
        },
        "id": "nsA_uO4DNq0a",
        "outputId": "bad95cbc-d9b7-42db-a66a-96e19743bbe3"
      },
      "outputs": [
        {
          "data": {
            "text/html": [
              "10.993273643276884 in"
            ],
            "text/latex": [
              "$10.993273643276884\\ \\mathrm{in}$"
            ],
            "text/plain": [
              "10.993273643276884 <Unit('inch')>"
            ]
          },
          "execution_count": 11,
          "metadata": {},
          "output_type": "execute_result"
        }
      ],
      "source": [
        "x['cyl_bore'] = 5.0 * ureg('in')\n",
        "def cyl_stroke(y):\n",
        "    value = cyl_volume(y) / (y['cyl_bore']**2 * np.pi / 4)\n",
        "\n",
        "    value = value.to('in')\n",
        "    y['cyl_stroke'] = value\n",
        "    return value\n",
        "cyl_stroke(x)"
      ]
    },
    {
      "cell_type": "markdown",
      "metadata": {},
      "source": [
        "## <a id='toc1_4_'></a>[Miscellaneous Drivetrain Parameters](#toc0_)\n",
        "### <a id='toc1_4_1_'></a>[Piston Speed](#toc0_)\n",
        "Max piston speed is important for seal selection."
      ]
    },
    {
      "cell_type": "code",
      "execution_count": 12,
      "metadata": {},
      "outputs": [
        {
          "data": {
            "text/html": [
              "2.671976232740909 ft/s"
            ],
            "text/latex": [
              "$2.671976232740909\\ \\frac{\\mathrm{ft}}{\\mathrm{s}}$"
            ],
            "text/plain": [
              "2.671976232740909 <Unit('foot / second')>"
            ]
          },
          "execution_count": 12,
          "metadata": {},
          "output_type": "execute_result"
        }
      ],
      "source": [
        "def max_piston_speed(y):\n",
        "    value = y['max_rpm'] * cyl_stroke(y) / 2\n",
        "\n",
        "    value = value.to('ft/s')\n",
        "    y['max_piston_speed'] = value\n",
        "    return value\n",
        "max_piston_speed(x)\n"
      ]
    },
    {
      "cell_type": "markdown",
      "metadata": {},
      "source": [
        "### <a id='toc1_4_2_'></a>[Crosshead Force](#toc0_)\n",
        "We can find the maximum force on the crosshead by specifying a connecting rod length. This is important for designing the crosshead bearing. "
      ]
    },
    {
      "cell_type": "code",
      "execution_count": 13,
      "metadata": {},
      "outputs": [
        {
          "data": {
            "text/html": [
              "280.1930493836436 lbf"
            ],
            "text/latex": [
              "$280.1930493836436\\ \\mathrm{lbf}$"
            ],
            "text/plain": [
              "280.1930493836436 <Unit('force_pound')>"
            ]
          },
          "execution_count": 13,
          "metadata": {},
          "output_type": "execute_result"
        }
      ],
      "source": [
        "x['conn_rod_length'] = 52 * ureg('in')\n",
        "def max_crosshead_force(y):\n",
        "    max_piston_force = (y['avg_pressure'] + (y['pressure_deadband'] / 2)) * (y['cyl_bore'] ** 2) * np.pi / 4\n",
        "    max_angle = np.arctan((y['cyl_stroke'] / 2)/ y['conn_rod_length'])\n",
        "    max_moment = max_piston_force * y['conn_rod_length'] * np.sin(max_angle)\n",
        "    value = max_moment / (y['conn_rod_length'] * np.cos(max_angle))\n",
        "\n",
        "    value = value.to('lbf')\n",
        "    y['max_crosshead_force'] = value\n",
        "    return value\n",
        "max_crosshead_force(x)"
      ]
    },
    {
      "cell_type": "markdown",
      "metadata": {},
      "source": [
        "## <a id='toc1_5_'></a>[Steam System Sizing](#toc0_)\n",
        "### <a id='toc1_5_1_'></a>[Maximum Steam Rate](#toc0_)\n",
        "Maximum steam rate occurs at max power output, so we need to define a reasonable target. Let's define max power as the power required to go up a target slope at full speed.\n",
        "\n",
        "In the vicininity of Austin, Ranch Road 2222 encounters a hill of 10% slope for most of a mile as shown in Figure 3. Not far from there, Figure 4 shows that Spicewood Springs has a 15% slope for ~500 ft. Many vehicles struggle to maintain speed going up that slope. Let's design for the longer slope and allow the energy in the accumulator to handle short bursts like Spicewood Springs.\n",
        "\n",
        "<div align=\"center\">\n",
        "<img src=\"2222slope.PNG\" width=\"400\"/><br />\n",
        "Fig 3. Google Earth Pro elevation profile for RM 2222 between Loop 360 and FM 620.\n",
        "</div><br />\n",
        "<div align=\"center\">\n",
        "<img src=\"spicewoodslope.PNG\" width=\"400\"/><br />\n",
        "Fig 4. Google Earth Pro elevation profile for Spicewood Springs Road near Loop 360.\n",
        "</div><br />\n",
        "\n",
        "We neglect air resistance for this calculation, and assume the throttle is full open but cutoff has been linked up. This means that on each stroke, a certain volume of steam is admitted at the full pressure available to the cylinder, then allowed to expand to an exhaust pressure. This represents the best possible efficiency. We can assume isentropic expansion to find the mass of steam required to produce the energy per stroke required to maintain speed up the target slope."
      ]
    },
    {
      "cell_type": "code",
      "execution_count": 14,
      "metadata": {},
      "outputs": [
        {
          "data": {
            "text/html": [
              "11.948473635663618 lb/min"
            ],
            "text/latex": [
              "$11.948473635663618\\ \\frac{\\mathrm{lb}}{\\mathrm{min}}$"
            ],
            "text/plain": [
              "11.948473635663618 <Unit('pound / minute')>"
            ]
          },
          "execution_count": 14,
          "metadata": {},
          "output_type": "execute_result"
        }
      ],
      "source": [
        "\n",
        "x['max_road_slope'] = 0.10\n",
        "def max_steam_mass_rate(y):\n",
        "    slope_rad = np.arctan(y['max_road_slope'])\n",
        "    # convert trike_weight to force (assume Earth)\n",
        "    slope_force = (y['trike_weight'].to('lb').magnitude * ureg('lbf')) * np.sin(slope_rad)\n",
        "    slope_power = slope_force * y['max_velocity']\n",
        "    stroke_energy = slope_power / y['max_rpm'] / 4\n",
        "    # convert avg_pressure into absolute pressure, \n",
        "    # taking into account pressure loss between boiler and cylinder per Hook's approximation\n",
        "    p1 = y['avg_pressure'] * 0.9 + (1 * ureg('atm'))\n",
        "    p2 = 1 * ureg('atm') + 10 * ureg('lbf/in**2')\n",
        "    u1 = steam.uV_p(p1)\n",
        "    # assume isentropic expansion\n",
        "    s = steam.sV_p(p1)\n",
        "    u2 = steam.u_ps(p2, s)\n",
        "    stroke_mass = stroke_energy / (u1 - u2)\n",
        "    value =  stroke_mass * 4 * y['max_rpm']\n",
        "    \n",
        "    value = value.to('lb/min')\n",
        "    y['max_steam_mass_rate'] = value\n",
        "    return value\n",
        "max_steam_mass_rate(x)"
      ]
    },
    {
      "cell_type": "code",
      "execution_count": 15,
      "metadata": {
        "colab": {
          "base_uri": "https://localhost:8080/",
          "height": 34
        },
        "id": "kstrhAw0Nq0c",
        "outputId": "9f3e58b8-7dba-4309-9cf7-fd045e55d1b5"
      },
      "outputs": [
        {
          "data": {
            "text/html": [
              "1.435981880251367 gal/min"
            ],
            "text/latex": [
              "$1.435981880251367\\ \\frac{\\mathrm{gal}}{\\mathrm{min}}$"
            ],
            "text/plain": [
              "1.435981880251367 <Unit('gallon / minute')>"
            ]
          },
          "execution_count": 15,
          "metadata": {},
          "output_type": "execute_result"
        }
      ],
      "source": [
        "def max_steam_liquid_rate(y):\n",
        "    value = max_steam_mass_rate(y) * steam.v_pt(1 * ureg('atm'), 25 * ureg('degC'))\n",
        "    \n",
        "    value = value.to('gal/min')\n",
        "    y['mass_steam_liquid_rate'] = value\n",
        "    return value\n",
        "max_steam_liquid_rate(x)"
      ]
    },
    {
      "cell_type": "markdown",
      "metadata": {},
      "source": [
        "### <a id='toc1_5_2_'></a>[Steam Inlet Pipe Sizing](#toc0_)\n",
        "Standard practice is to size steam lines according to velocity. Spirax Sarco's [piping guide](https://www.spiraxsarco.com/learn-about-steam/steam-distribution/pipes-and-pipe-sizing) suggests a range of 25-40 m/s (82-131 ft/s). We can establish a minimum internal diameter for total flow through a single pipe (for example, for flow out of the accumulator), as well as for double pipes (after flow is split to each cylinder). "
      ]
    },
    {
      "cell_type": "code",
      "execution_count": 16,
      "metadata": {},
      "outputs": [
        {
          "data": {
            "text/html": [
              "1.0637991281329275 in"
            ],
            "text/latex": [
              "$1.0637991281329275\\ \\mathrm{in}$"
            ],
            "text/plain": [
              "1.0637991281329275 <Unit('inch')>"
            ]
          },
          "execution_count": 16,
          "metadata": {},
          "output_type": "execute_result"
        }
      ],
      "source": [
        "def single_inlet_pipe_dia(y):\n",
        "    specific_volume = steam.vV_p(y['min_pressure'] + 1 * ureg('atm'))\n",
        "    area = max_steam_mass_rate(y) * specific_volume / (131 * ureg('ft/s'))\n",
        "    value = np.sqrt(4 * area / np.pi)\n",
        "\n",
        "    value = value.to('in')\n",
        "    y['single_pipe_dia'] = value\n",
        "    return value\n",
        "single_inlet_pipe_dia(x)\n"
      ]
    },
    {
      "cell_type": "code",
      "execution_count": 17,
      "metadata": {},
      "outputs": [
        {
          "data": {
            "text/html": [
              "0.7522195773231302 in"
            ],
            "text/latex": [
              "$0.7522195773231302\\ \\mathrm{in}$"
            ],
            "text/plain": [
              "0.7522195773231302 <Unit('inch')>"
            ]
          },
          "execution_count": 17,
          "metadata": {},
          "output_type": "execute_result"
        }
      ],
      "source": [
        "def double_inlet_pipe_dia(y):\n",
        "    specific_volume = steam.vV_p(y['min_pressure'] + 1 * ureg('atm'))\n",
        "    area = max_steam_mass_rate(y) / 2 * specific_volume / (131 * ureg('ft/s'))\n",
        "    value = np.sqrt(4 * area / np.pi)\n",
        "\n",
        "    value = value.to('in')\n",
        "    y['double_pipe_dia'] = value\n",
        "    return value\n",
        "double_inlet_pipe_dia(x)"
      ]
    },
    {
      "cell_type": "markdown",
      "metadata": {},
      "source": [
        "### <a id='toc1_5_3_'></a>[Steam Exhaust Port/Pipe Sizing](#toc0_)\n",
        "At exhaust, the steam can be assumed to be around ~10 psi. Since the cylinder ports must pass both inlet and exhaust steam, they are sized for the larger area required for exhaust. We can also calculate the pipe diameter needed for each cylinder's exhaust line."
      ]
    },
    {
      "cell_type": "code",
      "execution_count": 18,
      "metadata": {},
      "outputs": [
        {
          "data": {
            "text/html": [
              "1.8053152085046982 in<sup>2</sup>"
            ],
            "text/latex": [
              "$1.8053152085046982\\ \\mathrm{in}^{2}$"
            ],
            "text/plain": [
              "1.8053152085046982 <Unit('inch ** 2')>"
            ]
          },
          "execution_count": 18,
          "metadata": {},
          "output_type": "execute_result"
        }
      ],
      "source": [
        "def cyl_port_area(y):\n",
        "    specific_volume = steam.vV_p(10 * ureg('psi') + 1 * ureg('atm'))\n",
        "    value = max_steam_mass_rate(y) / 2 * specific_volume / (131 * ureg('ft/s'))\n",
        "\n",
        "    value = value.to('in**2')\n",
        "    y['cyl_port_area'] = value\n",
        "    return value\n",
        "cyl_port_area(x)"
      ]
    },
    {
      "cell_type": "code",
      "execution_count": 19,
      "metadata": {},
      "outputs": [
        {
          "data": {
            "text/html": [
              "1.5161130281677513 in"
            ],
            "text/latex": [
              "$1.5161130281677513\\ \\mathrm{in}$"
            ],
            "text/plain": [
              "1.5161130281677513 <Unit('inch')>"
            ]
          },
          "execution_count": 19,
          "metadata": {},
          "output_type": "execute_result"
        }
      ],
      "source": [
        "def double_exhaust_pipe_dia(y):\n",
        "    specific_volume = steam.vV_p(10 * ureg('psi') + 1 * ureg('atm'))\n",
        "    area = max_steam_mass_rate(y) / 2 * specific_volume / (131 * ureg('ft/s'))\n",
        "    value = np.sqrt(4 * area / np.pi)\n",
        "\n",
        "    value = value.to('in')\n",
        "    y['double_pipe_dia'] = value\n",
        "    return value\n",
        "double_exhaust_pipe_dia(x)"
      ]
    },
    {
      "cell_type": "markdown",
      "metadata": {},
      "source": [
        "### <a id='toc1_5_4_'></a>[Accumulator Sizing](#toc0_)\n",
        "We can use the mass flow at average boiler pressure to determine how long the accumulator will last at max steam rate when discharging from the top to the bottom of the pressure deadband."
      ]
    },
    {
      "cell_type": "code",
      "execution_count": 20,
      "metadata": {},
      "outputs": [
        {
          "data": {
            "text/html": [
              "3.0707300331927545 lb"
            ],
            "text/latex": [
              "$3.0707300331927545\\ \\mathrm{lb}$"
            ],
            "text/plain": [
              "3.0707300331927545 <Unit('pound')>"
            ]
          },
          "execution_count": 20,
          "metadata": {},
          "output_type": "execute_result"
        }
      ],
      "source": [
        "x['accum_capacity'] = 15 * ureg('gal')\n",
        "def accum_steam_mass(y):\n",
        "    max_p = y['avg_pressure'] + y['pressure_deadband'] / 2\n",
        "    min_p = y['avg_pressure'] - y['pressure_deadband'] / 2\n",
        "    # assume accumulator is 90% full of saturated water when charged\n",
        "    liquid_volume = y['accum_capacity'] * 0.9\n",
        "    liquid_mass = liquid_volume / steam.vL_p(max_p)\n",
        "    # using equation 3.22.1 from the Spirax Sarco guide\n",
        "    delta_h = steam.hL_p(max_p) - steam.hL_p(min_p)\n",
        "    value = delta_h * liquid_mass / (steam.hV_p(min_p) - steam.hL_p(min_p))\n",
        "\n",
        "    value = value.to('lb')\n",
        "    y['accum_steam_mass'] = value\n",
        "    return value\n",
        "accum_steam_mass(x)"
      ]
    },
    {
      "cell_type": "code",
      "execution_count": 21,
      "metadata": {},
      "outputs": [
        {
          "data": {
            "text/html": [
              "15.41986094706166 s"
            ],
            "text/latex": [
              "$15.41986094706166\\ \\mathrm{s}$"
            ],
            "text/plain": [
              "15.41986094706166 <Unit('second')>"
            ]
          },
          "execution_count": 21,
          "metadata": {},
          "output_type": "execute_result"
        }
      ],
      "source": [
        "def accum_buffer_time(y):\n",
        "    value = accum_steam_mass(y) / max_steam_mass_rate(y)\n",
        "\n",
        "    value = value.to('s')\n",
        "    y['accum_buffer_time'] = value\n",
        "    return value\n",
        "accum_buffer_time(x)"
      ]
    },
    {
      "cell_type": "markdown",
      "metadata": {
        "id": "Rqp_ij70Nq0c"
      },
      "source": [
        "The Spirax Sarco [accumulator sizing guide](https://www.spiraxsarco.com/learn-about-steam/the-boiler-house/steam-accumulators) includes an empirical relationship between available saturated water surface area, pressure, and the maximum steam release rate in an accumulator without entraining water. We use this to find the required surface area in the accumulator required to support max steam rate."
      ]
    },
    {
      "cell_type": "code",
      "execution_count": 22,
      "metadata": {
        "colab": {
          "base_uri": "https://localhost:8080/",
          "height": 37
        },
        "id": "KHk7iPTTNq0c",
        "outputId": "1bb9d32a-f632-43c8-c607-da8afcb34235"
      },
      "outputs": [
        {
          "data": {
            "text/html": [
              "1.7818675032514566 ft<sup>2</sup>"
            ],
            "text/latex": [
              "$1.7818675032514566\\ \\mathrm{ft}^{2}$"
            ],
            "text/plain": [
              "1.7818675032514566 <Unit('foot ** 2')>"
            ]
          },
          "execution_count": 22,
          "metadata": {},
          "output_type": "execute_result"
        }
      ],
      "source": [
        "\n",
        "def accum_surface_area(y):\n",
        "    area = max_steam_mass_rate(y).to('kg/hr').magnitude / 220 / (y['avg_pressure'].to('bar').magnitude + 1)\n",
        "    value = (area * ureg('m**2'))\n",
        "\n",
        "    value = value.to('ft**2')\n",
        "    y['accum_surface_area'] = value\n",
        "    return value\n",
        "accum_surface_area(x)"
      ]
    },
    {
      "cell_type": "markdown",
      "metadata": {},
      "source": [
        "### <a id='toc1_5_5_'></a>[Steam Generator Sizing](#toc0_)\n",
        "Next, we find the heat input required to boil water that water (at constant pressure, as the feed pump/injector handles that), assuming some heat transfer efficiency for the generator coil."
      ]
    },
    {
      "cell_type": "code",
      "execution_count": 23,
      "metadata": {},
      "outputs": [
        {
          "data": {
            "text/html": [
              "7.079014881379253 lb/min"
            ],
            "text/latex": [
              "$7.079014881379253\\ \\frac{\\mathrm{lb}}{\\mathrm{min}}$"
            ],
            "text/plain": [
              "7.079014881379253 <Unit('pound / minute')>"
            ]
          },
          "execution_count": 23,
          "metadata": {},
          "output_type": "execute_result"
        }
      ],
      "source": [
        "\n",
        "x['burner_power'] = 700000 * ureg('Btu/hr')\n",
        "x['gen_coil_efficiency'] = 0.7\n",
        "def gen_mass_rate(y):\n",
        "    init_h = steam.h_pt(y['avg_pressure'] + 1 * ureg('atm'), 70 * ureg('degF'))   # liquid phase\n",
        "    final_h = steam.hV_p(y['avg_pressure'] + 1 * ureg('atm'), 1 * ureg(''))    # dry vapor phase\n",
        "    heat_transfer_rate = y['burner_power'] * y['gen_coil_efficiency']\n",
        "    value = heat_transfer_rate / (final_h - init_h)\n",
        "\n",
        "    value = value.to('lb/min')\n",
        "    y['gen_mass_rate'] = value\n",
        "    return value\n",
        "gen_mass_rate(x)"
      ]
    },
    {
      "cell_type": "markdown",
      "metadata": {},
      "source": [
        "With the average generator production, we can estimate how long it takes to charge the accumulator from \"fully discharged\"."
      ]
    },
    {
      "cell_type": "code",
      "execution_count": 24,
      "metadata": {},
      "outputs": [
        {
          "data": {
            "text/html": [
              "26.026757264800068 s"
            ],
            "text/latex": [
              "$26.026757264800068\\ \\mathrm{s}$"
            ],
            "text/plain": [
              "26.026757264800068 <Unit('second')>"
            ]
          },
          "execution_count": 24,
          "metadata": {},
          "output_type": "execute_result"
        }
      ],
      "source": [
        "def accum_charge_time(y):\n",
        "    value = accum_steam_mass(y) / gen_mass_rate(y)\n",
        "\n",
        "    value = value.to('s')\n",
        "    y['accum_charge_time'] = value\n",
        "    return value\n",
        "accum_charge_time(x)\n"
      ]
    },
    {
      "cell_type": "markdown",
      "metadata": {},
      "source": [
        "### <a id='toc1_5_6_'></a>[TODO: Generator Coil Dimensions](#toc0_)"
      ]
    },
    {
      "cell_type": "markdown",
      "metadata": {},
      "source": [
        "## <a id='toc1_6_'></a>[Evalution of Initial Iteration](#toc0_)\n",
        "Now that we have calculated a single design iteration, let's evaluate the results."
      ]
    },
    {
      "cell_type": "code",
      "execution_count": 25,
      "metadata": {},
      "outputs": [
        {
          "data": {
            "text/html": [
              "<div>\n",
              "<style scoped>\n",
              "    .dataframe tbody tr th:only-of-type {\n",
              "        vertical-align: middle;\n",
              "    }\n",
              "\n",
              "    .dataframe tbody tr th {\n",
              "        vertical-align: top;\n",
              "    }\n",
              "\n",
              "    .dataframe thead th {\n",
              "        text-align: right;\n",
              "    }\n",
              "</style>\n",
              "<table border=\"1\" class=\"dataframe\">\n",
              "  <thead>\n",
              "    <tr style=\"text-align: right;\">\n",
              "      <th></th>\n",
              "      <th>iteration</th>\n",
              "      <th>max_pressure</th>\n",
              "      <th>pressure_deadband</th>\n",
              "      <th>avg_pressure</th>\n",
              "      <th>min_pressure</th>\n",
              "      <th>trike_weight</th>\n",
              "      <th>max_velocity</th>\n",
              "      <th>max_accel</th>\n",
              "      <th>max_rpm</th>\n",
              "      <th>wheel_dia</th>\n",
              "      <th>road_force</th>\n",
              "      <th>cyl_volume</th>\n",
              "      <th>cyl_bore</th>\n",
              "      <th>cyl_stroke</th>\n",
              "      <th>max_piston_speed</th>\n",
              "      <th>conn_rod_length</th>\n",
              "      <th>max_crosshead_force</th>\n",
              "      <th>max_road_slope</th>\n",
              "      <th>max_steam_mass_rate</th>\n",
              "      <th>mass_steam_liquid_rate</th>\n",
              "      <th>single_pipe_dia</th>\n",
              "      <th>double_pipe_dia</th>\n",
              "      <th>cyl_port_area</th>\n",
              "      <th>accum_capacity</th>\n",
              "      <th>accum_steam_mass</th>\n",
              "      <th>accum_buffer_time</th>\n",
              "      <th>accum_surface_area</th>\n",
              "      <th>burner_power</th>\n",
              "      <th>gen_coil_efficiency</th>\n",
              "      <th>gen_mass_rate</th>\n",
              "      <th>accum_charge_time</th>\n",
              "    </tr>\n",
              "  </thead>\n",
              "  <tbody>\n",
              "    <tr>\n",
              "      <th>1</th>\n",
              "      <td>initial</td>\n",
              "      <td>135.00 lbf/in²</td>\n",
              "      <td>40.00 lbf/in²</td>\n",
              "      <td>115.00 lbf/in²</td>\n",
              "      <td>95.00 lbf/in²</td>\n",
              "      <td>2000.00 lb</td>\n",
              "      <td>55.00 mi/h</td>\n",
              "      <td>7.00 ft/s²</td>\n",
              "      <td>350.00 1/min</td>\n",
              "      <td>52.82 in</td>\n",
              "      <td>435.13 lbf</td>\n",
              "      <td>215.85 in³</td>\n",
              "      <td>5.00 in</td>\n",
              "      <td>10.99 in</td>\n",
              "      <td>2.67 ft/s</td>\n",
              "      <td>52.00 in</td>\n",
              "      <td>280.19 lbf</td>\n",
              "      <td>0.1</td>\n",
              "      <td>11.95 lb/min</td>\n",
              "      <td>1.44 gal/min</td>\n",
              "      <td>1.06 in</td>\n",
              "      <td>1.52 in</td>\n",
              "      <td>1.81 in²</td>\n",
              "      <td>15.00 gal</td>\n",
              "      <td>3.07 lb</td>\n",
              "      <td>15.42 s</td>\n",
              "      <td>1.78 ft²</td>\n",
              "      <td>700000.00 Btu/h</td>\n",
              "      <td>0.7</td>\n",
              "      <td>7.08 lb/min</td>\n",
              "      <td>26.03 s</td>\n",
              "    </tr>\n",
              "  </tbody>\n",
              "</table>\n",
              "</div>"
            ],
            "text/plain": [
              "  iteration    max_pressure pressure_deadband    avg_pressure   min_pressure  \\\n",
              "1   initial  135.00 lbf/in²     40.00 lbf/in²  115.00 lbf/in²  95.00 lbf/in²   \n",
              "\n",
              "  trike_weight max_velocity   max_accel       max_rpm wheel_dia  road_force  \\\n",
              "1   2000.00 lb   55.00 mi/h  7.00 ft/s²  350.00 1/min  52.82 in  435.13 lbf   \n",
              "\n",
              "   cyl_volume cyl_bore cyl_stroke max_piston_speed conn_rod_length  \\\n",
              "1  215.85 in³  5.00 in   10.99 in        2.67 ft/s        52.00 in   \n",
              "\n",
              "  max_crosshead_force  max_road_slope max_steam_mass_rate  \\\n",
              "1          280.19 lbf             0.1        11.95 lb/min   \n",
              "\n",
              "  mass_steam_liquid_rate single_pipe_dia double_pipe_dia cyl_port_area  \\\n",
              "1           1.44 gal/min         1.06 in         1.52 in      1.81 in²   \n",
              "\n",
              "  accum_capacity accum_steam_mass accum_buffer_time accum_surface_area  \\\n",
              "1      15.00 gal          3.07 lb           15.42 s           1.78 ft²   \n",
              "\n",
              "      burner_power  gen_coil_efficiency gen_mass_rate accum_charge_time  \n",
              "1  700000.00 Btu/h                  0.7   7.08 lb/min           26.03 s  "
            ]
          },
          "execution_count": 25,
          "metadata": {},
          "output_type": "execute_result"
        }
      ],
      "source": [
        "df = pd.DataFrame(x, index=[1])\n",
        "pd.set_option('display.max_columns', None)\n",
        "pd.set_option('display.max_colwidth', None)\n",
        "df"
      ]
    },
    {
      "cell_type": "markdown",
      "metadata": {},
      "source": [
        "* Wheel diameter - Road legal tires up to 53\" are commercially available, but they are heavy, expensive, and wide\n",
        "* Cylinder dimensions - Performing any machining operations on the 10 inch axis of the cylinder block is going to be difficult on any readily-available machine, but finding and working with stock that supports a 5 inch or larger bore will be difficult too\n",
        "* Max Steam Heat Rate - 1.5 million BTU/hr is over twice what the largest DC burner available can put out, and that's not even including the inefficiency of heat transfer to the coil\n",
        "\n",
        "From here, we can tweak assumptions as we like to get a design that looks more reasonable."
      ]
    },
    {
      "cell_type": "markdown",
      "metadata": {},
      "source": [
        "# <a id='toc2_'></a>[Iterations](#toc0_)"
      ]
    },
    {
      "cell_type": "code",
      "execution_count": 26,
      "metadata": {},
      "outputs": [],
      "source": [
        "iters = [\n",
        "    x,  # 0: initial iteration from text\n",
        "    {   \"iteration\": \"lighter, higher rpm, smaller bore\",\n",
        "        \"trike_weight\": 1500 * ureg('lb'),              # 2000 -> 1500 lb\n",
        "        \"max_pressure\": 135 * ureg('lbf/in**2'),        \n",
        "        \"pressure_deadband\": 40 * ureg('lbf/in**2'),\n",
        "        \"max_velocity\": 55 * ureg('mi/hr'),\n",
        "        \"max_rpm\": 450 * ureg('1/min'),                 # 350 -> 450 RPM\n",
        "        \"max_accel\": 7 * ureg('ft/s**2'),\n",
        "        \"cyl_bore\": 4.5 * ureg('in'),                   # 5 -> 4.5 in\n",
        "        \"conn_rod_length\": 36 * ureg('in'),\n",
        "        \"max_road_slope\": 0.1,\n",
        "        \"accum_capacity\": 15 * ureg('gal'),\n",
        "        \"gen_coil_efficiency\": 0.7,\n",
        "        \"burner_power\": 700000 * ureg('Btu/hr')\n",
        "    },\n",
        "    {   \"iteration\": \"lighter, higher rpm, lower avg pressure, bigger pressure deadband\",\n",
        "        \"trike_weight\": 1500 * ureg('lb'),              # 2000 -> 1500 lb\n",
        "        \"max_pressure\": 135 * ureg('lbf/in**2'),\n",
        "        \"pressure_deadband\": 70 * ureg('lbf/in**2'),    # 40 -> 70 psi\n",
        "        \"max_velocity\": 55 * ureg('mi/hr'),\n",
        "        \"max_rpm\": 450 * ureg('1/min'),                 # 350 -> 450\n",
        "        \"max_accel\": 7 * ureg('ft/s**2'),\n",
        "        \"cyl_bore\": 5.0 * ureg('in'),\n",
        "        \"conn_rod_length\": 36 * ureg('in'),\n",
        "        \"max_road_slope\": 0.1,\n",
        "        \"accum_capacity\": 15 * ureg('gal'),\n",
        "        \"gen_coil_efficiency\": 0.7,\n",
        "        \"burner_power\": 700000 * ureg('Btu/hr')\n",
        "    },\n",
        "    {   \"iteration\": \"much smaller, much lighter, much slower\",\n",
        "        \"trike_weight\": 750 * ureg('lb'),               # 2000 -> 750 lb\n",
        "        \"max_pressure\": 135 * ureg('lbf/in**2'),\n",
        "        \"pressure_deadband\": 40 * ureg('lbf/in**2'),    # 40 -> 70 psi\n",
        "        \"max_velocity\": 35 * ureg('mi/hr'),             # 55 -> 35 mph\n",
        "        \"max_rpm\": 450 * ureg('1/min'),                 # 350 -> 450\n",
        "        \"max_accel\": 7 * ureg('ft/s**2'),\n",
        "        \"cyl_bore\": 3.25 * ureg('in'),\n",
        "        \"conn_rod_length\": 36 * ureg('in'),\n",
        "        \"max_road_slope\": 0.05,                         # Dean Keeton St @ UT \n",
        "        \"accum_capacity\": 5 * ureg('gal'),              # 15 -> 5 gal\n",
        "        \"gen_coil_efficiency\": 0.7,\n",
        "        \"burner_power\": 245000 * ureg('Btu/hr')         # 700k -> 245k Btu/hr\n",
        "    },\n",
        "    {   \"iteration\": \"much smaller, much lighter, lower rpm, much slower\",\n",
        "        \"trike_weight\": 750 * ureg('lb'),               # 2000 -> 750 lb\n",
        "        \"max_pressure\": 135 * ureg('lbf/in**2'),\n",
        "        \"pressure_deadband\": 40 * ureg('lbf/in**2'),    # 40 -> 70 psi\n",
        "        \"max_velocity\": 35 * ureg('mi/hr'),             # 55 -> 35 mph\n",
        "        \"max_rpm\": 350 * ureg('1/min'),\n",
        "        \"max_accel\": 7 * ureg('ft/s**2'),\n",
        "        \"cyl_bore\": 3.5 * ureg('in'),\n",
        "        \"conn_rod_length\": 36 * ureg('in'),\n",
        "        \"max_road_slope\": 0.05,                         # Dean Keeton St @ UT \n",
        "        \"accum_capacity\": 5 * ureg('gal'),              # 15 -> 5 gal\n",
        "        \"gen_coil_efficiency\": 0.7,\n",
        "        \"burner_power\": 245000 * ureg('Btu/hr')         # 700k -> 245k Btu/hr\n",
        "    },\n",
        "    {   \"iteration\": \"much smaller, much lighter, lower rpm, much pokier\",\n",
        "        \"trike_weight\": 750 * ureg('lb'),               # 2000 -> 750 lb\n",
        "        \"max_pressure\": 135 * ureg('lbf/in**2'),\n",
        "        \"pressure_deadband\": 40 * ureg('lbf/in**2'),    # 40 -> 70 psi\n",
        "        \"max_velocity\": 35 * ureg('mi/hr'),             # 55 -> 35 mph\n",
        "        \"max_rpm\": 350 * ureg('1/min'),\n",
        "        \"max_accel\": 5 * ureg('ft/s**2'),\n",
        "        \"cyl_bore\": 3.25 * ureg('in'),\n",
        "        \"conn_rod_length\": 36 * ureg('in'),\n",
        "        \"max_road_slope\": 0.05,                         # Dean Keeton St @ UT \n",
        "        \"accum_capacity\": 5 * ureg('gal'),              # 15 -> 5 gal\n",
        "        \"gen_coil_efficiency\": 0.7,\n",
        "        \"burner_power\": 245000 * ureg('Btu/hr')         # 700k -> 245k Btu/hr\n",
        "    }\n",
        "]"
      ]
    },
    {
      "cell_type": "code",
      "execution_count": 27,
      "metadata": {},
      "outputs": [
        {
          "data": {
            "text/html": [
              "<div>\n",
              "<style scoped>\n",
              "    .dataframe tbody tr th:only-of-type {\n",
              "        vertical-align: middle;\n",
              "    }\n",
              "\n",
              "    .dataframe tbody tr th {\n",
              "        vertical-align: top;\n",
              "    }\n",
              "\n",
              "    .dataframe thead th {\n",
              "        text-align: right;\n",
              "    }\n",
              "</style>\n",
              "<table border=\"1\" class=\"dataframe\">\n",
              "  <thead>\n",
              "    <tr style=\"text-align: right;\">\n",
              "      <th></th>\n",
              "      <th>0</th>\n",
              "      <th>1</th>\n",
              "      <th>2</th>\n",
              "      <th>3</th>\n",
              "      <th>4</th>\n",
              "      <th>5</th>\n",
              "    </tr>\n",
              "  </thead>\n",
              "  <tbody>\n",
              "    <tr>\n",
              "      <th>iteration</th>\n",
              "      <td>initial</td>\n",
              "      <td>lighter, higher rpm, smaller bore</td>\n",
              "      <td>lighter, higher rpm, lower avg pressure, bigger pressure deadband</td>\n",
              "      <td>much smaller, much lighter, much slower</td>\n",
              "      <td>much smaller, much lighter, lower rpm, much slower</td>\n",
              "      <td>much smaller, much lighter, lower rpm, much pokier</td>\n",
              "    </tr>\n",
              "    <tr>\n",
              "      <th>max_pressure</th>\n",
              "      <td>135.00 lbf/in²</td>\n",
              "      <td>135.00 lbf/in²</td>\n",
              "      <td>135.00 lbf/in²</td>\n",
              "      <td>135.00 lbf/in²</td>\n",
              "      <td>135.00 lbf/in²</td>\n",
              "      <td>135.00 lbf/in²</td>\n",
              "    </tr>\n",
              "    <tr>\n",
              "      <th>pressure_deadband</th>\n",
              "      <td>40.00 lbf/in²</td>\n",
              "      <td>40.00 lbf/in²</td>\n",
              "      <td>70.00 lbf/in²</td>\n",
              "      <td>40.00 lbf/in²</td>\n",
              "      <td>40.00 lbf/in²</td>\n",
              "      <td>40.00 lbf/in²</td>\n",
              "    </tr>\n",
              "    <tr>\n",
              "      <th>avg_pressure</th>\n",
              "      <td>115.00 lbf/in²</td>\n",
              "      <td>115.00 lbf/in²</td>\n",
              "      <td>100.00 lbf/in²</td>\n",
              "      <td>115.00 lbf/in²</td>\n",
              "      <td>115.00 lbf/in²</td>\n",
              "      <td>115.00 lbf/in²</td>\n",
              "    </tr>\n",
              "    <tr>\n",
              "      <th>min_pressure</th>\n",
              "      <td>95.00 lbf/in²</td>\n",
              "      <td>95.00 lbf/in²</td>\n",
              "      <td>65.00 lbf/in²</td>\n",
              "      <td>95.00 lbf/in²</td>\n",
              "      <td>95.00 lbf/in²</td>\n",
              "      <td>95.00 lbf/in²</td>\n",
              "    </tr>\n",
              "    <tr>\n",
              "      <th>trike_weight</th>\n",
              "      <td>2000.00 lb</td>\n",
              "      <td>1500.00 lb</td>\n",
              "      <td>1500.00 lb</td>\n",
              "      <td>750.00 lb</td>\n",
              "      <td>750.00 lb</td>\n",
              "      <td>750.00 lb</td>\n",
              "    </tr>\n",
              "    <tr>\n",
              "      <th>max_velocity</th>\n",
              "      <td>55.00 mi/h</td>\n",
              "      <td>55.00 mi/h</td>\n",
              "      <td>55.00 mi/h</td>\n",
              "      <td>35.00 mi/h</td>\n",
              "      <td>35.00 mi/h</td>\n",
              "      <td>35.00 mi/h</td>\n",
              "    </tr>\n",
              "    <tr>\n",
              "      <th>max_accel</th>\n",
              "      <td>7.00 ft/s²</td>\n",
              "      <td>7.00 ft/s²</td>\n",
              "      <td>7.00 ft/s²</td>\n",
              "      <td>7.00 ft/s²</td>\n",
              "      <td>7.00 ft/s²</td>\n",
              "      <td>5.00 ft/s²</td>\n",
              "    </tr>\n",
              "    <tr>\n",
              "      <th>max_rpm</th>\n",
              "      <td>350.00 1/min</td>\n",
              "      <td>450.00 1/min</td>\n",
              "      <td>450.00 1/min</td>\n",
              "      <td>450.00 1/min</td>\n",
              "      <td>350.00 1/min</td>\n",
              "      <td>350.00 1/min</td>\n",
              "    </tr>\n",
              "    <tr>\n",
              "      <th>wheel_dia</th>\n",
              "      <td>52.82 in</td>\n",
              "      <td>41.08 in</td>\n",
              "      <td>41.08 in</td>\n",
              "      <td>26.14 in</td>\n",
              "      <td>33.61 in</td>\n",
              "      <td>33.61 in</td>\n",
              "    </tr>\n",
              "    <tr>\n",
              "      <th>road_force</th>\n",
              "      <td>435.13 lbf</td>\n",
              "      <td>326.35 lbf</td>\n",
              "      <td>326.35 lbf</td>\n",
              "      <td>163.17 lbf</td>\n",
              "      <td>163.17 lbf</td>\n",
              "      <td>116.55 lbf</td>\n",
              "    </tr>\n",
              "    <tr>\n",
              "      <th>cyl_volume</th>\n",
              "      <td>215.85 in³</td>\n",
              "      <td>125.91 in³</td>\n",
              "      <td>144.80 in³</td>\n",
              "      <td>40.06 in³</td>\n",
              "      <td>51.51 in³</td>\n",
              "      <td>36.79 in³</td>\n",
              "    </tr>\n",
              "    <tr>\n",
              "      <th>cyl_bore</th>\n",
              "      <td>5.00 in</td>\n",
              "      <td>4.50 in</td>\n",
              "      <td>5.00 in</td>\n",
              "      <td>3.25 in</td>\n",
              "      <td>3.50 in</td>\n",
              "      <td>3.25 in</td>\n",
              "    </tr>\n",
              "    <tr>\n",
              "      <th>cyl_stroke</th>\n",
              "      <td>10.99 in</td>\n",
              "      <td>7.92 in</td>\n",
              "      <td>7.37 in</td>\n",
              "      <td>4.83 in</td>\n",
              "      <td>5.35 in</td>\n",
              "      <td>4.44 in</td>\n",
              "    </tr>\n",
              "    <tr>\n",
              "      <th>max_piston_speed</th>\n",
              "      <td>2.67 ft/s</td>\n",
              "      <td>2.47 ft/s</td>\n",
              "      <td>2.30 ft/s</td>\n",
              "      <td>1.51 ft/s</td>\n",
              "      <td>1.30 ft/s</td>\n",
              "      <td>1.08 ft/s</td>\n",
              "    </tr>\n",
              "    <tr>\n",
              "      <th>conn_rod_length</th>\n",
              "      <td>52.00 in</td>\n",
              "      <td>36.00 in</td>\n",
              "      <td>36.00 in</td>\n",
              "      <td>36.00 in</td>\n",
              "      <td>36.00 in</td>\n",
              "      <td>36.00 in</td>\n",
              "    </tr>\n",
              "    <tr>\n",
              "      <th>max_crosshead_force</th>\n",
              "      <td>280.19 lbf</td>\n",
              "      <td>236.09 lbf</td>\n",
              "      <td>271.50 lbf</td>\n",
              "      <td>75.12 lbf</td>\n",
              "      <td>96.58 lbf</td>\n",
              "      <td>68.99 lbf</td>\n",
              "    </tr>\n",
              "    <tr>\n",
              "      <th>max_road_slope</th>\n",
              "      <td>0.1</td>\n",
              "      <td>0.1</td>\n",
              "      <td>0.1</td>\n",
              "      <td>0.05</td>\n",
              "      <td>0.05</td>\n",
              "      <td>0.05</td>\n",
              "    </tr>\n",
              "    <tr>\n",
              "      <th>max_steam_mass_rate</th>\n",
              "      <td>11.95 lb/min</td>\n",
              "      <td>8.96 lb/min</td>\n",
              "      <td>9.71 lb/min</td>\n",
              "      <td>1.43 lb/min</td>\n",
              "      <td>1.43 lb/min</td>\n",
              "      <td>1.43 lb/min</td>\n",
              "    </tr>\n",
              "    <tr>\n",
              "      <th>mass_steam_liquid_rate</th>\n",
              "      <td>1.44 gal/min</td>\n",
              "      <td>1.08 gal/min</td>\n",
              "      <td>1.17 gal/min</td>\n",
              "      <td>0.17 gal/min</td>\n",
              "      <td>0.17 gal/min</td>\n",
              "      <td>0.17 gal/min</td>\n",
              "    </tr>\n",
              "    <tr>\n",
              "      <th>single_pipe_dia</th>\n",
              "      <td>1.06 in</td>\n",
              "      <td>0.92 in</td>\n",
              "      <td>1.12 in</td>\n",
              "      <td>0.37 in</td>\n",
              "      <td>0.37 in</td>\n",
              "      <td>0.37 in</td>\n",
              "    </tr>\n",
              "    <tr>\n",
              "      <th>double_pipe_dia</th>\n",
              "      <td>1.52 in</td>\n",
              "      <td>1.31 in</td>\n",
              "      <td>1.37 in</td>\n",
              "      <td>0.52 in</td>\n",
              "      <td>0.52 in</td>\n",
              "      <td>0.52 in</td>\n",
              "    </tr>\n",
              "    <tr>\n",
              "      <th>cyl_port_area</th>\n",
              "      <td>1.81 in²</td>\n",
              "      <td>1.35 in²</td>\n",
              "      <td>1.47 in²</td>\n",
              "      <td>0.22 in²</td>\n",
              "      <td>0.22 in²</td>\n",
              "      <td>0.22 in²</td>\n",
              "    </tr>\n",
              "    <tr>\n",
              "      <th>accum_capacity</th>\n",
              "      <td>15.00 gal</td>\n",
              "      <td>15.00 gal</td>\n",
              "      <td>15.00 gal</td>\n",
              "      <td>5.00 gal</td>\n",
              "      <td>5.00 gal</td>\n",
              "      <td>5.00 gal</td>\n",
              "    </tr>\n",
              "    <tr>\n",
              "      <th>accum_steam_mass</th>\n",
              "      <td>3.07 lb</td>\n",
              "      <td>3.07 lb</td>\n",
              "      <td>5.98 lb</td>\n",
              "      <td>1.02 lb</td>\n",
              "      <td>1.02 lb</td>\n",
              "      <td>1.02 lb</td>\n",
              "    </tr>\n",
              "    <tr>\n",
              "      <th>accum_buffer_time</th>\n",
              "      <td>15.42 s</td>\n",
              "      <td>20.56 s</td>\n",
              "      <td>36.96 s</td>\n",
              "      <td>42.92 s</td>\n",
              "      <td>42.92 s</td>\n",
              "      <td>42.92 s</td>\n",
              "    </tr>\n",
              "    <tr>\n",
              "      <th>accum_surface_area</th>\n",
              "      <td>1.78 ft²</td>\n",
              "      <td>1.34 ft²</td>\n",
              "      <td>1.64 ft²</td>\n",
              "      <td>0.21 ft²</td>\n",
              "      <td>0.21 ft²</td>\n",
              "      <td>0.21 ft²</td>\n",
              "    </tr>\n",
              "    <tr>\n",
              "      <th>burner_power</th>\n",
              "      <td>700000.00 Btu/h</td>\n",
              "      <td>700000.00 Btu/h</td>\n",
              "      <td>700000.00 Btu/h</td>\n",
              "      <td>245000.00 Btu/h</td>\n",
              "      <td>245000.00 Btu/h</td>\n",
              "      <td>245000.00 Btu/h</td>\n",
              "    </tr>\n",
              "    <tr>\n",
              "      <th>gen_coil_efficiency</th>\n",
              "      <td>0.7</td>\n",
              "      <td>0.7</td>\n",
              "      <td>0.7</td>\n",
              "      <td>0.7</td>\n",
              "      <td>0.7</td>\n",
              "      <td>0.7</td>\n",
              "    </tr>\n",
              "    <tr>\n",
              "      <th>gen_mass_rate</th>\n",
              "      <td>7.08 lb/min</td>\n",
              "      <td>7.08 lb/min</td>\n",
              "      <td>7.09 lb/min</td>\n",
              "      <td>2.48 lb/min</td>\n",
              "      <td>2.48 lb/min</td>\n",
              "      <td>2.48 lb/min</td>\n",
              "    </tr>\n",
              "    <tr>\n",
              "      <th>accum_charge_time</th>\n",
              "      <td>26.03 s</td>\n",
              "      <td>26.03 s</td>\n",
              "      <td>50.61 s</td>\n",
              "      <td>24.79 s</td>\n",
              "      <td>24.79 s</td>\n",
              "      <td>24.79 s</td>\n",
              "    </tr>\n",
              "  </tbody>\n",
              "</table>\n",
              "</div>"
            ],
            "text/plain": [
              "                                      0                                  1  \\\n",
              "iteration                       initial  lighter, higher rpm, smaller bore   \n",
              "max_pressure             135.00 lbf/in²                     135.00 lbf/in²   \n",
              "pressure_deadband         40.00 lbf/in²                      40.00 lbf/in²   \n",
              "avg_pressure             115.00 lbf/in²                     115.00 lbf/in²   \n",
              "min_pressure              95.00 lbf/in²                      95.00 lbf/in²   \n",
              "trike_weight                 2000.00 lb                         1500.00 lb   \n",
              "max_velocity                 55.00 mi/h                         55.00 mi/h   \n",
              "max_accel                    7.00 ft/s²                         7.00 ft/s²   \n",
              "max_rpm                    350.00 1/min                       450.00 1/min   \n",
              "wheel_dia                      52.82 in                           41.08 in   \n",
              "road_force                   435.13 lbf                         326.35 lbf   \n",
              "cyl_volume                   215.85 in³                         125.91 in³   \n",
              "cyl_bore                        5.00 in                            4.50 in   \n",
              "cyl_stroke                     10.99 in                            7.92 in   \n",
              "max_piston_speed              2.67 ft/s                          2.47 ft/s   \n",
              "conn_rod_length                52.00 in                           36.00 in   \n",
              "max_crosshead_force          280.19 lbf                         236.09 lbf   \n",
              "max_road_slope                      0.1                                0.1   \n",
              "max_steam_mass_rate        11.95 lb/min                        8.96 lb/min   \n",
              "mass_steam_liquid_rate     1.44 gal/min                       1.08 gal/min   \n",
              "single_pipe_dia                 1.06 in                            0.92 in   \n",
              "double_pipe_dia                 1.52 in                            1.31 in   \n",
              "cyl_port_area                  1.81 in²                           1.35 in²   \n",
              "accum_capacity                15.00 gal                          15.00 gal   \n",
              "accum_steam_mass                3.07 lb                            3.07 lb   \n",
              "accum_buffer_time               15.42 s                            20.56 s   \n",
              "accum_surface_area             1.78 ft²                           1.34 ft²   \n",
              "burner_power            700000.00 Btu/h                    700000.00 Btu/h   \n",
              "gen_coil_efficiency                 0.7                                0.7   \n",
              "gen_mass_rate               7.08 lb/min                        7.08 lb/min   \n",
              "accum_charge_time               26.03 s                            26.03 s   \n",
              "\n",
              "                                                                                        2  \\\n",
              "iteration               lighter, higher rpm, lower avg pressure, bigger pressure deadband   \n",
              "max_pressure                                                               135.00 lbf/in²   \n",
              "pressure_deadband                                                           70.00 lbf/in²   \n",
              "avg_pressure                                                               100.00 lbf/in²   \n",
              "min_pressure                                                                65.00 lbf/in²   \n",
              "trike_weight                                                                   1500.00 lb   \n",
              "max_velocity                                                                   55.00 mi/h   \n",
              "max_accel                                                                      7.00 ft/s²   \n",
              "max_rpm                                                                      450.00 1/min   \n",
              "wheel_dia                                                                        41.08 in   \n",
              "road_force                                                                     326.35 lbf   \n",
              "cyl_volume                                                                     144.80 in³   \n",
              "cyl_bore                                                                          5.00 in   \n",
              "cyl_stroke                                                                        7.37 in   \n",
              "max_piston_speed                                                                2.30 ft/s   \n",
              "conn_rod_length                                                                  36.00 in   \n",
              "max_crosshead_force                                                            271.50 lbf   \n",
              "max_road_slope                                                                        0.1   \n",
              "max_steam_mass_rate                                                           9.71 lb/min   \n",
              "mass_steam_liquid_rate                                                       1.17 gal/min   \n",
              "single_pipe_dia                                                                   1.12 in   \n",
              "double_pipe_dia                                                                   1.37 in   \n",
              "cyl_port_area                                                                    1.47 in²   \n",
              "accum_capacity                                                                  15.00 gal   \n",
              "accum_steam_mass                                                                  5.98 lb   \n",
              "accum_buffer_time                                                                 36.96 s   \n",
              "accum_surface_area                                                               1.64 ft²   \n",
              "burner_power                                                              700000.00 Btu/h   \n",
              "gen_coil_efficiency                                                                   0.7   \n",
              "gen_mass_rate                                                                 7.09 lb/min   \n",
              "accum_charge_time                                                                 50.61 s   \n",
              "\n",
              "                                                              3  \\\n",
              "iteration               much smaller, much lighter, much slower   \n",
              "max_pressure                                     135.00 lbf/in²   \n",
              "pressure_deadband                                 40.00 lbf/in²   \n",
              "avg_pressure                                     115.00 lbf/in²   \n",
              "min_pressure                                      95.00 lbf/in²   \n",
              "trike_weight                                          750.00 lb   \n",
              "max_velocity                                         35.00 mi/h   \n",
              "max_accel                                            7.00 ft/s²   \n",
              "max_rpm                                            450.00 1/min   \n",
              "wheel_dia                                              26.14 in   \n",
              "road_force                                           163.17 lbf   \n",
              "cyl_volume                                            40.06 in³   \n",
              "cyl_bore                                                3.25 in   \n",
              "cyl_stroke                                              4.83 in   \n",
              "max_piston_speed                                      1.51 ft/s   \n",
              "conn_rod_length                                        36.00 in   \n",
              "max_crosshead_force                                   75.12 lbf   \n",
              "max_road_slope                                             0.05   \n",
              "max_steam_mass_rate                                 1.43 lb/min   \n",
              "mass_steam_liquid_rate                             0.17 gal/min   \n",
              "single_pipe_dia                                         0.37 in   \n",
              "double_pipe_dia                                         0.52 in   \n",
              "cyl_port_area                                          0.22 in²   \n",
              "accum_capacity                                         5.00 gal   \n",
              "accum_steam_mass                                        1.02 lb   \n",
              "accum_buffer_time                                       42.92 s   \n",
              "accum_surface_area                                     0.21 ft²   \n",
              "burner_power                                    245000.00 Btu/h   \n",
              "gen_coil_efficiency                                         0.7   \n",
              "gen_mass_rate                                       2.48 lb/min   \n",
              "accum_charge_time                                       24.79 s   \n",
              "\n",
              "                                                                         4  \\\n",
              "iteration               much smaller, much lighter, lower rpm, much slower   \n",
              "max_pressure                                                135.00 lbf/in²   \n",
              "pressure_deadband                                            40.00 lbf/in²   \n",
              "avg_pressure                                                115.00 lbf/in²   \n",
              "min_pressure                                                 95.00 lbf/in²   \n",
              "trike_weight                                                     750.00 lb   \n",
              "max_velocity                                                    35.00 mi/h   \n",
              "max_accel                                                       7.00 ft/s²   \n",
              "max_rpm                                                       350.00 1/min   \n",
              "wheel_dia                                                         33.61 in   \n",
              "road_force                                                      163.17 lbf   \n",
              "cyl_volume                                                       51.51 in³   \n",
              "cyl_bore                                                           3.50 in   \n",
              "cyl_stroke                                                         5.35 in   \n",
              "max_piston_speed                                                 1.30 ft/s   \n",
              "conn_rod_length                                                   36.00 in   \n",
              "max_crosshead_force                                              96.58 lbf   \n",
              "max_road_slope                                                        0.05   \n",
              "max_steam_mass_rate                                            1.43 lb/min   \n",
              "mass_steam_liquid_rate                                        0.17 gal/min   \n",
              "single_pipe_dia                                                    0.37 in   \n",
              "double_pipe_dia                                                    0.52 in   \n",
              "cyl_port_area                                                     0.22 in²   \n",
              "accum_capacity                                                    5.00 gal   \n",
              "accum_steam_mass                                                   1.02 lb   \n",
              "accum_buffer_time                                                  42.92 s   \n",
              "accum_surface_area                                                0.21 ft²   \n",
              "burner_power                                               245000.00 Btu/h   \n",
              "gen_coil_efficiency                                                    0.7   \n",
              "gen_mass_rate                                                  2.48 lb/min   \n",
              "accum_charge_time                                                  24.79 s   \n",
              "\n",
              "                                                                         5  \n",
              "iteration               much smaller, much lighter, lower rpm, much pokier  \n",
              "max_pressure                                                135.00 lbf/in²  \n",
              "pressure_deadband                                            40.00 lbf/in²  \n",
              "avg_pressure                                                115.00 lbf/in²  \n",
              "min_pressure                                                 95.00 lbf/in²  \n",
              "trike_weight                                                     750.00 lb  \n",
              "max_velocity                                                    35.00 mi/h  \n",
              "max_accel                                                       5.00 ft/s²  \n",
              "max_rpm                                                       350.00 1/min  \n",
              "wheel_dia                                                         33.61 in  \n",
              "road_force                                                      116.55 lbf  \n",
              "cyl_volume                                                       36.79 in³  \n",
              "cyl_bore                                                           3.25 in  \n",
              "cyl_stroke                                                         4.44 in  \n",
              "max_piston_speed                                                 1.08 ft/s  \n",
              "conn_rod_length                                                   36.00 in  \n",
              "max_crosshead_force                                              68.99 lbf  \n",
              "max_road_slope                                                        0.05  \n",
              "max_steam_mass_rate                                            1.43 lb/min  \n",
              "mass_steam_liquid_rate                                        0.17 gal/min  \n",
              "single_pipe_dia                                                    0.37 in  \n",
              "double_pipe_dia                                                    0.52 in  \n",
              "cyl_port_area                                                     0.22 in²  \n",
              "accum_capacity                                                    5.00 gal  \n",
              "accum_steam_mass                                                   1.02 lb  \n",
              "accum_buffer_time                                                  42.92 s  \n",
              "accum_surface_area                                                0.21 ft²  \n",
              "burner_power                                               245000.00 Btu/h  \n",
              "gen_coil_efficiency                                                    0.7  \n",
              "gen_mass_rate                                                  2.48 lb/min  \n",
              "accum_charge_time                                                  24.79 s  "
            ]
          },
          "execution_count": 27,
          "metadata": {},
          "output_type": "execute_result"
        }
      ],
      "source": [
        "# run calculations\n",
        "for each in iters:\n",
        "    avg_pressure(each)\n",
        "    min_pressure(each)\n",
        "    max_piston_speed(each)\n",
        "    max_crosshead_force(each)\n",
        "    max_steam_liquid_rate(each)\n",
        "    single_inlet_pipe_dia(each)\n",
        "    double_inlet_pipe_dia(each)\n",
        "    cyl_port_area(each)\n",
        "    double_exhaust_pipe_dia(each)\n",
        "    accum_buffer_time(each)\n",
        "    accum_surface_area(each)\n",
        "    accum_charge_time(each)\n",
        "# display\n",
        "df = pd.DataFrame(iters)\n",
        "df.transpose()"
      ]
    }
  ],
  "metadata": {
    "colab": {
      "provenance": []
    },
    "kernelspec": {
      "display_name": "base",
      "language": "python",
      "name": "python3"
    },
    "language_info": {
      "codemirror_mode": {
        "name": "ipython",
        "version": 3
      },
      "file_extension": ".py",
      "mimetype": "text/x-python",
      "name": "python",
      "nbconvert_exporter": "python",
      "pygments_lexer": "ipython3",
      "version": "3.11.5"
    }
  },
  "nbformat": 4,
  "nbformat_minor": 0
}
