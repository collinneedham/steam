{
 "cells": [
  {
   "cell_type": "markdown",
   "metadata": {},
   "source": [
    "# Steam Trike Calculations\n",
    "Like many design tasks, sizing the various components of the steam trike is an iterative process. We start with certain assumed parameters and goals, then develop cylinder and accumulator dimensions. These, in turn, affect piping and generator design. At various points in the design, we can compare the results against the initial assumptions and adjust.\n",
    "\n",
    "In this notebook, we start with one set of assumed parameters as a demonstration, but develop the code in a way that we can evaluate with different sets of parameters easily."
   ]
  },
  {
   "cell_type": "code",
   "execution_count": 311,
   "metadata": {},
   "outputs": [],
   "source": [
    "import numpy as np\n",
    "import pint\n",
    "from iapws import IAPWS97 as steam\n",
    "ureg = pint.UnitRegistry()"
   ]
  },
  {
   "cell_type": "markdown",
   "metadata": {},
   "source": [
    "## Initial Parameters"
   ]
  },
  {
   "cell_type": "code",
   "execution_count": 312,
   "metadata": {},
   "outputs": [],
   "source": [
    "trike_weight = 2000 * ureg('lb')        # Based on homebuilt electric and CE trikes coming in at 800-1500 lb online\n",
    "avg_pressure = 125 * ureg('lbf/in**2')   # Based on max of 150 psi saturated steam with margin\n",
    "max_velocity = 55 * ureg('mi/hr')       # Based on a minimum speed for highway but not freeway travel"
   ]
  },
  {
   "cell_type": "markdown",
   "metadata": {},
   "source": [
    "What's the maximum RPM we can expect to be able to achieve with the reciprocating engine? Common practice says 250-500 RPM, but we can check top RPMs of prototypical locomotives and steam cars.\n",
    "\n",
    "| Prototype | Max Speed (mi/hr) | Driver Diameter (in) | rev/min |\n",
    "| --- | --- | --- | --- |\n",
    "| UP 844 | 120 | 80 | 504 |\n",
    "| UP 4014 | 80 | 68 | 395 |\n",
    "| Reading 2102 | 80 | 70 | 384 |\n",
    "| PM 1225 | 70 | 69 | 341 |\n",
    "| N&W 611 | 110 MPH | 70 | 528 |\n",
    "| SP 4449 | 110 | 80 | 462 |\n",
    "| Stanley Steam Car | 60 | (N/A) | 900 |\n",
    "| Doble Steam Car | 70 | (N/A) | 900 |"
   ]
  },
  {
   "cell_type": "code",
   "execution_count": 313,
   "metadata": {},
   "outputs": [],
   "source": [
    "max_rpm = 350 * ureg('1/min')           # [rev/min] - Conservative bet for larger reciprocating steam engine"
   ]
  },
  {
   "cell_type": "markdown",
   "metadata": {},
   "source": [
    "## Required Wheel Diameter\n",
    "From the max RPM and max velocity,"
   ]
  },
  {
   "cell_type": "code",
   "execution_count": 314,
   "metadata": {},
   "outputs": [
    {
     "data": {
      "text/html": [
       "52.821251970155906 inch"
      ],
      "text/latex": [
       "$52.821251970155906\\ \\mathrm{inch}$"
      ],
      "text/plain": [
       "52.821251970155906 <Unit('inch')>"
      ]
     },
     "execution_count": 314,
     "metadata": {},
     "output_type": "execute_result"
    }
   ],
   "source": [
    "def wheel_dia():\n",
    "    return max_velocity / max_rpm / np.pi\n",
    "wheel_dia().to('in')"
   ]
  },
  {
   "cell_type": "markdown",
   "metadata": {},
   "source": [
    "## Required Acceleration\n",
    "Let's try two paths I have thought of to come up with a target maximum acceleration.\n",
    "\n",
    "### Normal Acceleration Data\n",
    "We want acceleration behavior compatible with traffic, so we can look at published data for conventional road vehicles. The data shown in Figures 1 and 2 are for consumer vehicles accelerating in normal traffic, not the maximum acceleration the vehicles are capable of. Thus, we want to target a value on the high end to reflect extra capacity available for \"flooring it\".\n",
    "\n",
    "The acceleration curves for these conventional vehicles include gear shifts and will not represent the curve for the steam trike. Instead, we are looking to have a comparable acceleration from a stop.\n",
    "\n",
    "`Candidate Amax` = 2 \\[m/s**2\\] ≅ 6.5 \\[ft/s**2\\]\n",
    "\n",
    "### 0-60 MPH Time Data\n",
    "0-60 MPH times for vehicles represent maximum acceleration, which is what we want. However, because car acceleration varies as the car accelerates, you're looking at an average max acceleration instead of the highest instantaneous acceleration. Data from ZeroTo60Times.com.\n",
    "\n",
    "| Prototype | 0-60 MPH Time (s) | Acceleration (m/s^2) |\n",
    "| --- | --- | --- |\n",
    "| Geo Metro | 12.6 | 7.0 |\n",
    "| Nissan Versa | 9.0 | 10.0 |\n",
    "| Honda Fit | 7.8 | 11.3 |\n",
    "\n",
    "### Selection\n",
    "We see that the candidate Amax from normal vehicle acceleration is lower than even the Geo Metro's 0-60 MPH, which makes sense. Given that we are looking for a \"usable\" acceleration target, let's use that of the Geo Metro."
   ]
  },
  {
   "cell_type": "code",
   "execution_count": 315,
   "metadata": {},
   "outputs": [],
   "source": [
    "max_accel = 7.0 * ureg('ft/s**2')"
   ]
  },
  {
   "cell_type": "markdown",
   "metadata": {},
   "source": [
    "## Cylinder Dimensions\n",
    "### Required Force at Roadway\n",
    "Required force on the road to accelerate `trike_weight` by `max_accel`"
   ]
  },
  {
   "cell_type": "code",
   "execution_count": 316,
   "metadata": {},
   "outputs": [
    {
     "data": {
      "text/html": [
       "435.13330240194153 force_pound"
      ],
      "text/latex": [
       "$435.13330240194153\\ \\mathrm{force\\_pound}$"
      ],
      "text/plain": [
       "435.13330240194153 <Unit('force_pound')>"
      ]
     },
     "execution_count": 316,
     "metadata": {},
     "output_type": "execute_result"
    }
   ],
   "source": [
    "def road_force():\n",
    "    return trike_weight * max_accel\n",
    "road_force().to('lbf')"
   ]
  },
  {
   "cell_type": "markdown",
   "metadata": {},
   "source": [
    "### Required Cylinder Volume\n",
    "The mean tractive force of a two cylinder engine, at 90 percent cutoff, with the cylinders 90 degrees out of phase is given by:\n",
    "\n",
    "F = K2 * K3 * avg_pressure * cyl_volume / wheel_dia\n",
    "* K2 = 1.2 - The ratio of mean torque of two identical piston-crank assemblies 90 degrees out of phase to the peak torque of one of the piston-crank assemblies\n",
    "* K3 = 0.9 - A fudge factor to account for pressure loss between the boiler and the cylinder\n",
    "* cyl_volume\n",
    "\n",
    "We will solve for the swept volume of the cylinder,"
   ]
  },
  {
   "cell_type": "code",
   "execution_count": 317,
   "metadata": {},
   "outputs": [
    {
     "data": {
      "text/html": [
       "198.58422937057057 inch<sup>3</sup>"
      ],
      "text/latex": [
       "$198.58422937057057\\ \\mathrm{inch}^{3}$"
      ],
      "text/plain": [
       "198.58422937057057 <Unit('inch ** 3')>"
      ]
     },
     "execution_count": 317,
     "metadata": {},
     "output_type": "execute_result"
    }
   ],
   "source": [
    "def cyl_volume():\n",
    "    return road_force() * wheel_dia() * 1.2 * 0.9 / avg_pressure\n",
    "cyl_volume().to('in**3')"
   ]
  },
  {
   "cell_type": "markdown",
   "metadata": {},
   "source": [
    "### Required Cylinder Dimensions\n",
    "We set cylinder bore as a parameter and calculate stroke,"
   ]
  },
  {
   "cell_type": "code",
   "execution_count": 318,
   "metadata": {},
   "outputs": [
    {
     "data": {
      "text/html": [
       "10.113811751814737 inch"
      ],
      "text/latex": [
       "$10.113811751814737\\ \\mathrm{inch}$"
      ],
      "text/plain": [
       "10.113811751814737 <Unit('inch')>"
      ]
     },
     "execution_count": 318,
     "metadata": {},
     "output_type": "execute_result"
    }
   ],
   "source": [
    "cyl_bore = 5.0 * ureg('in')\n",
    "def cyl_stroke():\n",
    "    return cyl_volume() / (cyl_bore**2 * np.pi / 4)\n",
    "cyl_stroke().to('in')"
   ]
  },
  {
   "cell_type": "markdown",
   "metadata": {},
   "source": [
    "## Accumulator Sizing\n",
    "### Maximum Steam Rate\n",
    "Maximum steam rate occurs at max cutoff and maximum speed, and represents 4 strokes per revolution"
   ]
  },
  {
   "cell_type": "code",
   "execution_count": 319,
   "metadata": {},
   "outputs": [
    {
     "data": {
      "text/html": [
       "144.80100058270773 foot<sup>3</sup>/minute"
      ],
      "text/latex": [
       "$144.80100058270773\\ \\frac{\\mathrm{foot}^{3}}{\\mathrm{minute}}$"
      ],
      "text/plain": [
       "144.80100058270773 <Unit('foot ** 3 / minute')>"
      ]
     },
     "execution_count": 319,
     "metadata": {},
     "output_type": "execute_result"
    }
   ],
   "source": [
    "def max_steam_vol_rate():\n",
    "    return 0.9 * cyl_volume() * max_rpm * 4\n",
    "max_steam_vol_rate().to('ft**3/min')"
   ]
  },
  {
   "cell_type": "code",
   "execution_count": 320,
   "metadata": {},
   "outputs": [
    {
     "data": {
      "text/html": [
       "40.37114754565772 pound/minute"
      ],
      "text/latex": [
       "$40.37114754565772\\ \\frac{\\mathrm{pound}}{\\mathrm{minute}}$"
      ],
      "text/plain": [
       "40.37114754565772 <Unit('pound / minute')>"
      ]
     },
     "execution_count": 320,
     "metadata": {},
     "output_type": "execute_result"
    }
   ],
   "source": [
    "\n",
    "def max_steam_mass_rate():\n",
    "    state = steam(P=avg_pressure.to('MPa').magnitude, x=1)\n",
    "    v = state.v * ureg('m**3/kg')\n",
    "    return max_steam_vol_rate().to('m**3/min') / v\n",
    "max_steam_mass_rate().to('lb/min')\n"
   ]
  },
  {
   "cell_type": "code",
   "execution_count": 321,
   "metadata": {},
   "outputs": [
    {
     "data": {
      "text/html": [
       "4.85424118731767 gallon/minute"
      ],
      "text/latex": [
       "$4.85424118731767\\ \\frac{\\mathrm{gallon}}{\\mathrm{minute}}$"
      ],
      "text/plain": [
       "4.85424118731767 <Unit('gallon / minute')>"
      ]
     },
     "execution_count": 321,
     "metadata": {},
     "output_type": "execute_result"
    }
   ],
   "source": [
    "def max_steam_liquid_rate():\n",
    "    state = steam(P=0.1, T=300)\n",
    "    v = state.v * ureg('m**3/kg')\n",
    "    return max_steam_mass_rate() * v\n",
    "max_steam_liquid_rate().to('gal/min')"
   ]
  }
 ],
 "metadata": {
  "kernelspec": {
   "display_name": "base",
   "language": "python",
   "name": "python3"
  },
  "language_info": {
   "codemirror_mode": {
    "name": "ipython",
    "version": 3
   },
   "file_extension": ".py",
   "mimetype": "text/x-python",
   "name": "python",
   "nbconvert_exporter": "python",
   "pygments_lexer": "ipython3",
   "version": "3.11.5"
  }
 },
 "nbformat": 4,
 "nbformat_minor": 2
}
