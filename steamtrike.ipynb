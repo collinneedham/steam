{
  "cells": [
    {
      "cell_type": "markdown",
      "metadata": {
        "id": "ipFG9UEmNq0U"
      },
      "source": [
        "# Steam Trike Calculations\n",
        "Like many design tasks, sizing the various components of the steam trike is an iterative process. We start with certain assumed parameters and goals, then develop cylinder and accumulator dimensions. These, in turn, affect piping and generator design. At various points in the design, we can compare the results against the initial assumptions and adjust.\n",
        "\n",
        "In this notebook, we start with one set of assumed parameters as a demonstration, but develop the code in a way that we can evaluate different sets of parameters easily."
      ]
    },
    {
      "cell_type": "code",
      "execution_count": 1,
      "metadata": {
        "colab": {
          "base_uri": "https://localhost:8080/"
        },
        "id": "25iAbNxlNq0V",
        "outputId": "a5d5cb30-1c41-4bb3-f4ab-ce4795040732"
      },
      "outputs": [
        {
          "name": "stdout",
          "output_type": "stream",
          "text": [
            "Requirement already satisfied: pint in c:\\users\\click\\anaconda3\\lib\\site-packages (0.22)\n",
            "Requirement already satisfied: typing-extensions in c:\\users\\click\\anaconda3\\lib\\site-packages (from pint) (4.7.1)\n",
            "Note: you may need to restart the kernel to use updated packages.\n",
            "Requirement already satisfied: pyXSteam in c:\\users\\click\\anaconda3\\lib\\site-packages (0.4.9)\n",
            "Note: you may need to restart the kernel to use updated packages.\n"
          ]
        }
      ],
      "source": [
        "# initial setup\n",
        "%pip install pint\n",
        "%pip install pyXSteam\n",
        "import numpy as np\n",
        "import pandas as pd\n",
        "import pint                                 # units library\n",
        "from pyntXSteam import pyntXSteam           # pint wrapper for steam library pyXSteam\n",
        "ureg = pint.UnitRegistry()                  # initialize pint units registry for this notebook\n",
        "ureg.autoconvert_offset_to_baseunit = True  # disable relative temperature units\n",
        "steam = pyntXSteam(ureg)                    # initialize steam library with pint registry\n"
      ]
    },
    {
      "cell_type": "markdown",
      "metadata": {
        "id": "Kkgl9r0PNq0W"
      },
      "source": [
        "## Initial Parameters"
      ]
    },
    {
      "cell_type": "code",
      "execution_count": 2,
      "metadata": {
        "id": "ayy2sG3ANq0W"
      },
      "outputs": [],
      "source": [
        "trike_weight = 2000 * ureg('lb')        # Based on homebuilt electric and CE trikes coming in at 800-1500 lb online\n",
        "avg_pressure = 125 * ureg('lbf/in**2')  # Based on max of 150 psi saturated steam with margin\n",
        "max_velocity = 55 * ureg('mi/hr')       # Based on a minimum speed for highway but not freeway travel"
      ]
    },
    {
      "cell_type": "markdown",
      "metadata": {
        "id": "qNyVAgk3Nq0W"
      },
      "source": [
        "What's the maximum RPM we can expect to be able to achieve with the reciprocating engine? Common practice says 250-500 RPM, but we can check top RPMs of prototypical locomotives and steam cars.\n",
        "\n",
        "| Prototype | Max Speed (mi/hr) | Driver Diameter (in) | rev/min |\n",
        "| --- | --- | --- | --- |\n",
        "| UP 844 | 120 | 80 | 504 |\n",
        "| UP 4014 | 80 | 68 | 395 |\n",
        "| Reading 2102 | 80 | 70 | 384 |\n",
        "| PM 1225 | 70 | 69 | 341 |\n",
        "| N&W 611 | 110 | 70 | 528 |\n",
        "| SP 4449 | 110 | 80 | 462 |\n",
        "| Stanley Steam Car | 60 | (N/A) | 900 |\n",
        "| Doble Steam Car | 70 | (N/A) | 900 |"
      ]
    },
    {
      "cell_type": "code",
      "execution_count": 3,
      "metadata": {
        "id": "XbdBBHjPNq0W"
      },
      "outputs": [],
      "source": [
        "max_rpm = 350 * ureg('1/min')           # Conservative bet for larger reciprocating steam engine"
      ]
    },
    {
      "cell_type": "markdown",
      "metadata": {
        "id": "PZS3p-EaNq0W"
      },
      "source": [
        "## Required Wheel Diameter\n",
        "From the max RPM and max velocity,"
      ]
    },
    {
      "cell_type": "code",
      "execution_count": 4,
      "metadata": {
        "colab": {
          "base_uri": "https://localhost:8080/",
          "height": 34
        },
        "id": "KuqONMYHNq0W",
        "outputId": "c4cf8ae3-0d61-4128-f725-70418a8ee1e6"
      },
      "outputs": [
        {
          "data": {
            "text/html": [
              "52.821251970155906 inch"
            ],
            "text/latex": [
              "$52.821251970155906\\ \\mathrm{inch}$"
            ],
            "text/plain": [
              "52.821251970155906 <Unit('inch')>"
            ]
          },
          "execution_count": 4,
          "metadata": {},
          "output_type": "execute_result"
        }
      ],
      "source": [
        "def wheel_dia():\n",
        "    return max_velocity / max_rpm / np.pi\n",
        "wheel_dia().to('in')"
      ]
    },
    {
      "cell_type": "markdown",
      "metadata": {
        "id": "y8yT_BSfNq0X"
      },
      "source": [
        "## Required Acceleration\n",
        "Let's try two paths I have thought of to come up with a target maximum acceleration.\n",
        "\n",
        "### Normal Acceleration Data\n",
        "We want acceleration behavior compatible with traffic, so we can look at published data for conventional road vehicles. The data shown in Figures 1 and 2 are for consumer vehicles accelerating in normal traffic, not the maximum acceleration the vehicles are capable of. Thus, we want to target a value on the high end to reflect extra capacity available for \"flooring it\"."
      ]
    },
    {
      "cell_type": "markdown",
      "metadata": {
        "id": "detchGDkNq0Y"
      },
      "source": [
        "\n",
        "<div align=\"center\">\n",
        "<img src=\"fig5e.PNG\" width=\"400\"/><br />\n",
        "Fig 1. Acceleration vs speed of various gasoline vehicles. Graph, \"Scatter plots of acceleration-speed,\" from P.S.Bokare and A.K.Maurya, Acceleration-Deceleration Behaviour of Various Vehicle Types, page 10, figure 5(e).\n",
        "</div><br />\n",
        "<div align=\"center\">\n",
        "<img src=\"fig6e.PNG\" width=\"400\"/><br />\n",
        "Fig 2. Idealized acceleration vs speed of gasoline vehicles. Graph, \"Idealized plot of acceleration with speed for all vehicle types,\" from P.S.Bokare and A.K.Maurya, Acceleration-Deceleration Behaviour of Various Vehicle Types, page 11, figure 6(e).\n",
        "</div><br />"
      ]
    },
    {
      "cell_type": "markdown",
      "metadata": {
        "id": "mJ5Kz5ePNq0Y"
      },
      "source": [
        "\n",
        "The acceleration curves for these conventional vehicles include gear shifts and will not represent the curve for the steam trike. Instead, we are looking to have a comparable acceleration from a stop.\n",
        "\n",
        "Candidate `max_accel` = 2 \\[m/s^2\\] ≅ 6.5 \\[ft/s^2\\]\n",
        "\n",
        "### 0-60 MPH Time Data\n",
        "0-60 MPH times for vehicles represent maximum acceleration, which is what we want. However, because car acceleration varies as the car accelerates, you're looking at an average max acceleration instead of the highest instantaneous acceleration. Data from ZeroTo60Times.com.\n",
        "\n",
        "| Prototype | 0-60 MPH Time (s) | Acceleration (m/s^2) |\n",
        "| --- | --- | --- |\n",
        "| Geo Metro | 12.6 | 7.0 |\n",
        "| Nissan Versa | 9.0 | 10.0 |\n",
        "| Honda Fit | 7.8 | 11.3 |\n",
        "\n",
        "### Selection\n",
        "We see that the candidate max_accel from normal vehicle acceleration is lower than even the Geo Metro's 0-60 MPH, which makes sense as that was normal traffic acceleration instead of max. Given that we are looking for a usable max acceleration target, let's use that of the Geo Metro."
      ]
    },
    {
      "cell_type": "code",
      "execution_count": 5,
      "metadata": {
        "id": "v8SbmExlNq0Y"
      },
      "outputs": [],
      "source": [
        "max_accel = 7.0 * ureg('ft/s**2')"
      ]
    },
    {
      "cell_type": "markdown",
      "metadata": {
        "id": "WoUUPBtANq0Z"
      },
      "source": [
        "## Cylinder Dimensions\n",
        "### Required Force at Roadway\n",
        "Required force on the road to accelerate `trike_weight` by `max_accel`"
      ]
    },
    {
      "cell_type": "code",
      "execution_count": 6,
      "metadata": {
        "colab": {
          "base_uri": "https://localhost:8080/",
          "height": 34
        },
        "id": "kqm67QV2Nq0Z",
        "outputId": "76f9fbcf-1c03-42b5-fd85-7e0f0893e0cd"
      },
      "outputs": [
        {
          "data": {
            "text/html": [
              "435.13330240194153 force_pound"
            ],
            "text/latex": [
              "$435.13330240194153\\ \\mathrm{force\\_pound}$"
            ],
            "text/plain": [
              "435.13330240194153 <Unit('force_pound')>"
            ]
          },
          "execution_count": 6,
          "metadata": {},
          "output_type": "execute_result"
        }
      ],
      "source": [
        "def road_force():\n",
        "    return trike_weight * max_accel\n",
        "road_force().to('lbf')"
      ]
    },
    {
      "cell_type": "markdown",
      "metadata": {
        "id": "EzS0jPxSNq0Z"
      },
      "source": [
        "### Required Cylinder Volume\n",
        "The mean tractive force of a two cylinder engine, at 90 percent cutoff, with the cylinders 90 degrees out of phase is given by:\n",
        "\n",
        "F = K2 * K3 * avg_pressure * cyl_volume / wheel_dia\n",
        "* K2 = 1.2 - The ratio of mean torque of two identical piston-crank assemblies 90 degrees out of phase to the peak torque of one of the piston-crank assemblies (Jeffrey Hook, Fundamentals of Steam Locomotive Tractive Force, page 7)\n",
        "* K3 = 0.9 - A fudge factor to account for pressure loss between the boiler and the cylinder (Hook)\n",
        "* cyl_volume - The swept volume of the cylinder\n",
        "\n",
        "We will solve for the swept volume of the cylinder,"
      ]
    },
    {
      "cell_type": "code",
      "execution_count": 7,
      "metadata": {
        "colab": {
          "base_uri": "https://localhost:8080/",
          "height": 37
        },
        "id": "cpTVnvIsNq0a",
        "outputId": "22859352-a336-4fca-f16d-19824e3960c4"
      },
      "outputs": [
        {
          "data": {
            "text/html": [
              "198.58422937057057 inch<sup>3</sup>"
            ],
            "text/latex": [
              "$198.58422937057057\\ \\mathrm{inch}^{3}$"
            ],
            "text/plain": [
              "198.58422937057057 <Unit('inch ** 3')>"
            ]
          },
          "execution_count": 7,
          "metadata": {},
          "output_type": "execute_result"
        }
      ],
      "source": [
        "def cyl_volume():\n",
        "    return road_force() * wheel_dia() * 1.2 * 0.9 / avg_pressure\n",
        "cyl_volume().to('in**3')"
      ]
    },
    {
      "cell_type": "code",
      "execution_count": 8,
      "metadata": {},
      "outputs": [
        {
          "data": {
            "text/html": [
              "63.81955101895144 horsepower"
            ],
            "text/latex": [
              "$63.81955101895144\\ \\mathrm{horsepower}$"
            ],
            "text/plain": [
              "63.81955101895144 <Unit('horsepower')>"
            ]
          },
          "execution_count": 8,
          "metadata": {},
          "output_type": "execute_result"
        }
      ],
      "source": [
        "def max_hp():\n",
        "    return road_force() * wheel_dia() * np.pi * max_rpm\n",
        "max_hp().to('hp')"
      ]
    },
    {
      "cell_type": "markdown",
      "metadata": {
        "id": "CP5cUVz9Nq0a"
      },
      "source": [
        "### Required Cylinder Dimensions\n",
        "We set cylinder bore as a parameter and calculate stroke,"
      ]
    },
    {
      "cell_type": "code",
      "execution_count": 9,
      "metadata": {
        "colab": {
          "base_uri": "https://localhost:8080/",
          "height": 34
        },
        "id": "nsA_uO4DNq0a",
        "outputId": "bad95cbc-d9b7-42db-a66a-96e19743bbe3"
      },
      "outputs": [
        {
          "data": {
            "text/html": [
              "10.113811751814737 inch"
            ],
            "text/latex": [
              "$10.113811751814737\\ \\mathrm{inch}$"
            ],
            "text/plain": [
              "10.113811751814737 <Unit('inch')>"
            ]
          },
          "execution_count": 9,
          "metadata": {},
          "output_type": "execute_result"
        }
      ],
      "source": [
        "cyl_bore = 5.0 * ureg('in')\n",
        "def cyl_stroke():\n",
        "    return cyl_volume() / (cyl_bore**2 * np.pi / 4)\n",
        "cyl_stroke().to('in')"
      ]
    },
    {
      "cell_type": "markdown",
      "metadata": {
        "id": "6Iv8DQWqNq0b"
      },
      "source": [
        "## Steam System Sizing\n",
        "### Maximum Steam Rate\n",
        "Maximum steam rate occurs at max power output, so we need to define a reasonable target. One candidate for max power condition is full power at full throttle and full cutoff, but that is overly conservative. Insetad, lets define max power as the power required to go up a target slope at full speed.\n",
        "\n",
        "In the vicininity of Austin, Ranch Road 2222 encounters a hill of 10% slope for most of a mile as shown in Figure 3. Not far from there, Figure 4 shows that Spicewood Springs has a 15% slope for ~500 ft. Many vehicles struggle to maintain speed going up that slope. Let's design for the longer slope and allow the energy in the accumulator to handle short bursts like Spicewood Springs.\n",
        "\n",
        "<div align=\"center\">\n",
        "<img src=\"2222slope.PNG\" width=\"400\"/><br />\n",
        "Fig 3. Google Earth Pro elevation profile for RM 2222 between Loop 360 and FM 620.\n",
        "</div><br />\n",
        "<div align=\"center\">\n",
        "<img src=\"spicewoodslope.PNG\" width=\"400\"/><br />\n",
        "Fig 4. Google Earth Pro elevation profile for Spicewood Springs Road near Loop 360.\n",
        "</div><br />\n",
        "\n",
        "We neglect air resistance for this calculation, and assume the throttle is full open but cutoff has been linked up."
      ]
    },
    {
      "cell_type": "code",
      "execution_count": 10,
      "metadata": {
        "colab": {
          "base_uri": "https://localhost:8080/",
          "height": 37
        },
        "id": "214okoEINq0b",
        "outputId": "491f056a-1357-4641-e851-b9c9d5211d60"
      },
      "outputs": [
        {
          "data": {
            "text/html": [
              "73.58275420126091 foot<sup>3</sup>/minute"
            ],
            "text/latex": [
              "$73.58275420126091\\ \\frac{\\mathrm{foot}^{3}}{\\mathrm{minute}}$"
            ],
            "text/plain": [
              "73.58275420126091 <Unit('foot ** 3 / minute')>"
            ]
          },
          "execution_count": 10,
          "metadata": {},
          "output_type": "execute_result"
        }
      ],
      "source": [
        "max_road_slope = 0.10\n",
        "def max_steam_vol_rate():\n",
        "    slope_rad = np.arctan(max_road_slope)\n",
        "    # convert trike_weight to force (assume Earth)\n",
        "    slope_force = (trike_weight.to('lb').magnitude * ureg('lbf')) * np.sin(slope_rad)\n",
        "    # use Hook's equation again, this time to solve for volume of steam\n",
        "    # required to maintain speed on the slope\n",
        "    slope_vol = slope_force * wheel_dia() * 1.2 * 0.9 / avg_pressure\n",
        "    return slope_vol * 4 * max_rpm\n",
        "max_steam_vol_rate().to('ft**3/min')"
      ]
    },
    {
      "cell_type": "code",
      "execution_count": 11,
      "metadata": {
        "colab": {
          "base_uri": "https://localhost:8080/",
          "height": 34
        },
        "id": "BmpTWP-PNq0c",
        "outputId": "79171ca3-4954-4a2d-babe-18145ebc2604"
      },
      "outputs": [
        {
          "data": {
            "text/html": [
              "22.805067697918645 pound/minute"
            ],
            "text/latex": [
              "$22.805067697918645\\ \\frac{\\mathrm{pound}}{\\mathrm{minute}}$"
            ],
            "text/plain": [
              "22.805067697918645 <Unit('pound / minute')>"
            ]
          },
          "execution_count": 11,
          "metadata": {},
          "output_type": "execute_result"
        }
      ],
      "source": [
        "\n",
        "def max_steam_mass_rate():\n",
        "    return max_steam_vol_rate() / steam.vV_p(avg_pressure + 1 * ureg('atm'))\n",
        "max_steam_mass_rate().to('lb/min')\n"
      ]
    },
    {
      "cell_type": "code",
      "execution_count": 12,
      "metadata": {
        "colab": {
          "base_uri": "https://localhost:8080/",
          "height": 34
        },
        "id": "kstrhAw0Nq0c",
        "outputId": "9f3e58b8-7dba-4309-9cf7-fd045e55d1b5"
      },
      "outputs": [
        {
          "data": {
            "text/html": [
              "2.7407403648924835 gallon/minute"
            ],
            "text/latex": [
              "$2.7407403648924835\\ \\frac{\\mathrm{gallon}}{\\mathrm{minute}}$"
            ],
            "text/plain": [
              "2.7407403648924835 <Unit('gallon / minute')>"
            ]
          },
          "execution_count": 12,
          "metadata": {},
          "output_type": "execute_result"
        }
      ],
      "source": [
        "def max_steam_liquid_rate():\n",
        "    return max_steam_mass_rate() * steam.v_pt(1 * ureg('atm'), 25 * ureg('degC'))\n",
        "max_steam_liquid_rate().to('gal/min')"
      ]
    },
    {
      "cell_type": "markdown",
      "metadata": {
        "id": "Rqp_ij70Nq0c"
      },
      "source": [
        "There is an empirical relationship between available saturated water surface area, pressure, and the maximum steam release rate in an accumulator."
      ]
    },
    {
      "cell_type": "code",
      "execution_count": 13,
      "metadata": {
        "colab": {
          "base_uri": "https://localhost:8080/",
          "height": 37
        },
        "id": "KHk7iPTTNq0c",
        "outputId": "1bb9d32a-f632-43c8-c607-da8afcb34235"
      },
      "outputs": [
        {
          "data": {
            "text/html": [
              "3.157117980531564 foot<sup>2</sup>"
            ],
            "text/latex": [
              "$3.157117980531564\\ \\mathrm{foot}^{2}$"
            ],
            "text/plain": [
              "3.157117980531564 <Unit('foot ** 2')>"
            ]
          },
          "execution_count": 13,
          "metadata": {},
          "output_type": "execute_result"
        }
      ],
      "source": [
        "\n",
        "def accum_surface_area():\n",
        "    area = max_steam_mass_rate().to('kg/hr').magnitude / 220 / (avg_pressure.to('bar').magnitude + 1)\n",
        "    return (area * ureg('m**2'))\n",
        "accum_surface_area().to('ft**2')"
      ]
    },
    {
      "cell_type": "markdown",
      "metadata": {},
      "source": [
        "Next, we find the heat input required to boil water that water (constant pressure, as the feed pump/injector handles that)."
      ]
    },
    {
      "cell_type": "code",
      "execution_count": 14,
      "metadata": {},
      "outputs": [
        {
          "name": "stdout",
          "output_type": "stream",
          "text": [
            "1580204.845531284 british_thermal_unit / hour\n",
            "621.0439447714479 horsepower\n"
          ]
        }
      ],
      "source": [
        "def max_steam_heat_rate():\n",
        "    init_h = steam.h_pt(avg_pressure + 1 * ureg('atm'), 70 * ureg('degF'))   # liquid phase\n",
        "    final_h = steam.hV_p(avg_pressure + 1 * ureg('atm'), 1 * ureg(''))    # dry vapor phase\n",
        "    return max_steam_mass_rate() * (final_h - init_h)\n",
        "print(max_steam_heat_rate().to('Btu/hr'))\n",
        "print(max_steam_heat_rate().to('hp'))"
      ]
    }
  ],
  "metadata": {
    "colab": {
      "provenance": []
    },
    "kernelspec": {
      "display_name": "base",
      "language": "python",
      "name": "python3"
    },
    "language_info": {
      "codemirror_mode": {
        "name": "ipython",
        "version": 3
      },
      "file_extension": ".py",
      "mimetype": "text/x-python",
      "name": "python",
      "nbconvert_exporter": "python",
      "pygments_lexer": "ipython3",
      "version": "3.11.5"
    }
  },
  "nbformat": 4,
  "nbformat_minor": 0
}
