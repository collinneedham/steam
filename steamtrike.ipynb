{
  "cells": [
    {
      "cell_type": "markdown",
      "metadata": {
        "id": "ipFG9UEmNq0U"
      },
      "source": [
        "# Steam Trike Calculations\n",
        "Like many design tasks, sizing the various components of the steam trike is an iterative process. We start with certain assumed parameters and goals, then develop cylinder and accumulator dimensions. These, in turn, affect piping and generator design. At various points in the design, we can compare the results against the initial assumptions and adjust.\n",
        "\n",
        "In this notebook, we start with one set of assumed parameters as a demonstration, but develop the code in a way that we can evaluate different sets of parameters easily."
      ]
    },
    {
      "cell_type": "code",
      "execution_count": 1,
      "metadata": {
        "colab": {
          "base_uri": "https://localhost:8080/"
        },
        "id": "25iAbNxlNq0V",
        "outputId": "a5d5cb30-1c41-4bb3-f4ab-ce4795040732"
      },
      "outputs": [
        {
          "name": "stdout",
          "output_type": "stream",
          "text": [
            "Requirement already satisfied: pint in c:\\users\\click\\anaconda3\\lib\\site-packages (0.22)\n",
            "Requirement already satisfied: typing-extensions in c:\\users\\click\\anaconda3\\lib\\site-packages (from pint) (4.7.1)\n",
            "Note: you may need to restart the kernel to use updated packages.\n",
            "Requirement already satisfied: pyXSteam in c:\\users\\click\\anaconda3\\lib\\site-packages (0.4.9)\n",
            "Note: you may need to restart the kernel to use updated packages.\n"
          ]
        }
      ],
      "source": [
        "# initial setup\n",
        "%pip install pint\n",
        "%pip install pyXSteam\n",
        "import numpy as np\n",
        "import pandas as pd\n",
        "import pint                                 # units library\n",
        "from pyntXSteam import pyntXSteam           # pint wrapper for steam library pyXSteam\n",
        "ureg = pint.UnitRegistry()                  # initialize pint units registry for this notebook\n",
        "ureg.autoconvert_offset_to_baseunit = True  # disable relative temperature units\n",
        "ureg.default_format = \"~P\"                  # enable pretty unit outputs\n",
        "steam = pyntXSteam(ureg)                    # initialize steam library with pint registry\n",
        "x = {}                                      # iteration parameters"
      ]
    },
    {
      "cell_type": "markdown",
      "metadata": {
        "id": "Kkgl9r0PNq0W"
      },
      "source": [
        "## Initial Parameters"
      ]
    },
    {
      "cell_type": "code",
      "execution_count": 2,
      "metadata": {
        "id": "ayy2sG3ANq0W"
      },
      "outputs": [],
      "source": [
        "x['trike_weight'] = 2000 * ureg('lb')        # Based on homebuilt electric and CE trikes coming in at 800-1500 lb online\n",
        "x['avg_pressure'] = 125 * ureg('lbf/in**2')  # Based on max of 150 psi saturated steam with margin\n",
        "x['max_velocity'] = 55 * ureg('mi/hr')       # Based on a minimum speed for highway but not freeway travel"
      ]
    },
    {
      "cell_type": "markdown",
      "metadata": {
        "id": "qNyVAgk3Nq0W"
      },
      "source": [
        "What's the maximum RPM we can expect to be able to achieve with the reciprocating engine? Common practice says 250-500 RPM, but we can check top RPMs of prototypical locomotives and steam cars.\n",
        "\n",
        "| Prototype | Max Speed (mi/hr) | Driver Diameter (in) | rev/min |\n",
        "| --- | --- | --- | --- |\n",
        "| UP 844 | 120 | 80 | 504 |\n",
        "| UP 4014 | 80 | 68 | 395 |\n",
        "| Reading 2102 | 80 | 70 | 384 |\n",
        "| PM 1225 | 70 | 69 | 341 |\n",
        "| N&W 611 | 110 | 70 | 528 |\n",
        "| SP 4449 | 110 | 80 | 462 |\n",
        "| Stanley Steam Car | 60 | (N/A) | 900 |\n",
        "| Doble Steam Car | 70 | (N/A) | 900 |"
      ]
    },
    {
      "cell_type": "code",
      "execution_count": 3,
      "metadata": {
        "id": "XbdBBHjPNq0W"
      },
      "outputs": [],
      "source": [
        "x['max_rpm'] = 350 * ureg('1/min')           # Conservative bet for larger reciprocating steam engine"
      ]
    },
    {
      "cell_type": "markdown",
      "metadata": {
        "id": "PZS3p-EaNq0W"
      },
      "source": [
        "## Required Wheel Diameter\n",
        "From the max RPM and max velocity,"
      ]
    },
    {
      "cell_type": "code",
      "execution_count": 4,
      "metadata": {
        "colab": {
          "base_uri": "https://localhost:8080/",
          "height": 34
        },
        "id": "KuqONMYHNq0W",
        "outputId": "c4cf8ae3-0d61-4128-f725-70418a8ee1e6"
      },
      "outputs": [
        {
          "data": {
            "text/html": [
              "52.821251970155906 in"
            ],
            "text/latex": [
              "$52.821251970155906\\ \\mathrm{in}$"
            ],
            "text/plain": [
              "52.821251970155906 <Unit('inch')>"
            ]
          },
          "execution_count": 4,
          "metadata": {},
          "output_type": "execute_result"
        }
      ],
      "source": [
        "def wheel_dia(y):\n",
        "    value = y['max_velocity'] / y['max_rpm'] / np.pi\n",
        "\n",
        "    value = value.to('in')\n",
        "    y['wheel_dia'] = value\n",
        "    return value\n",
        "wheel_dia(x)"
      ]
    },
    {
      "cell_type": "markdown",
      "metadata": {
        "id": "y8yT_BSfNq0X"
      },
      "source": [
        "## Required Acceleration\n",
        "Let's try two paths I have thought of to come up with a target maximum acceleration.\n",
        "\n",
        "### Normal Acceleration Data\n",
        "We want acceleration behavior compatible with traffic, so we can look at published data for conventional road vehicles. The data shown in Figures 1 and 2 are for consumer vehicles accelerating in normal traffic, not the maximum acceleration the vehicles are capable of. Thus, we want to target a value on the high end to reflect extra capacity available for \"flooring it\"."
      ]
    },
    {
      "cell_type": "markdown",
      "metadata": {
        "id": "detchGDkNq0Y"
      },
      "source": [
        "\n",
        "<div align=\"center\">\n",
        "<img src=\"fig5e.PNG\" width=\"400\"/><br />\n",
        "Fig 1. Acceleration vs speed of various gasoline vehicles. Graph, \"Scatter plots of acceleration-speed,\" from P.S.Bokare and A.K.Maurya, Acceleration-Deceleration Behaviour of Various Vehicle Types, page 10, figure 5(e).\n",
        "</div><br />\n",
        "<div align=\"center\">\n",
        "<img src=\"fig6e.PNG\" width=\"400\"/><br />\n",
        "Fig 2. Idealized acceleration vs speed of gasoline vehicles. Graph, \"Idealized plot of acceleration with speed for all vehicle types,\" from P.S.Bokare and A.K.Maurya, Acceleration-Deceleration Behaviour of Various Vehicle Types, page 11, figure 6(e).\n",
        "</div><br />"
      ]
    },
    {
      "cell_type": "markdown",
      "metadata": {
        "id": "mJ5Kz5ePNq0Y"
      },
      "source": [
        "\n",
        "The acceleration curves for these conventional vehicles include gear shifts and will not represent the curve for the steam trike. Instead, we are looking to have a comparable acceleration from a stop.\n",
        "\n",
        "Candidate `max_accel` = 2 \\[m/s^2\\] ≅ 6.5 \\[ft/s^2\\]\n",
        "\n",
        "### 0-60 MPH Time Data\n",
        "0-60 MPH times for vehicles represent maximum acceleration, which is what we want. However, because car acceleration varies as the car accelerates, you're looking at an average max acceleration instead of the highest instantaneous acceleration. Data from ZeroTo60Times.com.\n",
        "\n",
        "| Prototype | 0-60 MPH Time (s) | Acceleration (m/s^2) |\n",
        "| --- | --- | --- |\n",
        "| Geo Metro | 12.6 | 7.0 |\n",
        "| Nissan Versa | 9.0 | 10.0 |\n",
        "| Honda Fit | 7.8 | 11.3 |\n",
        "\n",
        "### Selection\n",
        "We see that the candidate max_accel from normal vehicle acceleration is lower than even the Geo Metro's 0-60 MPH, which makes sense as that was normal traffic acceleration instead of max. Given that we are looking for a usable max acceleration target, let's use that of the Geo Metro."
      ]
    },
    {
      "cell_type": "code",
      "execution_count": 5,
      "metadata": {
        "id": "v8SbmExlNq0Y"
      },
      "outputs": [],
      "source": [
        "x['max_accel'] = 7.0 * ureg('ft/s**2')"
      ]
    },
    {
      "cell_type": "markdown",
      "metadata": {
        "id": "WoUUPBtANq0Z"
      },
      "source": [
        "## Cylinder Dimensions\n",
        "### Required Force at Roadway\n",
        "Required force on the road to accelerate `trike_weight` by `max_accel`"
      ]
    },
    {
      "cell_type": "code",
      "execution_count": 6,
      "metadata": {
        "colab": {
          "base_uri": "https://localhost:8080/",
          "height": 34
        },
        "id": "kqm67QV2Nq0Z",
        "outputId": "76f9fbcf-1c03-42b5-fd85-7e0f0893e0cd"
      },
      "outputs": [
        {
          "data": {
            "text/html": [
              "435.13330240194153 lbf"
            ],
            "text/latex": [
              "$435.13330240194153\\ \\mathrm{lbf}$"
            ],
            "text/plain": [
              "435.13330240194153 <Unit('force_pound')>"
            ]
          },
          "execution_count": 6,
          "metadata": {},
          "output_type": "execute_result"
        }
      ],
      "source": [
        "def road_force(y):\n",
        "    value = y['trike_weight'] * y['max_accel']\n",
        "\n",
        "    value = value.to('lbf')\n",
        "    y['road_force'] = value\n",
        "    return value\n",
        "road_force(x)"
      ]
    },
    {
      "cell_type": "markdown",
      "metadata": {
        "id": "EzS0jPxSNq0Z"
      },
      "source": [
        "### Required Cylinder Volume\n",
        "The mean tractive force of a two cylinder engine, at 90 percent cutoff, with the cylinders 90 degrees out of phase is given by:\n",
        "\n",
        "F = K2 * K3 * avg_pressure * cyl_volume / wheel_dia\n",
        "* K2 = 1.2 - The ratio of mean torque of two identical piston-crank assemblies 90 degrees out of phase to the peak torque of one of the piston-crank assemblies (Jeffrey Hook, Fundamentals of Steam Locomotive Tractive Force, page 7)\n",
        "* K3 = 0.9 - A fudge factor to account for pressure loss between the boiler and the cylinder (Hook)\n",
        "* cyl_volume - The swept volume of the cylinder\n",
        "\n",
        "We will solve for the swept volume of the cylinder,"
      ]
    },
    {
      "cell_type": "code",
      "execution_count": 7,
      "metadata": {
        "colab": {
          "base_uri": "https://localhost:8080/",
          "height": 37
        },
        "id": "cpTVnvIsNq0a",
        "outputId": "22859352-a336-4fca-f16d-19824e3960c4"
      },
      "outputs": [
        {
          "data": {
            "text/html": [
              "198.58422937057054 in<sup>3</sup>"
            ],
            "text/latex": [
              "$198.58422937057054\\ \\mathrm{in}^{3}$"
            ],
            "text/plain": [
              "198.58422937057054 <Unit('inch ** 3')>"
            ]
          },
          "execution_count": 7,
          "metadata": {},
          "output_type": "execute_result"
        }
      ],
      "source": [
        "def cyl_volume(y):\n",
        "    value = road_force(y) * wheel_dia(y) * 1.2 * 0.9 / y['avg_pressure']\n",
        "\n",
        "    value = value.to('in**3')\n",
        "    y['cyl_volume'] = value\n",
        "    return value\n",
        "cyl_volume(x)"
      ]
    },
    {
      "cell_type": "code",
      "execution_count": 8,
      "metadata": {},
      "outputs": [
        {
          "data": {
            "text/html": [
              "63.819551018951444 hp"
            ],
            "text/latex": [
              "$63.819551018951444\\ \\mathrm{hp}$"
            ],
            "text/plain": [
              "63.819551018951444 <Unit('horsepower')>"
            ]
          },
          "execution_count": 8,
          "metadata": {},
          "output_type": "execute_result"
        }
      ],
      "source": [
        "def max_hp(y):\n",
        "    value = road_force(y) * wheel_dia(y) * np.pi * y['max_rpm']\n",
        "\n",
        "    value = value.to('hp')\n",
        "    y['road_force'] = value\n",
        "    return value\n",
        "max_hp(x)"
      ]
    },
    {
      "cell_type": "markdown",
      "metadata": {
        "id": "CP5cUVz9Nq0a"
      },
      "source": [
        "### Required Cylinder Dimensions\n",
        "We set cylinder bore as a parameter and calculate stroke,"
      ]
    },
    {
      "cell_type": "code",
      "execution_count": 9,
      "metadata": {
        "colab": {
          "base_uri": "https://localhost:8080/",
          "height": 34
        },
        "id": "nsA_uO4DNq0a",
        "outputId": "bad95cbc-d9b7-42db-a66a-96e19743bbe3"
      },
      "outputs": [
        {
          "data": {
            "text/html": [
              "10.113811751814735 in"
            ],
            "text/latex": [
              "$10.113811751814735\\ \\mathrm{in}$"
            ],
            "text/plain": [
              "10.113811751814735 <Unit('inch')>"
            ]
          },
          "execution_count": 9,
          "metadata": {},
          "output_type": "execute_result"
        }
      ],
      "source": [
        "x['cyl_bore'] = 5.0 * ureg('in')\n",
        "def cyl_stroke(y):\n",
        "    value = cyl_volume(y) / (y['cyl_bore']**2 * np.pi / 4)\n",
        "\n",
        "    value = value.to('in')\n",
        "    y['cyl_stroke'] = value\n",
        "    return value\n",
        "cyl_stroke(x)"
      ]
    },
    {
      "cell_type": "markdown",
      "metadata": {
        "id": "6Iv8DQWqNq0b"
      },
      "source": [
        "## Steam System Sizing\n",
        "### Maximum Steam Rate\n",
        "Maximum steam rate occurs at max power output, so we need to define a reasonable target. One candidate for max power condition is full power at full throttle and full cutoff, but that is overly conservative. Insetad, lets define max power as the power required to go up a target slope at full speed.\n",
        "\n",
        "In the vicininity of Austin, Ranch Road 2222 encounters a hill of 10% slope for most of a mile as shown in Figure 3. Not far from there, Figure 4 shows that Spicewood Springs has a 15% slope for ~500 ft. Many vehicles struggle to maintain speed going up that slope. Let's design for the longer slope and allow the energy in the accumulator to handle short bursts like Spicewood Springs.\n",
        "\n",
        "<div align=\"center\">\n",
        "<img src=\"2222slope.PNG\" width=\"400\"/><br />\n",
        "Fig 3. Google Earth Pro elevation profile for RM 2222 between Loop 360 and FM 620.\n",
        "</div><br />\n",
        "<div align=\"center\">\n",
        "<img src=\"spicewoodslope.PNG\" width=\"400\"/><br />\n",
        "Fig 4. Google Earth Pro elevation profile for Spicewood Springs Road near Loop 360.\n",
        "</div><br />\n",
        "\n",
        "We neglect air resistance for this calculation, and assume the throttle is full open but cutoff has been linked up."
      ]
    },
    {
      "cell_type": "code",
      "execution_count": 10,
      "metadata": {
        "colab": {
          "base_uri": "https://localhost:8080/",
          "height": 37
        },
        "id": "214okoEINq0b",
        "outputId": "491f056a-1357-4641-e851-b9c9d5211d60"
      },
      "outputs": [
        {
          "data": {
            "text/html": [
              "73.5827542012609 ft<sup>3</sup>/min"
            ],
            "text/latex": [
              "$73.5827542012609\\ \\frac{\\mathrm{ft}^{3}}{\\mathrm{min}}$"
            ],
            "text/plain": [
              "73.5827542012609 <Unit('foot ** 3 / minute')>"
            ]
          },
          "execution_count": 10,
          "metadata": {},
          "output_type": "execute_result"
        }
      ],
      "source": [
        "x['max_road_slope'] = 0.10\n",
        "def max_steam_vol_rate(y):\n",
        "    slope_rad = np.arctan(x['max_road_slope'])\n",
        "    # convert trike_weight to force (assume Earth)\n",
        "    slope_force = (y['trike_weight'].to('lb').magnitude * ureg('lbf')) * np.sin(slope_rad)\n",
        "    # use Hook's equation again, this time to solve for volume of steam\n",
        "    # required to maintain speed on the slope\n",
        "    slope_vol = slope_force * wheel_dia(y) * 1.2 * 0.9 / y['avg_pressure']\n",
        "    value = slope_vol * 4 * y['max_rpm']\n",
        "\n",
        "    value = value.to('ft**3/min')\n",
        "    y['max_steam_vol_rate'] = value\n",
        "    return value\n",
        "max_steam_vol_rate(x)"
      ]
    },
    {
      "cell_type": "code",
      "execution_count": 11,
      "metadata": {
        "colab": {
          "base_uri": "https://localhost:8080/",
          "height": 34
        },
        "id": "BmpTWP-PNq0c",
        "outputId": "79171ca3-4954-4a2d-babe-18145ebc2604"
      },
      "outputs": [
        {
          "data": {
            "text/html": [
              "22.80506769791864 lb/min"
            ],
            "text/latex": [
              "$22.80506769791864\\ \\frac{\\mathrm{lb}}{\\mathrm{min}}$"
            ],
            "text/plain": [
              "22.80506769791864 <Unit('pound / minute')>"
            ]
          },
          "execution_count": 11,
          "metadata": {},
          "output_type": "execute_result"
        }
      ],
      "source": [
        "\n",
        "def max_steam_mass_rate(y):\n",
        "    value = max_steam_vol_rate(y) / steam.vV_p(y['avg_pressure'] + 1 * ureg('atm'))\n",
        "\n",
        "    value = value.to('lb/min')\n",
        "    y['max_steam_mass_rate'] = value\n",
        "    return value\n",
        "max_steam_mass_rate(x)\n"
      ]
    },
    {
      "cell_type": "code",
      "execution_count": 12,
      "metadata": {
        "colab": {
          "base_uri": "https://localhost:8080/",
          "height": 34
        },
        "id": "kstrhAw0Nq0c",
        "outputId": "9f3e58b8-7dba-4309-9cf7-fd045e55d1b5"
      },
      "outputs": [
        {
          "data": {
            "text/html": [
              "2.740740364892484 gal/min"
            ],
            "text/latex": [
              "$2.740740364892484\\ \\frac{\\mathrm{gal}}{\\mathrm{min}}$"
            ],
            "text/plain": [
              "2.740740364892484 <Unit('gallon / minute')>"
            ]
          },
          "execution_count": 12,
          "metadata": {},
          "output_type": "execute_result"
        }
      ],
      "source": [
        "def max_steam_liquid_rate(y):\n",
        "    value = max_steam_mass_rate(y) * steam.v_pt(1 * ureg('atm'), 25 * ureg('degC'))\n",
        "    \n",
        "    value = value.to('gal/min')\n",
        "    y['mass_steam_liquid_rate'] = value\n",
        "    return value\n",
        "max_steam_liquid_rate(x)"
      ]
    },
    {
      "cell_type": "markdown",
      "metadata": {
        "id": "Rqp_ij70Nq0c"
      },
      "source": [
        "There is an empirical relationship between available saturated water surface area, pressure, and the maximum steam release rate in an accumulator."
      ]
    },
    {
      "cell_type": "code",
      "execution_count": 13,
      "metadata": {
        "colab": {
          "base_uri": "https://localhost:8080/",
          "height": 37
        },
        "id": "KHk7iPTTNq0c",
        "outputId": "1bb9d32a-f632-43c8-c607-da8afcb34235"
      },
      "outputs": [
        {
          "data": {
            "text/html": [
              "3.1571179805315643 ft<sup>2</sup>"
            ],
            "text/latex": [
              "$3.1571179805315643\\ \\mathrm{ft}^{2}$"
            ],
            "text/plain": [
              "3.1571179805315643 <Unit('foot ** 2')>"
            ]
          },
          "execution_count": 13,
          "metadata": {},
          "output_type": "execute_result"
        }
      ],
      "source": [
        "\n",
        "def accum_surface_area(y):\n",
        "    area = max_steam_mass_rate(y).to('kg/hr').magnitude / 220 / (y['avg_pressure'].to('bar').magnitude + 1)\n",
        "    value = (area * ureg('m**2'))\n",
        "\n",
        "    value = value.to('ft**2')\n",
        "    y['accum_surface_area'] = value\n",
        "    return value\n",
        "accum_surface_area(x)"
      ]
    },
    {
      "cell_type": "markdown",
      "metadata": {},
      "source": [
        "Next, we find the heat input required to boil water that water (constant pressure, as the feed pump/injector handles that)."
      ]
    },
    {
      "cell_type": "code",
      "execution_count": 14,
      "metadata": {},
      "outputs": [
        {
          "data": {
            "text/html": [
              "1580204.845531284 Btu/h"
            ],
            "text/latex": [
              "$1580204.845531284\\ \\frac{\\mathrm{Btu}}{\\mathrm{h}}$"
            ],
            "text/plain": [
              "1580204.845531284 <Unit('british_thermal_unit / hour')>"
            ]
          },
          "execution_count": 14,
          "metadata": {},
          "output_type": "execute_result"
        }
      ],
      "source": [
        "def max_steam_heat_rate(y):\n",
        "    init_h = steam.h_pt(y['avg_pressure'] + 1 * ureg('atm'), 70 * ureg('degF'))   # liquid phase\n",
        "    final_h = steam.hV_p(y['avg_pressure'] + 1 * ureg('atm'), 1 * ureg(''))    # dry vapor phase\n",
        "    value = max_steam_mass_rate(y) * (final_h - init_h)\n",
        "\n",
        "    value = value.to('Btu/hr')\n",
        "    y['max_steam_heat_rate'] = value\n",
        "    return value\n",
        "max_steam_heat_rate(x)"
      ]
    },
    {
      "cell_type": "markdown",
      "metadata": {},
      "source": [
        "## Evalution of Initial Iteration\n",
        "Now that we have calculated a single design iteration, let's evaluate the results."
      ]
    },
    {
      "cell_type": "code",
      "execution_count": 15,
      "metadata": {},
      "outputs": [
        {
          "data": {
            "text/html": [
              "<div>\n",
              "<style scoped>\n",
              "    .dataframe tbody tr th:only-of-type {\n",
              "        vertical-align: middle;\n",
              "    }\n",
              "\n",
              "    .dataframe tbody tr th {\n",
              "        vertical-align: top;\n",
              "    }\n",
              "\n",
              "    .dataframe thead th {\n",
              "        text-align: right;\n",
              "    }\n",
              "</style>\n",
              "<table border=\"1\" class=\"dataframe\">\n",
              "  <thead>\n",
              "    <tr style=\"text-align: right;\">\n",
              "      <th></th>\n",
              "      <th>trike_weight</th>\n",
              "      <th>avg_pressure</th>\n",
              "      <th>max_velocity</th>\n",
              "      <th>max_rpm</th>\n",
              "      <th>wheel_dia</th>\n",
              "      <th>max_accel</th>\n",
              "      <th>road_force</th>\n",
              "      <th>cyl_volume</th>\n",
              "      <th>cyl_bore</th>\n",
              "      <th>cyl_stroke</th>\n",
              "      <th>max_road_slope</th>\n",
              "      <th>max_steam_vol_rate</th>\n",
              "      <th>max_steam_mass_rate</th>\n",
              "      <th>mass_steam_liquid_rate</th>\n",
              "      <th>accum_surface_area</th>\n",
              "      <th>max_steam_heat_rate</th>\n",
              "    </tr>\n",
              "  </thead>\n",
              "  <tbody>\n",
              "    <tr>\n",
              "      <th>1</th>\n",
              "      <td>2000 lb</td>\n",
              "      <td>125.0 lbf/in²</td>\n",
              "      <td>55.0 mi/h</td>\n",
              "      <td>350.0 1/min</td>\n",
              "      <td>52.821251970155906 in</td>\n",
              "      <td>7.0 ft/s²</td>\n",
              "      <td>435.13330240194153 lbf</td>\n",
              "      <td>198.58422937057054 in³</td>\n",
              "      <td>5.0 in</td>\n",
              "      <td>10.113811751814735 in</td>\n",
              "      <td>0.10</td>\n",
              "      <td>73.5827542012609 ft³/min</td>\n",
              "      <td>22.80506769791864 lb/min</td>\n",
              "      <td>2.740740364892484 gal/min</td>\n",
              "      <td>3.1571179805315643 ft²</td>\n",
              "      <td>1580204.845531284 Btu/h</td>\n",
              "    </tr>\n",
              "  </tbody>\n",
              "</table>\n",
              "</div>"
            ],
            "text/plain": [
              "  trike_weight   avg_pressure max_velocity      max_rpm  \\\n",
              "1      2000 lb  125.0 lbf/in²    55.0 mi/h  350.0 1/min   \n",
              "\n",
              "               wheel_dia  max_accel              road_force  \\\n",
              "1  52.821251970155906 in  7.0 ft/s²  435.13330240194153 lbf   \n",
              "\n",
              "               cyl_volume cyl_bore             cyl_stroke  max_road_slope  \\\n",
              "1  198.58422937057054 in³   5.0 in  10.113811751814735 in            0.10   \n",
              "\n",
              "         max_steam_vol_rate       max_steam_mass_rate  \\\n",
              "1  73.5827542012609 ft³/min  22.80506769791864 lb/min   \n",
              "\n",
              "      mass_steam_liquid_rate      accum_surface_area      max_steam_heat_rate  \n",
              "1  2.740740364892484 gal/min  3.1571179805315643 ft²  1580204.845531284 Btu/h  "
            ]
          },
          "execution_count": 15,
          "metadata": {},
          "output_type": "execute_result"
        }
      ],
      "source": [
        "df = pd.DataFrame(x, index=[1])\n",
        "df.style.format(\".2f\")\n",
        "df"
      ]
    },
    {
      "cell_type": "markdown",
      "metadata": {},
      "source": [
        "* Wheel diameter - Road legal tires up to 53\" are commercially available, but they are heavy, expensive, and wide\n",
        "* Cylinder dimensions - Performing any machining operations on the 10 inch axis of the cylinder block is going to be difficult on any readily-available machine, but finding and working with stock that supports a 5 inch or larger bore will be difficult too\n",
        "* Max Steam Heat Rate - 1.5 million BTU/hr is over twice what the largest DC burner available can put out, and that's not even including the inefficiency of heat transfer to the coil\n",
        "\n",
        "From here, we can tweak assumptions as we like to get a design that looks more reasonable."
      ]
    },
    {
      "cell_type": "markdown",
      "metadata": {},
      "source": [
        "# Iterations"
      ]
    },
    {
      "cell_type": "code",
      "execution_count": 16,
      "metadata": {},
      "outputs": [],
      "source": [
        "iters = [\n",
        "    x,\n",
        "    {\n",
        "        \"trike_weight\": 1500 * ureg('lb'),\n",
        "        \"avg_pressure\": 125 * ureg('lbf/in**2'),\n",
        "        \"max_velocity\": 45 * ureg('mi/hr'),\n",
        "        \"max_rpm\": 350 * ureg('1/min'),\n",
        "        \"max_accel\": 7 * ureg('ft/s**2'),\n",
        "        \"cyl_bore\": 4.5 * ureg('in'),\n",
        "        \"max_road_slope\": 0.1 * ureg('')\n",
        "    }\n",
        "]"
      ]
    },
    {
      "cell_type": "code",
      "execution_count": 17,
      "metadata": {},
      "outputs": [
        {
          "data": {
            "text/html": [
              "<div>\n",
              "<style scoped>\n",
              "    .dataframe tbody tr th:only-of-type {\n",
              "        vertical-align: middle;\n",
              "    }\n",
              "\n",
              "    .dataframe tbody tr th {\n",
              "        vertical-align: top;\n",
              "    }\n",
              "\n",
              "    .dataframe thead th {\n",
              "        text-align: right;\n",
              "    }\n",
              "</style>\n",
              "<table border=\"1\" class=\"dataframe\">\n",
              "  <thead>\n",
              "    <tr style=\"text-align: right;\">\n",
              "      <th></th>\n",
              "      <th>trike_weight</th>\n",
              "      <th>avg_pressure</th>\n",
              "      <th>max_velocity</th>\n",
              "      <th>max_rpm</th>\n",
              "      <th>wheel_dia</th>\n",
              "      <th>max_accel</th>\n",
              "      <th>road_force</th>\n",
              "      <th>cyl_volume</th>\n",
              "      <th>cyl_bore</th>\n",
              "      <th>cyl_stroke</th>\n",
              "      <th>max_road_slope</th>\n",
              "      <th>max_steam_vol_rate</th>\n",
              "      <th>max_steam_mass_rate</th>\n",
              "      <th>mass_steam_liquid_rate</th>\n",
              "      <th>accum_surface_area</th>\n",
              "      <th>max_steam_heat_rate</th>\n",
              "    </tr>\n",
              "  </thead>\n",
              "  <tbody>\n",
              "    <tr>\n",
              "      <th>0</th>\n",
              "      <td>2000 lb</td>\n",
              "      <td>125.0 lbf/in²</td>\n",
              "      <td>55.0 mi/h</td>\n",
              "      <td>350.0 1/min</td>\n",
              "      <td>52.821251970155906 in</td>\n",
              "      <td>7.0 ft/s²</td>\n",
              "      <td>435.13330240194153 lbf</td>\n",
              "      <td>198.58422937057054 in³</td>\n",
              "      <td>5.0 in</td>\n",
              "      <td>10.113811751814735 in</td>\n",
              "      <td>0.10</td>\n",
              "      <td>73.5827542012609 ft³/min</td>\n",
              "      <td>22.80506769791864 lb/min</td>\n",
              "      <td>2.740740364892484 gal/min</td>\n",
              "      <td>3.1571179805315643 ft²</td>\n",
              "      <td>1580204.845531284 Btu/h</td>\n",
              "    </tr>\n",
              "    <tr>\n",
              "      <th>1</th>\n",
              "      <td>1500 lb</td>\n",
              "      <td>125.0 lbf/in²</td>\n",
              "      <td>45.0 mi/h</td>\n",
              "      <td>350.0 1/min</td>\n",
              "      <td>43.2173879755821 in</td>\n",
              "      <td>7.0 ft/s²</td>\n",
              "      <td>326.34997680145614 lbf</td>\n",
              "      <td>121.85850438648647 in³</td>\n",
              "      <td>4.5 in</td>\n",
              "      <td>7.661978599859648 in</td>\n",
              "      <td>0.1</td>\n",
              "      <td>45.15305371441009 ft³/min</td>\n",
              "      <td>13.994018814631891 lb/min</td>\n",
              "      <td>1.6818179511840239 gal/min</td>\n",
              "      <td>1.937322397144369 ft²</td>\n",
              "      <td>969671.1552123787 Btu/h</td>\n",
              "    </tr>\n",
              "  </tbody>\n",
              "</table>\n",
              "</div>"
            ],
            "text/plain": [
              "  trike_weight   avg_pressure max_velocity      max_rpm  \\\n",
              "0      2000 lb  125.0 lbf/in²    55.0 mi/h  350.0 1/min   \n",
              "1      1500 lb  125.0 lbf/in²    45.0 mi/h  350.0 1/min   \n",
              "\n",
              "               wheel_dia  max_accel              road_force  \\\n",
              "0  52.821251970155906 in  7.0 ft/s²  435.13330240194153 lbf   \n",
              "1    43.2173879755821 in  7.0 ft/s²  326.34997680145614 lbf   \n",
              "\n",
              "               cyl_volume cyl_bore             cyl_stroke max_road_slope  \\\n",
              "0  198.58422937057054 in³   5.0 in  10.113811751814735 in           0.10   \n",
              "1  121.85850438648647 in³   4.5 in   7.661978599859648 in            0.1   \n",
              "\n",
              "          max_steam_vol_rate        max_steam_mass_rate  \\\n",
              "0   73.5827542012609 ft³/min   22.80506769791864 lb/min   \n",
              "1  45.15305371441009 ft³/min  13.994018814631891 lb/min   \n",
              "\n",
              "       mass_steam_liquid_rate      accum_surface_area      max_steam_heat_rate  \n",
              "0   2.740740364892484 gal/min  3.1571179805315643 ft²  1580204.845531284 Btu/h  \n",
              "1  1.6818179511840239 gal/min   1.937322397144369 ft²  969671.1552123787 Btu/h  "
            ]
          },
          "execution_count": 17,
          "metadata": {},
          "output_type": "execute_result"
        }
      ],
      "source": [
        "# run calculations\n",
        "for each in iters:\n",
        "    max_hp(each)\n",
        "    cyl_stroke(each)\n",
        "    max_steam_liquid_rate(each)\n",
        "    accum_surface_area(each)\n",
        "    max_steam_heat_rate(each)\n",
        "# display\n",
        "df = pd.DataFrame(iters)\n",
        "df"
      ]
    }
  ],
  "metadata": {
    "colab": {
      "provenance": []
    },
    "kernelspec": {
      "display_name": "base",
      "language": "python",
      "name": "python3"
    },
    "language_info": {
      "codemirror_mode": {
        "name": "ipython",
        "version": 3
      },
      "file_extension": ".py",
      "mimetype": "text/x-python",
      "name": "python",
      "nbconvert_exporter": "python",
      "pygments_lexer": "ipython3",
      "version": "3.11.5"
    }
  },
  "nbformat": 4,
  "nbformat_minor": 0
}
