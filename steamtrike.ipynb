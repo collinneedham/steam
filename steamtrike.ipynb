{
  "cells": [
    {
      "cell_type": "markdown",
      "metadata": {
        "id": "ipFG9UEmNq0U"
      },
      "source": [
        "# Steam Trike Calculations\n",
        "Like many design tasks, sizing the various components of the steam trike is an iterative process. We start with certain assumed parameters and goals, then develop cylinder and accumulator dimensions. These, in turn, affect piping and generator design. At various points in the design, we can compare the results against the initial assumptions and adjust.\n",
        "\n",
        "In this notebook, we start with one set of assumed parameters as a demonstration, but develop the code in a way that we can evaluate different sets of parameters easily."
      ]
    },
    {
      "cell_type": "code",
      "execution_count": 1,
      "metadata": {
        "colab": {
          "base_uri": "https://localhost:8080/"
        },
        "id": "25iAbNxlNq0V",
        "outputId": "a5d5cb30-1c41-4bb3-f4ab-ce4795040732"
      },
      "outputs": [
        {
          "name": "stdout",
          "output_type": "stream",
          "text": [
            "Requirement already satisfied: pint in c:\\users\\click\\anaconda3\\lib\\site-packages (0.22)\n",
            "Requirement already satisfied: typing-extensions in c:\\users\\click\\anaconda3\\lib\\site-packages (from pint) (4.7.1)\n",
            "Note: you may need to restart the kernel to use updated packages.\n",
            "Requirement already satisfied: pyXSteam in c:\\users\\click\\anaconda3\\lib\\site-packages (0.4.9)\n",
            "Note: you may need to restart the kernel to use updated packages.\n"
          ]
        }
      ],
      "source": [
        "# initial setup\n",
        "%pip install pint\n",
        "%pip install pyXSteam\n",
        "import numpy as np\n",
        "import pandas as pd\n",
        "import pint                                 # units library\n",
        "from pyntXSteam import pyntXSteam           # pint wrapper for steam library pyXSteam\n",
        "ureg = pint.UnitRegistry()                  # initialize pint units registry for this notebook\n",
        "ureg.autoconvert_offset_to_baseunit = True  # disable relative temperature units\n",
        "ureg.default_format = \"~P\"                  # enable pretty unit outputs\n",
        "steam = pyntXSteam(ureg)                    # initialize steam library with pint registry\n",
        "x = {}                                      # iteration parameters"
      ]
    },
    {
      "cell_type": "markdown",
      "metadata": {
        "id": "Kkgl9r0PNq0W"
      },
      "source": [
        "## Initial Parameters"
      ]
    },
    {
      "cell_type": "code",
      "execution_count": 2,
      "metadata": {
        "id": "ayy2sG3ANq0W"
      },
      "outputs": [],
      "source": [
        "x['trike_weight'] = 2000 * ureg('lb')           # Based on homebuilt electric and CE trikes coming in at 800-1500 lb online\n",
        "x['avg_pressure'] = 125 * ureg('lbf/in**2')     # Based on max of 150 psi saturated steam with margin\n",
        "x['pressure_deadband'] = 40 * ureg('lbf/in**2') # Based on avg_pressure and max 150 psi saturated steam, with margen\n",
        "x['max_velocity'] = 55 * ureg('mi/hr')          # Based on a minimum speed for highway but not freeway travel"
      ]
    },
    {
      "cell_type": "markdown",
      "metadata": {
        "id": "qNyVAgk3Nq0W"
      },
      "source": [
        "## Required Wheel Diameter\n",
        "What's the maximum RPM we can expect to be able to achieve with the reciprocating engine? Common practice says 250-500 RPM, but we can check top RPMs of prototypical locomotives and steam cars.\n",
        "\n",
        "| Prototype | Max Speed (mi/hr) | Driver Diameter (in) | rev/min |\n",
        "| --- | --- | --- | --- |\n",
        "| UP 844 | 120 | 80 | 504 |\n",
        "| UP 4014 | 80 | 68 | 395 |\n",
        "| Reading 2102 | 80 | 70 | 384 |\n",
        "| PM 1225 | 70 | 69 | 341 |\n",
        "| N&W 611 | 110 | 70 | 528 |\n",
        "| SP 4449 | 110 | 80 | 462 |\n",
        "| Stanley Steam Car | 60 | (N/A) | 900 |\n",
        "| Doble Steam Car | 70 | (N/A) | 900 |"
      ]
    },
    {
      "cell_type": "code",
      "execution_count": 3,
      "metadata": {
        "id": "XbdBBHjPNq0W"
      },
      "outputs": [],
      "source": [
        "x['max_rpm'] = 350 * ureg('1/min')           # Conservative bet for larger reciprocating steam engine"
      ]
    },
    {
      "cell_type": "markdown",
      "metadata": {},
      "source": [
        "With maximum RPM and maximum velocity, we can calculate the wheel diameter."
      ]
    },
    {
      "cell_type": "code",
      "execution_count": 4,
      "metadata": {
        "colab": {
          "base_uri": "https://localhost:8080/",
          "height": 34
        },
        "id": "KuqONMYHNq0W",
        "outputId": "c4cf8ae3-0d61-4128-f725-70418a8ee1e6"
      },
      "outputs": [
        {
          "data": {
            "text/html": [
              "52.821251970155906 in"
            ],
            "text/latex": [
              "$52.821251970155906\\ \\mathrm{in}$"
            ],
            "text/plain": [
              "52.821251970155906 <Unit('inch')>"
            ]
          },
          "execution_count": 4,
          "metadata": {},
          "output_type": "execute_result"
        }
      ],
      "source": [
        "def wheel_dia(y):\n",
        "    value = y['max_velocity'] / y['max_rpm'] / np.pi\n",
        "\n",
        "    value = value.to('in')\n",
        "    y['wheel_dia'] = value\n",
        "    return value\n",
        "wheel_dia(x)"
      ]
    },
    {
      "cell_type": "markdown",
      "metadata": {
        "id": "y8yT_BSfNq0X"
      },
      "source": [
        "## Required Acceleration\n",
        "Let's try two paths I have thought of to come up with a target maximum acceleration.\n",
        "\n",
        "### Normal Acceleration Data\n",
        "We want acceleration behavior compatible with traffic, so we can look at published data for conventional road vehicles. The data shown in Figures 1 and 2 are for consumer vehicles accelerating in normal traffic, not the maximum acceleration the vehicles are capable of. Thus, we want to target a value on the high end to reflect extra capacity available for \"flooring it\"."
      ]
    },
    {
      "cell_type": "markdown",
      "metadata": {
        "id": "detchGDkNq0Y"
      },
      "source": [
        "\n",
        "<div align=\"center\">\n",
        "<img src=\"fig5e.PNG\" width=\"400\"/><br />\n",
        "Fig 1. Acceleration vs speed of various gasoline vehicles. Graph, \"Scatter plots of acceleration-speed,\" from P.S.Bokare and A.K.Maurya, Acceleration-Deceleration Behaviour of Various Vehicle Types, page 10, figure 5(e).\n",
        "</div><br />\n",
        "<div align=\"center\">\n",
        "<img src=\"fig6e.PNG\" width=\"400\"/><br />\n",
        "Fig 2. Idealized acceleration vs speed of gasoline vehicles. Graph, \"Idealized plot of acceleration with speed for all vehicle types,\" from P.S.Bokare and A.K.Maurya, Acceleration-Deceleration Behaviour of Various Vehicle Types, page 11, figure 6(e).\n",
        "</div><br />"
      ]
    },
    {
      "cell_type": "markdown",
      "metadata": {
        "id": "mJ5Kz5ePNq0Y"
      },
      "source": [
        "\n",
        "The acceleration curves for these conventional vehicles include gear shifts and will not represent the curve for the steam trike. Instead, we are looking to have a comparable acceleration from a stop.\n",
        "\n",
        "Candidate `max_accel` = 2 \\[m/s^2\\] ≅ 6.5 \\[ft/s^2\\]\n",
        "\n",
        "### 0-60 MPH Time Data\n",
        "0-60 MPH times for vehicles represent maximum acceleration, which is what we want. However, because car acceleration varies as the car accelerates, you're looking at an average max acceleration instead of the highest instantaneous acceleration. Data from ZeroTo60Times.com.\n",
        "\n",
        "| Prototype | 0-60 MPH Time (s) | Acceleration (m/s^2) |\n",
        "| --- | --- | --- |\n",
        "| Geo Metro | 12.6 | 7.0 |\n",
        "| Nissan Versa | 9.0 | 10.0 |\n",
        "| Honda Fit | 7.8 | 11.3 |\n",
        "\n",
        "### Selection\n",
        "We see that the candidate max_accel from normal vehicle acceleration is lower than even the Geo Metro's 0-60 MPH, which makes sense as that was normal traffic acceleration instead of max. Given that we are looking for a usable max acceleration target, let's use that of the Geo Metro."
      ]
    },
    {
      "cell_type": "code",
      "execution_count": 5,
      "metadata": {
        "id": "v8SbmExlNq0Y"
      },
      "outputs": [],
      "source": [
        "x['max_accel'] = 7.0 * ureg('ft/s**2')"
      ]
    },
    {
      "cell_type": "markdown",
      "metadata": {
        "id": "WoUUPBtANq0Z"
      },
      "source": [
        "## Cylinder Dimensions\n",
        "### Required Force at Roadway\n",
        "Required force on the road to accelerate `trike_weight` by `max_accel`"
      ]
    },
    {
      "cell_type": "code",
      "execution_count": 6,
      "metadata": {
        "colab": {
          "base_uri": "https://localhost:8080/",
          "height": 34
        },
        "id": "kqm67QV2Nq0Z",
        "outputId": "76f9fbcf-1c03-42b5-fd85-7e0f0893e0cd"
      },
      "outputs": [
        {
          "data": {
            "text/html": [
              "435.13330240194153 lbf"
            ],
            "text/latex": [
              "$435.13330240194153\\ \\mathrm{lbf}$"
            ],
            "text/plain": [
              "435.13330240194153 <Unit('force_pound')>"
            ]
          },
          "execution_count": 6,
          "metadata": {},
          "output_type": "execute_result"
        }
      ],
      "source": [
        "def road_force(y):\n",
        "    value = y['trike_weight'] * y['max_accel']\n",
        "\n",
        "    value = value.to('lbf')\n",
        "    y['road_force'] = value\n",
        "    return value\n",
        "road_force(x)"
      ]
    },
    {
      "cell_type": "markdown",
      "metadata": {
        "id": "EzS0jPxSNq0Z"
      },
      "source": [
        "### Required Cylinder Volume\n",
        "The mean tractive force of a two cylinder engine, at 90 percent cutoff, with the cylinders 90 degrees out of phase is given by:\n",
        "\n",
        "F = K2 * K3 * avg_pressure * cyl_volume / wheel_dia\n",
        "* K2 = 1.2 - The ratio of mean torque of two identical piston-crank assemblies 90 degrees out of phase to the peak torque of one of the piston-crank assemblies (Jeffrey Hook, Fundamentals of Steam Locomotive Tractive Force, page 7)\n",
        "* K3 = 0.9 - A fudge factor to account for pressure loss between the boiler and the cylinder (Hook)\n",
        "* cyl_volume - The swept volume of the cylinder\n",
        "\n",
        "We will solve for the swept volume of the cylinder,"
      ]
    },
    {
      "cell_type": "code",
      "execution_count": 7,
      "metadata": {
        "colab": {
          "base_uri": "https://localhost:8080/",
          "height": 37
        },
        "id": "cpTVnvIsNq0a",
        "outputId": "22859352-a336-4fca-f16d-19824e3960c4"
      },
      "outputs": [
        {
          "data": {
            "text/html": [
              "198.58422937057054 in<sup>3</sup>"
            ],
            "text/latex": [
              "$198.58422937057054\\ \\mathrm{in}^{3}$"
            ],
            "text/plain": [
              "198.58422937057054 <Unit('inch ** 3')>"
            ]
          },
          "execution_count": 7,
          "metadata": {},
          "output_type": "execute_result"
        }
      ],
      "source": [
        "def cyl_volume(y):\n",
        "    value = road_force(y) * wheel_dia(y) * 1.2 * 0.9 / y['avg_pressure']\n",
        "\n",
        "    value = value.to('in**3')\n",
        "    y['cyl_volume'] = value\n",
        "    return value\n",
        "cyl_volume(x)"
      ]
    },
    {
      "cell_type": "code",
      "execution_count": 8,
      "metadata": {},
      "outputs": [
        {
          "data": {
            "text/html": [
              "63.819551018951444 hp"
            ],
            "text/latex": [
              "$63.819551018951444\\ \\mathrm{hp}$"
            ],
            "text/plain": [
              "63.819551018951444 <Unit('horsepower')>"
            ]
          },
          "execution_count": 8,
          "metadata": {},
          "output_type": "execute_result"
        }
      ],
      "source": [
        "def max_hp(y):\n",
        "    value = road_force(y) * wheel_dia(y) * np.pi * y['max_rpm']\n",
        "\n",
        "    value = value.to('hp')\n",
        "    y['road_force'] = value\n",
        "    return value\n",
        "max_hp(x)"
      ]
    },
    {
      "cell_type": "markdown",
      "metadata": {
        "id": "CP5cUVz9Nq0a"
      },
      "source": [
        "### Required Cylinder Dimensions\n",
        "We set cylinder bore as a parameter and calculate stroke and max piston speed during stroke, which is needed for seal selection later."
      ]
    },
    {
      "cell_type": "code",
      "execution_count": 9,
      "metadata": {
        "colab": {
          "base_uri": "https://localhost:8080/",
          "height": 34
        },
        "id": "nsA_uO4DNq0a",
        "outputId": "bad95cbc-d9b7-42db-a66a-96e19743bbe3"
      },
      "outputs": [
        {
          "data": {
            "text/html": [
              "10.113811751814735 in"
            ],
            "text/latex": [
              "$10.113811751814735\\ \\mathrm{in}$"
            ],
            "text/plain": [
              "10.113811751814735 <Unit('inch')>"
            ]
          },
          "execution_count": 9,
          "metadata": {},
          "output_type": "execute_result"
        }
      ],
      "source": [
        "x['cyl_bore'] = 5.0 * ureg('in')\n",
        "def cyl_stroke(y):\n",
        "    value = cyl_volume(y) / (y['cyl_bore']**2 * np.pi / 4)\n",
        "\n",
        "    value = value.to('in')\n",
        "    y['cyl_stroke'] = value\n",
        "    return value\n",
        "cyl_stroke(x)"
      ]
    },
    {
      "cell_type": "code",
      "execution_count": 10,
      "metadata": {},
      "outputs": [
        {
          "data": {
            "text/html": [
              "2.4582181341216365 ft/s"
            ],
            "text/latex": [
              "$2.4582181341216365\\ \\frac{\\mathrm{ft}}{\\mathrm{s}}$"
            ],
            "text/plain": [
              "2.4582181341216365 <Unit('foot / second')>"
            ]
          },
          "execution_count": 10,
          "metadata": {},
          "output_type": "execute_result"
        }
      ],
      "source": [
        "def max_piston_speed(y):\n",
        "    value = y['max_rpm'] * cyl_stroke(y) / 2\n",
        "\n",
        "    value = value.to('ft/s')\n",
        "    y['max_piston_speed'] = value\n",
        "    return value\n",
        "max_piston_speed(x)\n"
      ]
    },
    {
      "cell_type": "markdown",
      "metadata": {
        "id": "6Iv8DQWqNq0b"
      },
      "source": [
        "## Steam System Sizing\n",
        "### Maximum Steam Rate\n",
        "Maximum steam rate occurs at max power output, so we need to define a reasonable target. One candidate for max power condition is full power at full throttle and full cutoff, but that is overly conservative. Insetad, lets define max power as the power required to go up a target slope at full speed.\n",
        "\n",
        "In the vicininity of Austin, Ranch Road 2222 encounters a hill of 10% slope for most of a mile as shown in Figure 3. Not far from there, Figure 4 shows that Spicewood Springs has a 15% slope for ~500 ft. Many vehicles struggle to maintain speed going up that slope. Let's design for the longer slope and allow the energy in the accumulator to handle short bursts like Spicewood Springs.\n",
        "\n",
        "<div align=\"center\">\n",
        "<img src=\"2222slope.PNG\" width=\"400\"/><br />\n",
        "Fig 3. Google Earth Pro elevation profile for RM 2222 between Loop 360 and FM 620.\n",
        "</div><br />\n",
        "<div align=\"center\">\n",
        "<img src=\"spicewoodslope.PNG\" width=\"400\"/><br />\n",
        "Fig 4. Google Earth Pro elevation profile for Spicewood Springs Road near Loop 360.\n",
        "</div><br />\n",
        "\n",
        "We neglect air resistance for this calculation, and assume the throttle is full open but cutoff has been linked up. This means that on each stroke, a certain volume of steam is admitted at the full pressure available to the cylinder, then allowed to expand to an exhaust pressure. We can assume isentropic expansion to find the mass of steam required to produce the energy per stroke required to maintain speed up the target slope."
      ]
    },
    {
      "cell_type": "code",
      "execution_count": 11,
      "metadata": {},
      "outputs": [
        {
          "data": {
            "text/html": [
              "11.416322302878683 lb/min"
            ],
            "text/latex": [
              "$11.416322302878683\\ \\frac{\\mathrm{lb}}{\\mathrm{min}}$"
            ],
            "text/plain": [
              "11.416322302878683 <Unit('pound / minute')>"
            ]
          },
          "execution_count": 11,
          "metadata": {},
          "output_type": "execute_result"
        }
      ],
      "source": [
        "\n",
        "def max_steam_mass_rate(y):\n",
        "    x['max_road_slope'] = 0.10\n",
        "    slope_rad = np.arctan(x['max_road_slope'])\n",
        "    # convert trike_weight to force (assume Earth)\n",
        "    slope_force = (y['trike_weight'].to('lb').magnitude * ureg('lbf')) * np.sin(slope_rad)\n",
        "    slope_power = slope_force * y['max_velocity']\n",
        "    stroke_energy = slope_power / y['max_rpm'] / 4\n",
        "    # convert avg_pressure into absolute pressure, \n",
        "    # taking into account pressure loss between boiler and cylinder per Hook's approximation\n",
        "    p1 = y['avg_pressure'] * 0.9 + (1 * ureg('atm'))\n",
        "    p2 = 1 * ureg('atm') + 10 * ureg('lbf/in**2')\n",
        "    u1 = steam.uV_p(p1)\n",
        "    # assume isentropic expansion\n",
        "    s = steam.sV_p(p1)\n",
        "    u2 = steam.u_ps(p2, s)\n",
        "    stroke_mass = stroke_energy / (u1 - u2)\n",
        "    value =  stroke_mass * 4 * y['max_rpm']\n",
        "    \n",
        "    value = value.to('lb/min')\n",
        "    y['max_steam_mass_rate'] = value\n",
        "    return value\n",
        "max_steam_mass_rate(x)"
      ]
    },
    {
      "cell_type": "code",
      "execution_count": 12,
      "metadata": {
        "colab": {
          "base_uri": "https://localhost:8080/",
          "height": 34
        },
        "id": "kstrhAw0Nq0c",
        "outputId": "9f3e58b8-7dba-4309-9cf7-fd045e55d1b5"
      },
      "outputs": [
        {
          "data": {
            "text/html": [
              "1.3720272953619692 gal/min"
            ],
            "text/latex": [
              "$1.3720272953619692\\ \\frac{\\mathrm{gal}}{\\mathrm{min}}$"
            ],
            "text/plain": [
              "1.3720272953619692 <Unit('gallon / minute')>"
            ]
          },
          "execution_count": 12,
          "metadata": {},
          "output_type": "execute_result"
        }
      ],
      "source": [
        "def max_steam_liquid_rate(y):\n",
        "    value = max_steam_mass_rate(y) * steam.v_pt(1 * ureg('atm'), 25 * ureg('degC'))\n",
        "    \n",
        "    value = value.to('gal/min')\n",
        "    y['mass_steam_liquid_rate'] = value\n",
        "    return value\n",
        "max_steam_liquid_rate(x)"
      ]
    },
    {
      "cell_type": "markdown",
      "metadata": {},
      "source": [
        "### Accumulator Sizing\n",
        "We can use the mass flow at average boiler pressure to determine how long the accumulator will last at max steam rate when discharging from the top to the bottom of the pressure deadband."
      ]
    },
    {
      "cell_type": "code",
      "execution_count": 13,
      "metadata": {},
      "outputs": [
        {
          "data": {
            "text/html": [
              "2.8875662456430393 lb"
            ],
            "text/latex": [
              "$2.8875662456430393\\ \\mathrm{lb}$"
            ],
            "text/plain": [
              "2.8875662456430393 <Unit('pound')>"
            ]
          },
          "execution_count": 13,
          "metadata": {},
          "output_type": "execute_result"
        }
      ],
      "source": [
        "x['accum_capacity'] = 15 * ureg('gal')\n",
        "def accum_steam_mass(y):\n",
        "    max_p = y['avg_pressure'] + y['pressure_deadband'] / 2\n",
        "    min_p = y['avg_pressure'] - y['pressure_deadband'] / 2\n",
        "    # assume accumulator is 90% full of saturated water when charged\n",
        "    liquid_volume = x['accum_capacity'] * 0.9\n",
        "    liquid_mass = liquid_volume / steam.vL_p(max_p)\n",
        "    # using equation 3.22.1 from the Spirax Sarco guide\n",
        "    delta_h = steam.hL_p(max_p) - steam.hL_p(min_p)\n",
        "    value = delta_h * liquid_mass / (steam.hV_p(min_p) - steam.hL_p(min_p))\n",
        "\n",
        "    value = value.to('lb')\n",
        "    y['accum_steam_mass'] = value\n",
        "    return value\n",
        "accum_steam_mass(x)"
      ]
    },
    {
      "cell_type": "code",
      "execution_count": 14,
      "metadata": {},
      "outputs": [
        {
          "data": {
            "text/html": [
              "15.17598839119105 s"
            ],
            "text/latex": [
              "$15.17598839119105\\ \\mathrm{s}$"
            ],
            "text/plain": [
              "15.17598839119105 <Unit('second')>"
            ]
          },
          "execution_count": 14,
          "metadata": {},
          "output_type": "execute_result"
        }
      ],
      "source": [
        "def accum_buffer_time(y):\n",
        "    value = accum_steam_mass(y) / max_steam_mass_rate(y)\n",
        "\n",
        "    value = value.to('s')\n",
        "    y['accum_buffer_time'] = value\n",
        "    return value\n",
        "accum_buffer_time(x)"
      ]
    },
    {
      "cell_type": "markdown",
      "metadata": {
        "id": "Rqp_ij70Nq0c"
      },
      "source": [
        "The Spirax Sarco [accumulator sizing guide](https://www.spiraxsarco.com/learn-about-steam/the-boiler-house/steam-accumulators) includes an empirical relationship between available saturated water surface area, pressure, and the maximum steam release rate in an accumulator without entraining water. We use this to find the required surface area in the accumulator required to support max steam rate."
      ]
    },
    {
      "cell_type": "code",
      "execution_count": 15,
      "metadata": {
        "colab": {
          "base_uri": "https://localhost:8080/",
          "height": 37
        },
        "id": "KHk7iPTTNq0c",
        "outputId": "1bb9d32a-f632-43c8-c607-da8afcb34235"
      },
      "outputs": [
        {
          "data": {
            "text/html": [
              "1.5804678543993678 ft<sup>2</sup>"
            ],
            "text/latex": [
              "$1.5804678543993678\\ \\mathrm{ft}^{2}$"
            ],
            "text/plain": [
              "1.5804678543993678 <Unit('foot ** 2')>"
            ]
          },
          "execution_count": 15,
          "metadata": {},
          "output_type": "execute_result"
        }
      ],
      "source": [
        "\n",
        "def accum_surface_area(y):\n",
        "    area = max_steam_mass_rate(y).to('kg/hr').magnitude / 220 / (y['avg_pressure'].to('bar').magnitude + 1)\n",
        "    value = (area * ureg('m**2'))\n",
        "\n",
        "    value = value.to('ft**2')\n",
        "    y['accum_surface_area'] = value\n",
        "    return value\n",
        "accum_surface_area(x)"
      ]
    },
    {
      "cell_type": "markdown",
      "metadata": {},
      "source": [
        "### Steam Generator Sizing\n",
        "Next, we find the heat input required to boil water that water (at constant pressure, as the feed pump/injector handles that), assuming some heat transfer efficiency for the generator coil."
      ]
    },
    {
      "cell_type": "code",
      "execution_count": 16,
      "metadata": {},
      "outputs": [
        {
          "data": {
            "text/html": [
              "7.071540885082615 lb/min"
            ],
            "text/latex": [
              "$7.071540885082615\\ \\frac{\\mathrm{lb}}{\\mathrm{min}}$"
            ],
            "text/plain": [
              "7.071540885082615 <Unit('pound / minute')>"
            ]
          },
          "execution_count": 16,
          "metadata": {},
          "output_type": "execute_result"
        }
      ],
      "source": [
        "\n",
        "x['burner_power'] = 700000 * ureg('Btu/hr')\n",
        "x['gen_coil_efficiency'] = 0.7\n",
        "def gen_mass_rate(y):\n",
        "    init_h = steam.h_pt(y['avg_pressure'] + 1 * ureg('atm'), 70 * ureg('degF'))   # liquid phase\n",
        "    final_h = steam.hV_p(y['avg_pressure'] + 1 * ureg('atm'), 1 * ureg(''))    # dry vapor phase\n",
        "    heat_transfer_rate = x['burner_power'] * x['gen_coil_efficiency']\n",
        "    value = heat_transfer_rate / (final_h - init_h)\n",
        "\n",
        "    value = value.to('lb/min')\n",
        "    y['gen_mass_rate'] = value\n",
        "    return value\n",
        "gen_mass_rate(x)"
      ]
    },
    {
      "cell_type": "markdown",
      "metadata": {},
      "source": [
        "With the average generator production, we can estimate how long it takes to charge the accumulator from \"fully discharged\"."
      ]
    },
    {
      "cell_type": "code",
      "execution_count": 17,
      "metadata": {},
      "outputs": [
        {
          "data": {
            "text/html": [
              "24.500172954392568 s"
            ],
            "text/latex": [
              "$24.500172954392568\\ \\mathrm{s}$"
            ],
            "text/plain": [
              "24.500172954392568 <Unit('second')>"
            ]
          },
          "execution_count": 17,
          "metadata": {},
          "output_type": "execute_result"
        }
      ],
      "source": [
        "def accum_charge_time(y):\n",
        "    value = accum_steam_mass(y) / gen_mass_rate(y)\n",
        "\n",
        "    value = value.to('s')\n",
        "    y['accum_charge_time'] = value\n",
        "    return value\n",
        "accum_charge_time(x)\n"
      ]
    },
    {
      "cell_type": "markdown",
      "metadata": {},
      "source": [
        "### TODO: Generator Coil Dimensions"
      ]
    },
    {
      "cell_type": "markdown",
      "metadata": {},
      "source": [
        "## Evalution of Initial Iteration\n",
        "Now that we have calculated a single design iteration, let's evaluate the results."
      ]
    },
    {
      "cell_type": "code",
      "execution_count": 18,
      "metadata": {},
      "outputs": [
        {
          "data": {
            "text/html": [
              "<div>\n",
              "<style scoped>\n",
              "    .dataframe tbody tr th:only-of-type {\n",
              "        vertical-align: middle;\n",
              "    }\n",
              "\n",
              "    .dataframe tbody tr th {\n",
              "        vertical-align: top;\n",
              "    }\n",
              "\n",
              "    .dataframe thead th {\n",
              "        text-align: right;\n",
              "    }\n",
              "</style>\n",
              "<table border=\"1\" class=\"dataframe\">\n",
              "  <thead>\n",
              "    <tr style=\"text-align: right;\">\n",
              "      <th></th>\n",
              "      <th>trike_weight</th>\n",
              "      <th>avg_pressure</th>\n",
              "      <th>pressure_deadband</th>\n",
              "      <th>max_velocity</th>\n",
              "      <th>max_rpm</th>\n",
              "      <th>wheel_dia</th>\n",
              "      <th>max_accel</th>\n",
              "      <th>road_force</th>\n",
              "      <th>cyl_volume</th>\n",
              "      <th>cyl_bore</th>\n",
              "      <th>cyl_stroke</th>\n",
              "      <th>max_piston_speed</th>\n",
              "      <th>max_road_slope</th>\n",
              "      <th>max_steam_mass_rate</th>\n",
              "      <th>mass_steam_liquid_rate</th>\n",
              "      <th>accum_capacity</th>\n",
              "      <th>accum_steam_mass</th>\n",
              "      <th>accum_buffer_time</th>\n",
              "      <th>accum_surface_area</th>\n",
              "      <th>burner_power</th>\n",
              "      <th>gen_coil_efficiency</th>\n",
              "      <th>gen_mass_rate</th>\n",
              "      <th>accum_charge_time</th>\n",
              "    </tr>\n",
              "  </thead>\n",
              "  <tbody>\n",
              "    <tr>\n",
              "      <th>1</th>\n",
              "      <td>2000 lb</td>\n",
              "      <td>125.0 lbf/in²</td>\n",
              "      <td>40.0 lbf/in²</td>\n",
              "      <td>55.0 mi/h</td>\n",
              "      <td>350.0 1/min</td>\n",
              "      <td>52.821251970155906 in</td>\n",
              "      <td>7.0 ft/s²</td>\n",
              "      <td>435.13330240194153 lbf</td>\n",
              "      <td>198.58422937057054 in³</td>\n",
              "      <td>5.0 in</td>\n",
              "      <td>10.113811751814735 in</td>\n",
              "      <td>2.4582181341216365 ft/s</td>\n",
              "      <td>0.1</td>\n",
              "      <td>11.416322302878683 lb/min</td>\n",
              "      <td>1.3720272953619692 gal/min</td>\n",
              "      <td>15 gal</td>\n",
              "      <td>2.8875662456430393 lb</td>\n",
              "      <td>15.17598839119105 s</td>\n",
              "      <td>1.5804678543993678 ft²</td>\n",
              "      <td>700000.0 Btu/h</td>\n",
              "      <td>0.7</td>\n",
              "      <td>7.071540885082615 lb/min</td>\n",
              "      <td>24.500172954392568 s</td>\n",
              "    </tr>\n",
              "  </tbody>\n",
              "</table>\n",
              "</div>"
            ],
            "text/plain": [
              "  trike_weight   avg_pressure pressure_deadband max_velocity      max_rpm  \\\n",
              "1      2000 lb  125.0 lbf/in²      40.0 lbf/in²    55.0 mi/h  350.0 1/min   \n",
              "\n",
              "               wheel_dia  max_accel              road_force  \\\n",
              "1  52.821251970155906 in  7.0 ft/s²  435.13330240194153 lbf   \n",
              "\n",
              "               cyl_volume cyl_bore             cyl_stroke  \\\n",
              "1  198.58422937057054 in³   5.0 in  10.113811751814735 in   \n",
              "\n",
              "          max_piston_speed  max_road_slope        max_steam_mass_rate  \\\n",
              "1  2.4582181341216365 ft/s             0.1  11.416322302878683 lb/min   \n",
              "\n",
              "       mass_steam_liquid_rate accum_capacity       accum_steam_mass  \\\n",
              "1  1.3720272953619692 gal/min         15 gal  2.8875662456430393 lb   \n",
              "\n",
              "     accum_buffer_time      accum_surface_area    burner_power  \\\n",
              "1  15.17598839119105 s  1.5804678543993678 ft²  700000.0 Btu/h   \n",
              "\n",
              "   gen_coil_efficiency             gen_mass_rate     accum_charge_time  \n",
              "1                  0.7  7.071540885082615 lb/min  24.500172954392568 s  "
            ]
          },
          "execution_count": 18,
          "metadata": {},
          "output_type": "execute_result"
        }
      ],
      "source": [
        "df = pd.DataFrame(x, index=[1])\n",
        "pd.set_option('display.max_columns', None)\n",
        "df"
      ]
    },
    {
      "cell_type": "markdown",
      "metadata": {},
      "source": [
        "* Wheel diameter - Road legal tires up to 53\" are commercially available, but they are heavy, expensive, and wide\n",
        "* Cylinder dimensions - Performing any machining operations on the 10 inch axis of the cylinder block is going to be difficult on any readily-available machine, but finding and working with stock that supports a 5 inch or larger bore will be difficult too\n",
        "* Max Steam Heat Rate - 1.5 million BTU/hr is over twice what the largest DC burner available can put out, and that's not even including the inefficiency of heat transfer to the coil\n",
        "\n",
        "From here, we can tweak assumptions as we like to get a design that looks more reasonable."
      ]
    },
    {
      "cell_type": "markdown",
      "metadata": {},
      "source": [
        "# Iterations"
      ]
    },
    {
      "cell_type": "code",
      "execution_count": 19,
      "metadata": {},
      "outputs": [],
      "source": [
        "iters = [\n",
        "    x,  # 0: initial iteration from text\n",
        "    {   # 1: lighter, slower\n",
        "        \"trike_weight\": 1500 * ureg('lb'),              # 2000 -> 1500 lb\n",
        "        \"avg_pressure\": 125 * ureg('lbf/in**2'),\n",
        "        \"pressure_deadband\": 40 * ureg('lbf/in**2'),\n",
        "        \"max_velocity\": 45 * ureg('mi/hr'),             # 55 -> 45 MPH\n",
        "        \"max_rpm\": 350 * ureg('1/min'),\n",
        "        \"max_accel\": 7 * ureg('ft/s**2'),\n",
        "        \"cyl_bore\": 5.0 * ureg('in'),\n",
        "        \"max_road_slope\": 0.1 * ureg(''),\n",
        "        \"accum_capacity\": 15 * ureg('gal'),\n",
        "        \"gen_coil_efficiency\": 0.7,\n",
        "        \"burner_power\": 700000 * ureg('Btu/hr')\n",
        "    },\n",
        "    {   # 2: lighter, slower, lower avg pressure, bigger pressure deadband\n",
        "        \"trike_weight\": 1500 * ureg('lb'),              # 2000 -> 1500 lb\n",
        "        \"avg_pressure\": 110 * ureg('lbf/in**2'),        # 125 -> 110 psi\n",
        "        \"pressure_deadband\": 70 * ureg('lbf/in**2'),    # 40 -> 70 psi\n",
        "        \"max_velocity\": 45 * ureg('mi/hr'),             # 55 -> 45 psi\n",
        "        \"max_rpm\": 350 * ureg('1/min'),\n",
        "        \"max_accel\": 7 * ureg('ft/s**2'),\n",
        "        \"cyl_bore\": 5.0 * ureg('in'),\n",
        "        \"max_road_slope\": 0.1 * ureg(''),\n",
        "        \"accum_capacity\": 15 * ureg('gal'),\n",
        "        \"gen_coil_efficiency\": 0.7,\n",
        "        \"burner_power\": 700000 * ureg('Btu/hr')\n",
        "    },\n",
        "    {   # 3: lighter, higher rpm\n",
        "        \"trike_weight\": 1500 * ureg('lb'),              # 2000 -> 1500 lb\n",
        "        \"avg_pressure\": 125 * ureg('lbf/in**2'),        \n",
        "        \"pressure_deadband\": 40 * ureg('lbf/in**2'),\n",
        "        \"max_velocity\": 55 * ureg('mi/hr'),\n",
        "        \"max_rpm\": 450 * ureg('1/min'),                 # 350 -> 450 RPM\n",
        "        \"max_accel\": 7 * ureg('ft/s**2'),\n",
        "        \"cyl_bore\": 5.0 * ureg('in'),\n",
        "        \"max_road_slope\": 0.1 * ureg(''),\n",
        "        \"accum_capacity\": 15 * ureg('gal'),\n",
        "        \"gen_coil_efficiency\": 0.7,\n",
        "        \"burner_power\": 700000 * ureg('Btu/hr')\n",
        "    },\n",
        "    {   # 4: lighter, higher rpm, lower avg pressure, bigger pressure deadband\n",
        "        \"trike_weight\": 1500 * ureg('lb'),              # 2000 -> 1500 lb\n",
        "        \"avg_pressure\": 110 * ureg('lbf/in**2'),        # 125 -> 110 psi\n",
        "        \"pressure_deadband\": 70 * ureg('lbf/in**2'),    # 40 -> 70 psi\n",
        "        \"max_velocity\": 55 * ureg('mi/hr'),\n",
        "        \"max_rpm\": 450 * ureg('1/min'),                 # 350 -> 450\n",
        "        \"max_accel\": 7 * ureg('ft/s**2'),\n",
        "        \"cyl_bore\": 5.0 * ureg('in'),\n",
        "        \"max_road_slope\": 0.1 * ureg(''),\n",
        "        \"accum_capacity\": 15 * ureg('gal'),\n",
        "        \"gen_coil_efficiency\": 0.7,\n",
        "        \"burner_power\": 700000 * ureg('Btu/hr')\n",
        "    }   \n",
        "]"
      ]
    },
    {
      "cell_type": "code",
      "execution_count": 20,
      "metadata": {},
      "outputs": [
        {
          "data": {
            "text/html": [
              "<div>\n",
              "<style scoped>\n",
              "    .dataframe tbody tr th:only-of-type {\n",
              "        vertical-align: middle;\n",
              "    }\n",
              "\n",
              "    .dataframe tbody tr th {\n",
              "        vertical-align: top;\n",
              "    }\n",
              "\n",
              "    .dataframe thead th {\n",
              "        text-align: right;\n",
              "    }\n",
              "</style>\n",
              "<table border=\"1\" class=\"dataframe\">\n",
              "  <thead>\n",
              "    <tr style=\"text-align: right;\">\n",
              "      <th></th>\n",
              "      <th>trike_weight</th>\n",
              "      <th>avg_pressure</th>\n",
              "      <th>pressure_deadband</th>\n",
              "      <th>max_velocity</th>\n",
              "      <th>max_rpm</th>\n",
              "      <th>wheel_dia</th>\n",
              "      <th>max_accel</th>\n",
              "      <th>road_force</th>\n",
              "      <th>cyl_volume</th>\n",
              "      <th>cyl_bore</th>\n",
              "      <th>cyl_stroke</th>\n",
              "      <th>max_piston_speed</th>\n",
              "      <th>max_road_slope</th>\n",
              "      <th>max_steam_mass_rate</th>\n",
              "      <th>mass_steam_liquid_rate</th>\n",
              "      <th>accum_capacity</th>\n",
              "      <th>accum_steam_mass</th>\n",
              "      <th>accum_buffer_time</th>\n",
              "      <th>accum_surface_area</th>\n",
              "      <th>burner_power</th>\n",
              "      <th>gen_coil_efficiency</th>\n",
              "      <th>gen_mass_rate</th>\n",
              "      <th>accum_charge_time</th>\n",
              "    </tr>\n",
              "  </thead>\n",
              "  <tbody>\n",
              "    <tr>\n",
              "      <th>0</th>\n",
              "      <td>2000 lb</td>\n",
              "      <td>125.0 lbf/in²</td>\n",
              "      <td>40.0 lbf/in²</td>\n",
              "      <td>55.0 mi/h</td>\n",
              "      <td>350.0 1/min</td>\n",
              "      <td>52.821251970155906 in</td>\n",
              "      <td>7.0 ft/s²</td>\n",
              "      <td>435.13330240194153 lbf</td>\n",
              "      <td>198.58422937057054 in³</td>\n",
              "      <td>5.0 in</td>\n",
              "      <td>10.113811751814735 in</td>\n",
              "      <td>2.4582181341216365 ft/s</td>\n",
              "      <td>0.1</td>\n",
              "      <td>11.416322302878683 lb/min</td>\n",
              "      <td>1.3720272953619692 gal/min</td>\n",
              "      <td>15 gal</td>\n",
              "      <td>2.8875662456430393 lb</td>\n",
              "      <td>15.17598839119105 s</td>\n",
              "      <td>1.5804678543993678 ft²</td>\n",
              "      <td>700000.0 Btu/h</td>\n",
              "      <td>0.7</td>\n",
              "      <td>7.071540885082615 lb/min</td>\n",
              "      <td>24.500172954392568 s</td>\n",
              "    </tr>\n",
              "    <tr>\n",
              "      <th>1</th>\n",
              "      <td>1500 lb</td>\n",
              "      <td>125.0 lbf/in²</td>\n",
              "      <td>40.0 lbf/in²</td>\n",
              "      <td>45.0 mi/h</td>\n",
              "      <td>350.0 1/min</td>\n",
              "      <td>43.2173879755821 in</td>\n",
              "      <td>7.0 ft/s²</td>\n",
              "      <td>326.34997680145614 lbf</td>\n",
              "      <td>121.85850438648647 in³</td>\n",
              "      <td>5.0 in</td>\n",
              "      <td>6.206202665886314 in</td>\n",
              "      <td>1.5084520368473677 ft/s</td>\n",
              "      <td>0.1</td>\n",
              "      <td>7.0054705040391925 lb/min</td>\n",
              "      <td>0.8419258403357539 gal/min</td>\n",
              "      <td>15 gal</td>\n",
              "      <td>2.8875662456430393 lb</td>\n",
              "      <td>24.731240341200227 s</td>\n",
              "      <td>0.9698325470177939 ft²</td>\n",
              "      <td>700000.0 Btu/h</td>\n",
              "      <td>0.7</td>\n",
              "      <td>7.071540885082615 lb/min</td>\n",
              "      <td>24.500172954392568 s</td>\n",
              "    </tr>\n",
              "    <tr>\n",
              "      <th>2</th>\n",
              "      <td>1500 lb</td>\n",
              "      <td>110.0 lbf/in²</td>\n",
              "      <td>70.0 lbf/in²</td>\n",
              "      <td>45.0 mi/h</td>\n",
              "      <td>350.0 1/min</td>\n",
              "      <td>43.2173879755821 in</td>\n",
              "      <td>7.0 ft/s²</td>\n",
              "      <td>326.34997680145614 lbf</td>\n",
              "      <td>138.47557316646188 in³</td>\n",
              "      <td>5.0 in</td>\n",
              "      <td>7.052503029416266 in</td>\n",
              "      <td>1.714150041872009 ft/s</td>\n",
              "      <td>0.1</td>\n",
              "      <td>7.517550075705447 lb/min</td>\n",
              "      <td>0.9034681769204705 gal/min</td>\n",
              "      <td>15 gal</td>\n",
              "      <td>5.555652216478453 lb</td>\n",
              "      <td>44.34145827188609 s</td>\n",
              "      <td>1.1661091853372991 ft²</td>\n",
              "      <td>700000.0 Btu/h</td>\n",
              "      <td>0.7</td>\n",
              "      <td>7.083060417041882 lb/min</td>\n",
              "      <td>47.061455551994364 s</td>\n",
              "    </tr>\n",
              "    <tr>\n",
              "      <th>3</th>\n",
              "      <td>1500 lb</td>\n",
              "      <td>125.0 lbf/in²</td>\n",
              "      <td>40.0 lbf/in²</td>\n",
              "      <td>55.0 mi/h</td>\n",
              "      <td>450.0 1/min</td>\n",
              "      <td>41.08319597678793 in</td>\n",
              "      <td>7.0 ft/s²</td>\n",
              "      <td>326.34997680145614 lbf</td>\n",
              "      <td>115.84080046616616 in³</td>\n",
              "      <td>5.0 in</td>\n",
              "      <td>5.899723521891929 in</td>\n",
              "      <td>1.8436636005912275 ft/s</td>\n",
              "      <td>0.1</td>\n",
              "      <td>8.562241727159012 lb/min</td>\n",
              "      <td>1.029020471521477 gal/min</td>\n",
              "      <td>15 gal</td>\n",
              "      <td>2.8875662456430393 lb</td>\n",
              "      <td>20.23465118825473 s</td>\n",
              "      <td>1.1853508907995256 ft²</td>\n",
              "      <td>700000.0 Btu/h</td>\n",
              "      <td>0.7</td>\n",
              "      <td>7.071540885082615 lb/min</td>\n",
              "      <td>24.500172954392568 s</td>\n",
              "    </tr>\n",
              "    <tr>\n",
              "      <th>4</th>\n",
              "      <td>1500 lb</td>\n",
              "      <td>110.0 lbf/in²</td>\n",
              "      <td>70.0 lbf/in²</td>\n",
              "      <td>55.0 mi/h</td>\n",
              "      <td>450.0 1/min</td>\n",
              "      <td>41.08319597678793 in</td>\n",
              "      <td>7.0 ft/s²</td>\n",
              "      <td>326.34997680145614 lbf</td>\n",
              "      <td>131.637273257007 in³</td>\n",
              "      <td>5.0 in</td>\n",
              "      <td>6.704231274877191 in</td>\n",
              "      <td>2.095072273399122 ft/s</td>\n",
              "      <td>0.1</td>\n",
              "      <td>9.188116759195545 lb/min</td>\n",
              "      <td>1.1042388829027971 gal/min</td>\n",
              "      <td>15 gal</td>\n",
              "      <td>5.555652216478453 lb</td>\n",
              "      <td>36.27937494972499 s</td>\n",
              "      <td>1.4252445598566987 ft²</td>\n",
              "      <td>700000.0 Btu/h</td>\n",
              "      <td>0.7</td>\n",
              "      <td>7.083060417041882 lb/min</td>\n",
              "      <td>47.061455551994364 s</td>\n",
              "    </tr>\n",
              "  </tbody>\n",
              "</table>\n",
              "</div>"
            ],
            "text/plain": [
              "  trike_weight   avg_pressure pressure_deadband max_velocity      max_rpm  \\\n",
              "0      2000 lb  125.0 lbf/in²      40.0 lbf/in²    55.0 mi/h  350.0 1/min   \n",
              "1      1500 lb  125.0 lbf/in²      40.0 lbf/in²    45.0 mi/h  350.0 1/min   \n",
              "2      1500 lb  110.0 lbf/in²      70.0 lbf/in²    45.0 mi/h  350.0 1/min   \n",
              "3      1500 lb  125.0 lbf/in²      40.0 lbf/in²    55.0 mi/h  450.0 1/min   \n",
              "4      1500 lb  110.0 lbf/in²      70.0 lbf/in²    55.0 mi/h  450.0 1/min   \n",
              "\n",
              "               wheel_dia  max_accel              road_force  \\\n",
              "0  52.821251970155906 in  7.0 ft/s²  435.13330240194153 lbf   \n",
              "1    43.2173879755821 in  7.0 ft/s²  326.34997680145614 lbf   \n",
              "2    43.2173879755821 in  7.0 ft/s²  326.34997680145614 lbf   \n",
              "3   41.08319597678793 in  7.0 ft/s²  326.34997680145614 lbf   \n",
              "4   41.08319597678793 in  7.0 ft/s²  326.34997680145614 lbf   \n",
              "\n",
              "               cyl_volume cyl_bore             cyl_stroke  \\\n",
              "0  198.58422937057054 in³   5.0 in  10.113811751814735 in   \n",
              "1  121.85850438648647 in³   5.0 in   6.206202665886314 in   \n",
              "2  138.47557316646188 in³   5.0 in   7.052503029416266 in   \n",
              "3  115.84080046616616 in³   5.0 in   5.899723521891929 in   \n",
              "4    131.637273257007 in³   5.0 in   6.704231274877191 in   \n",
              "\n",
              "          max_piston_speed max_road_slope        max_steam_mass_rate  \\\n",
              "0  2.4582181341216365 ft/s            0.1  11.416322302878683 lb/min   \n",
              "1  1.5084520368473677 ft/s            0.1  7.0054705040391925 lb/min   \n",
              "2   1.714150041872009 ft/s            0.1   7.517550075705447 lb/min   \n",
              "3  1.8436636005912275 ft/s            0.1   8.562241727159012 lb/min   \n",
              "4   2.095072273399122 ft/s            0.1   9.188116759195545 lb/min   \n",
              "\n",
              "       mass_steam_liquid_rate accum_capacity       accum_steam_mass  \\\n",
              "0  1.3720272953619692 gal/min         15 gal  2.8875662456430393 lb   \n",
              "1  0.8419258403357539 gal/min         15 gal  2.8875662456430393 lb   \n",
              "2  0.9034681769204705 gal/min         15 gal   5.555652216478453 lb   \n",
              "3   1.029020471521477 gal/min         15 gal  2.8875662456430393 lb   \n",
              "4  1.1042388829027971 gal/min         15 gal   5.555652216478453 lb   \n",
              "\n",
              "      accum_buffer_time      accum_surface_area    burner_power  \\\n",
              "0   15.17598839119105 s  1.5804678543993678 ft²  700000.0 Btu/h   \n",
              "1  24.731240341200227 s  0.9698325470177939 ft²  700000.0 Btu/h   \n",
              "2   44.34145827188609 s  1.1661091853372991 ft²  700000.0 Btu/h   \n",
              "3   20.23465118825473 s  1.1853508907995256 ft²  700000.0 Btu/h   \n",
              "4   36.27937494972499 s  1.4252445598566987 ft²  700000.0 Btu/h   \n",
              "\n",
              "   gen_coil_efficiency             gen_mass_rate     accum_charge_time  \n",
              "0                  0.7  7.071540885082615 lb/min  24.500172954392568 s  \n",
              "1                  0.7  7.071540885082615 lb/min  24.500172954392568 s  \n",
              "2                  0.7  7.083060417041882 lb/min  47.061455551994364 s  \n",
              "3                  0.7  7.071540885082615 lb/min  24.500172954392568 s  \n",
              "4                  0.7  7.083060417041882 lb/min  47.061455551994364 s  "
            ]
          },
          "execution_count": 20,
          "metadata": {},
          "output_type": "execute_result"
        }
      ],
      "source": [
        "# run calculations\n",
        "for each in iters:\n",
        "    max_hp(each)\n",
        "    max_piston_speed(each)\n",
        "    max_steam_liquid_rate(each)\n",
        "    accum_buffer_time(each)\n",
        "    accum_surface_area(each)\n",
        "    accum_charge_time(each)\n",
        "# display\n",
        "df = pd.DataFrame(iters)\n",
        "df"
      ]
    }
  ],
  "metadata": {
    "colab": {
      "provenance": []
    },
    "kernelspec": {
      "display_name": "base",
      "language": "python",
      "name": "python3"
    },
    "language_info": {
      "codemirror_mode": {
        "name": "ipython",
        "version": 3
      },
      "file_extension": ".py",
      "mimetype": "text/x-python",
      "name": "python",
      "nbconvert_exporter": "python",
      "pygments_lexer": "ipython3",
      "version": "3.11.5"
    }
  },
  "nbformat": 4,
  "nbformat_minor": 0
}
