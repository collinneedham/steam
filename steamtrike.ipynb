{
  "cells": [
    {
      "cell_type": "markdown",
      "metadata": {
        "id": "ipFG9UEmNq0U"
      },
      "source": [
        "# Steam Trike Calculations - Test\n",
        "Like many design tasks, sizing the various components of the steam trike is an iterative process. We start with certain assumed parameters and goals, then develop cylinder and accumulator dimensions. These, in turn, affect piping and generator design. At various points in the design, we can compare the results against the initial assumptions and adjust.\n",
        "\n",
        "In this notebook, we start with one set of assumed parameters as a demonstration, but develop the code in a way that we can evaluate different sets of parameters easily."
      ]
    },
    {
      "cell_type": "code",
      "execution_count": null,
      "metadata": {
        "id": "25iAbNxlNq0V"
      },
      "outputs": [],
      "source": [
        "import numpy as np\n",
        "import pint\n",
        "from iapws import IAPWS97 as steam\n",
        "ureg = pint.UnitRegistry()"
      ]
    },
    {
      "cell_type": "markdown",
      "metadata": {
        "id": "Kkgl9r0PNq0W"
      },
      "source": [
        "## Initial Parameters"
      ]
    },
    {
      "cell_type": "code",
      "execution_count": null,
      "metadata": {
        "id": "ayy2sG3ANq0W"
      },
      "outputs": [],
      "source": [
        "trike_weight = 2000 * ureg('lb')        # Based on homebuilt electric and CE trikes coming in at 800-1500 lb online\n",
        "avg_pressure = 125 * ureg('lbf/in**2')  # Based on max of 150 psi saturated steam with margin\n",
        "max_velocity = 55 * ureg('mi/hr')       # Based on a minimum speed for highway but not freeway travel"
      ]
    },
    {
      "cell_type": "markdown",
      "metadata": {
        "id": "qNyVAgk3Nq0W"
      },
      "source": [
        "What's the maximum RPM we can expect to be able to achieve with the reciprocating engine? Common practice says 250-500 RPM, but we can check top RPMs of prototypical locomotives and steam cars.\n",
        "\n",
        "| Prototype | Max Speed (mi/hr) | Driver Diameter (in) | rev/min |\n",
        "| --- | --- | --- | --- |\n",
        "| UP 844 | 120 | 80 | 504 |\n",
        "| UP 4014 | 80 | 68 | 395 |\n",
        "| Reading 2102 | 80 | 70 | 384 |\n",
        "| PM 1225 | 70 | 69 | 341 |\n",
        "| N&W 611 | 110 | 70 | 528 |\n",
        "| SP 4449 | 110 | 80 | 462 |\n",
        "| Stanley Steam Car | 60 | (N/A) | 900 |\n",
        "| Doble Steam Car | 70 | (N/A) | 900 |"
      ]
    },
    {
      "cell_type": "code",
      "execution_count": null,
      "metadata": {
        "id": "XbdBBHjPNq0W"
      },
      "outputs": [],
      "source": [
        "max_rpm = 350 * ureg('1/min')           # Conservative bet for larger reciprocating steam engine"
      ]
    },
    {
      "cell_type": "markdown",
      "metadata": {
        "id": "PZS3p-EaNq0W"
      },
      "source": [
        "## Required Wheel Diameter\n",
        "From the max RPM and max velocity,"
      ]
    },
    {
      "cell_type": "code",
      "execution_count": null,
      "metadata": {
        "id": "KuqONMYHNq0W",
        "outputId": "cee64a58-3d18-4ab3-b1f0-d068fc88c288"
      },
      "outputs": [
        {
          "data": {
            "text/html": [
              "52.821251970155906 inch"
            ],
            "text/latex": [
              "$52.821251970155906\\ \\mathrm{inch}$"
            ],
            "text/plain": [
              "52.821251970155906 <Unit('inch')>"
            ]
          },
          "execution_count": 124,
          "metadata": {},
          "output_type": "execute_result"
        }
      ],
      "source": [
        "def wheel_dia():\n",
        "    return max_velocity / max_rpm / np.pi\n",
        "wheel_dia().to('in')"
      ]
    },
    {
      "cell_type": "markdown",
      "metadata": {
        "id": "y8yT_BSfNq0X"
      },
      "source": [
        "## Required Acceleration\n",
        "Let's try two paths I have thought of to come up with a target maximum acceleration.\n",
        "\n",
        "### Normal Acceleration Data\n",
        "We want acceleration behavior compatible with traffic, so we can look at published data for conventional road vehicles. The data shown in Figures 1 and 2 are for consumer vehicles accelerating in normal traffic, not the maximum acceleration the vehicles are capable of. Thus, we want to target a value on the high end to reflect extra capacity available for \"flooring it\"."
      ]
    },
    {
      "cell_type": "markdown",
      "metadata": {
        "id": "detchGDkNq0Y"
      },
      "source": [
        "<div align=\"center\">\n",
        "<img src=\"https://github.com/collinneedham/steam/blob/main/fig5e.PNG?raw=1\" width=\"400\"/><br />\n",
        "Fig 1. Acceleration vs speed of various gasoline vehicles. Graph, \"Scatter plots of acceleration-speed,\" from P.S.Bokare and A.K.Maurya, Acceleration-Deceleration Behaviour of Various Vehicle Types, page 10, figure 5(e).\n",
        "</div><br />\n",
        "<div align=\"center\">\n",
        "<img src=\"https://github.com/collinneedham/steam/blob/main/fig6e.PNG?raw=1\" width=\"400\"/><br />\n",
        "Fig 2. Idealized acceleration vs speed of gasoline vehicles. Graph, \"Idealized plot of acceleration with speed for all vehicle types,\" from P.S.Bokare and A.K.Maurya, Acceleration-Deceleration Behaviour of Various Vehicle Types, page 11, figure 6(e).\n",
        "</div>\n",
        "<br />"
      ]
    },
    {
      "cell_type": "markdown",
      "metadata": {
        "id": "mJ5Kz5ePNq0Y"
      },
      "source": [
        "\n",
        "The acceleration curves for these conventional vehicles include gear shifts and will not represent the curve for the steam trike. Instead, we are looking to have a comparable acceleration from a stop.\n",
        "\n",
        "Candidate `max_accel` = 2 \\[m/s^2\\] ≅ 6.5 \\[ft/s^2\\]\n",
        "\n",
        "### 0-60 MPH Time Data\n",
        "0-60 MPH times for vehicles represent maximum acceleration, which is what we want. However, because car acceleration varies as the car accelerates, you're looking at an average max acceleration instead of the highest instantaneous acceleration. Data from ZeroTo60Times.com.\n",
        "\n",
        "| Prototype | 0-60 MPH Time (s) | Acceleration (m/s^2) |\n",
        "| --- | --- | --- |\n",
        "| Geo Metro | 12.6 | 7.0 |\n",
        "| Nissan Versa | 9.0 | 10.0 |\n",
        "| Honda Fit | 7.8 | 11.3 |\n",
        "\n",
        "### Selection\n",
        "We see that the candidate max_accel from normal vehicle acceleration is lower than even the Geo Metro's 0-60 MPH, which makes sense as that was normal traffic acceleration instead of max. Given that we are looking for a usable max acceleration target, let's use that of the Geo Metro."
      ]
    },
    {
      "cell_type": "code",
      "execution_count": null,
      "metadata": {
        "id": "v8SbmExlNq0Y"
      },
      "outputs": [],
      "source": [
        "max_accel = 7.0 * ureg('ft/s**2')"
      ]
    },
    {
      "cell_type": "markdown",
      "metadata": {
        "id": "WoUUPBtANq0Z"
      },
      "source": [
        "## Cylinder Dimensions\n",
        "### Required Force at Roadway\n",
        "Required force on the road to accelerate `trike_weight` by `max_accel`"
      ]
    },
    {
      "cell_type": "code",
      "execution_count": null,
      "metadata": {
        "id": "kqm67QV2Nq0Z",
        "outputId": "7cc38a97-26de-4cf6-b6b0-e7e4f3ef79e1"
      },
      "outputs": [
        {
          "data": {
            "text/html": [
              "435.13330240194153 force_pound"
            ],
            "text/latex": [
              "$435.13330240194153\\ \\mathrm{force\\_pound}$"
            ],
            "text/plain": [
              "435.13330240194153 <Unit('force_pound')>"
            ]
          },
          "execution_count": 6,
          "metadata": {},
          "output_type": "execute_result"
        }
      ],
      "source": [
        "def road_force():\n",
        "    return trike_weight * max_accel\n",
        "road_force().to('lbf')"
      ]
    },
    {
      "cell_type": "markdown",
      "metadata": {
        "id": "EzS0jPxSNq0Z"
      },
      "source": [
        "### Required Cylinder Volume\n",
        "The mean tractive force of a two cylinder engine, at 90 percent cutoff, with the cylinders 90 degrees out of phase is given by:\n",
        "\n",
        "F = K2 * K3 * avg_pressure * cyl_volume / wheel_dia\n",
        "* K2 = 1.2 - The ratio of mean torque of two identical piston-crank assemblies 90 degrees out of phase to the peak torque of one of the piston-crank assemblies (Jeffrey Hook, Fundamentals of Steam Locomotive Tractive Force, page 7)\n",
        "* K3 = 0.9 - A fudge factor to account for pressure loss between the boiler and the cylinder (Hook)\n",
        "* cyl_volume - The swept volume of the cylinder\n",
        "\n",
        "We will solve for the swept volume of the cylinder,"
      ]
    },
    {
      "cell_type": "code",
      "execution_count": null,
      "metadata": {
        "id": "cpTVnvIsNq0a",
        "outputId": "7a7a3773-b674-4d8e-c01b-0e124c2c9ebe"
      },
      "outputs": [
        {
          "data": {
            "text/html": [
              "198.58422937057057 inch<sup>3</sup>"
            ],
            "text/latex": [
              "$198.58422937057057\\ \\mathrm{inch}^{3}$"
            ],
            "text/plain": [
              "198.58422937057057 <Unit('inch ** 3')>"
            ]
          },
          "execution_count": 7,
          "metadata": {},
          "output_type": "execute_result"
        }
      ],
      "source": [
        "def cyl_volume():\n",
        "    return road_force() * wheel_dia() * 1.2 * 0.9 / avg_pressure\n",
        "cyl_volume().to('in**3')"
      ]
    },
    {
      "cell_type": "markdown",
      "metadata": {
        "id": "CP5cUVz9Nq0a"
      },
      "source": [
        "### Required Cylinder Dimensions\n",
        "We set cylinder bore as a parameter and calculate stroke,"
      ]
    },
    {
      "cell_type": "code",
      "execution_count": null,
      "metadata": {
        "id": "nsA_uO4DNq0a",
        "outputId": "68a224b6-3584-4fb5-83b5-44b07b4cd2bd"
      },
      "outputs": [
        {
          "data": {
            "text/html": [
              "10.113811751814737 inch"
            ],
            "text/latex": [
              "$10.113811751814737\\ \\mathrm{inch}$"
            ],
            "text/plain": [
              "10.113811751814737 <Unit('inch')>"
            ]
          },
          "execution_count": 8,
          "metadata": {},
          "output_type": "execute_result"
        }
      ],
      "source": [
        "cyl_bore = 5.0 * ureg('in')\n",
        "def cyl_stroke():\n",
        "    return cyl_volume() / (cyl_bore**2 * np.pi / 4)\n",
        "cyl_stroke().to('in')"
      ]
    },
    {
      "cell_type": "markdown",
      "metadata": {
        "id": "6Iv8DQWqNq0b"
      },
      "source": [
        "## Accumulator Sizing\n",
        "### Maximum Steam Rate\n",
        "Maximum steam rate occurs at max cutoff and maximum speed, and represents 4 strokes per revolution"
      ]
    },
    {
      "cell_type": "markdown",
      "source": [],
      "metadata": {
        "id": "RnCB6RF4WdZH"
      }
    },
    {
      "cell_type": "code",
      "execution_count": null,
      "metadata": {
        "id": "214okoEINq0b",
        "outputId": "ad2a38dd-007b-483b-f84d-109882779bb4"
      },
      "outputs": [
        {
          "data": {
            "text/html": [
              "144.80100058270773 foot<sup>3</sup>/minute"
            ],
            "text/latex": [
              "$144.80100058270773\\ \\frac{\\mathrm{foot}^{3}}{\\mathrm{minute}}$"
            ],
            "text/plain": [
              "144.80100058270773 <Unit('foot ** 3 / minute')>"
            ]
          },
          "execution_count": 9,
          "metadata": {},
          "output_type": "execute_result"
        }
      ],
      "source": [
        "def max_steam_vol_rate():\n",
        "    return 0.9 * cyl_volume() * max_rpm * 4\n",
        "max_steam_vol_rate().to('ft**3/min')"
      ]
    },
    {
      "cell_type": "code",
      "execution_count": null,
      "metadata": {
        "id": "BmpTWP-PNq0c",
        "outputId": "d34be014-904f-4e69-a6f4-94d722572893"
      },
      "outputs": [
        {
          "data": {
            "text/html": [
              "40.37114754565772 pound/minute"
            ],
            "text/latex": [
              "$40.37114754565772\\ \\frac{\\mathrm{pound}}{\\mathrm{minute}}$"
            ],
            "text/plain": [
              "40.37114754565772 <Unit('pound / minute')>"
            ]
          },
          "execution_count": 10,
          "metadata": {},
          "output_type": "execute_result"
        }
      ],
      "source": [
        "\n",
        "def max_steam_mass_rate():\n",
        "    state = steam(P=avg_pressure.to('MPa').magnitude, x=1)\n",
        "    v = state.v * ureg('m**3/kg')\n",
        "    return max_steam_vol_rate().to('m**3/min') / v\n",
        "max_steam_mass_rate().to('lb/min')\n"
      ]
    },
    {
      "cell_type": "code",
      "execution_count": null,
      "metadata": {
        "id": "kstrhAw0Nq0c",
        "outputId": "e9cd46a3-ccdb-4c33-d1bc-402232d74bbc"
      },
      "outputs": [
        {
          "data": {
            "text/html": [
              "4.85424118731767 gallon/minute"
            ],
            "text/latex": [
              "$4.85424118731767\\ \\frac{\\mathrm{gallon}}{\\mathrm{minute}}$"
            ],
            "text/plain": [
              "4.85424118731767 <Unit('gallon / minute')>"
            ]
          },
          "execution_count": 11,
          "metadata": {},
          "output_type": "execute_result"
        }
      ],
      "source": [
        "def max_steam_liquid_rate():\n",
        "    state = steam(P=0.1, T=300)\n",
        "    v = state.v * ureg('m**3/kg')\n",
        "    return max_steam_mass_rate() * v\n",
        "max_steam_liquid_rate().to('gal/min')"
      ]
    },
    {
      "cell_type": "markdown",
      "metadata": {
        "id": "Rqp_ij70Nq0c"
      },
      "source": [
        "Empirical data shows the relationship between available saturated water surface area, pressure, and the maximum steam release rate in an accumulator,"
      ]
    },
    {
      "cell_type": "code",
      "execution_count": null,
      "metadata": {
        "id": "KHk7iPTTNq0c",
        "outputId": "d0c19d53-f032-4df5-a3de-e7f6283e68f8"
      },
      "outputs": [
        {
          "data": {
            "text/html": [
              "5.588954064921339 foot<sup>2</sup>"
            ],
            "text/latex": [
              "$5.588954064921339\\ \\mathrm{foot}^{2}$"
            ],
            "text/plain": [
              "5.588954064921339 <Unit('foot ** 2')>"
            ]
          },
          "execution_count": 12,
          "metadata": {},
          "output_type": "execute_result"
        }
      ],
      "source": [
        "\n",
        "def accum_surface_area():\n",
        "    area = max_steam_mass_rate().to('kg/hr').magnitude / 220 / (avg_pressure.to('bar').magnitude + 1)\n",
        "    return (area * ureg('m**2'))\n",
        "accum_surface_area().to('ft**2')"
      ]
    }
  ],
  "metadata": {
    "kernelspec": {
      "display_name": "base",
      "language": "python",
      "name": "python3"
    },
    "language_info": {
      "codemirror_mode": {
        "name": "ipython",
        "version": 3
      },
      "file_extension": ".py",
      "mimetype": "text/x-python",
      "name": "python",
      "nbconvert_exporter": "python",
      "pygments_lexer": "ipython3",
      "version": "3.11.5"
    },
    "colab": {
      "provenance": []
    }
  },
  "nbformat": 4,
  "nbformat_minor": 0
}